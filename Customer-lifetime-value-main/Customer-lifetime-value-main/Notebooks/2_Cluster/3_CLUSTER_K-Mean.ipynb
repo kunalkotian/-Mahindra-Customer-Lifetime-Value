{
 "cells": [
  {
   "cell_type": "code",
   "execution_count": 1,
   "metadata": {},
   "outputs": [],
   "source": [
    "import warnings\n",
    "warnings.simplefilter('ignore')\n",
    "import pandas as pd\n",
    "import numpy as np\n",
    "pd.set_option('display.max_columns', None)\n",
    "pd.set_option('display.max_rows',None)\n",
    "from sklearn.preprocessing import LabelEncoder,StandardScaler\n",
    "from sklearn.cluster import KMeans\n",
    "from sklearn.metrics import silhouette_score,silhouette_samples\n",
    "from sklearn.decomposition import PCA\n",
    "pd.set_option('display.max_columns', None)\n",
    "pd.set_option('float_format', '{:f}'.format)"
   ]
  },
  {
   "cell_type": "code",
   "execution_count": 35,
   "metadata": {},
   "outputs": [],
   "source": [
    "df = pd.read_csv('C:\\\\Users\\\\Om Computers\\\\Downloads\\\\cap_stone_all_seen\\\\Capstone_project\\\\4seenshot\\\\basic_clean.csv')"
   ]
  },
  {
   "cell_type": "code",
   "execution_count": 36,
   "metadata": {},
   "outputs": [],
   "source": [
    "df['Model'].fillna('OTHER_MODEL', inplace = True)\n"
   ]
  },
  {
   "cell_type": "code",
   "execution_count": 37,
   "metadata": {},
   "outputs": [
    {
     "data": {
      "text/plain": [
       "Unnamed: 0             0.000000\n",
       "Cust Type              0.000000\n",
       "Customer No.           0.000000\n",
       "Gate Pass Time         0.000000\n",
       "Invoice No             0.000000\n",
       "Job Card No            0.000000\n",
       "KMs Reading            0.000000\n",
       "Labour Total           0.000000\n",
       "Make                   0.000000\n",
       "Misc Total             0.000000\n",
       "Model                  0.000000\n",
       "OSL Total              0.000000\n",
       "Order Type             0.000000\n",
       "Parts Total            0.000000\n",
       "Pin code               0.000000\n",
       "Plant                  0.000000\n",
       "Plant Name1            0.000000\n",
       "Print Status           0.000000\n",
       "Recovrbl Exp           0.000000\n",
       "Total Amt Wtd Tax.     0.000000\n",
       "User ID                0.000000\n",
       "Invoice_DateTime       0.000000\n",
       "JobCard_DateTime       0.000000\n",
       "Service_Time           0.000000\n",
       "Clean_CITY            10.057088\n",
       "Clean_District        10.057088\n",
       "Clean_Location_Area   10.057088\n",
       "Business Partner      95.564765\n",
       "Partner Type          95.564765\n",
       "Data Origin           95.564765\n",
       "DBM Order              0.004165\n",
       "Item Category          0.004165\n",
       "Net value              0.004165\n",
       "Order Quantity         0.004165\n",
       "dtype: float64"
      ]
     },
     "execution_count": 37,
     "metadata": {},
     "output_type": "execute_result"
    }
   ],
   "source": [
    "df.isnull().sum()/len(df)*100"
   ]
  },
  {
   "cell_type": "code",
   "execution_count": 38,
   "metadata": {},
   "outputs": [],
   "source": [
    "df.drop(['Business Partner','Partner Type','Data Origin'], axis = 1, inplace = True)"
   ]
  },
  {
   "cell_type": "code",
   "execution_count": 39,
   "metadata": {},
   "outputs": [
    {
     "data": {
      "text/plain": [
       "('Clean_CITY', 'Clean_District', 'Clean_Location_Area')"
      ]
     },
     "execution_count": 39,
     "metadata": {},
     "output_type": "execute_result"
    }
   ],
   "source": [
    "'Clean_CITY','Clean_District','Clean_Location_Area'"
   ]
  },
  {
   "cell_type": "code",
   "execution_count": 40,
   "metadata": {},
   "outputs": [],
   "source": [
    "df_r=df\n",
    "df_r.drop(['Clean_CITY','Clean_District','Clean_Location_Area'], axis = 1, inplace = True)"
   ]
  },
  {
   "cell_type": "code",
   "execution_count": 41,
   "metadata": {},
   "outputs": [],
   "source": [
    "df_r.dropna(inplace=True)"
   ]
  },
  {
   "cell_type": "code",
   "execution_count": 42,
   "metadata": {},
   "outputs": [
    {
     "data": {
      "text/plain": [
       "Unnamed: 0           0.000000\n",
       "Cust Type            0.000000\n",
       "Customer No.         0.000000\n",
       "Gate Pass Time       0.000000\n",
       "Invoice No           0.000000\n",
       "Job Card No          0.000000\n",
       "KMs Reading          0.000000\n",
       "Labour Total         0.000000\n",
       "Make                 0.000000\n",
       "Misc Total           0.000000\n",
       "Model                0.000000\n",
       "OSL Total            0.000000\n",
       "Order Type           0.000000\n",
       "Parts Total          0.000000\n",
       "Pin code             0.000000\n",
       "Plant                0.000000\n",
       "Plant Name1          0.000000\n",
       "Print Status         0.000000\n",
       "Recovrbl Exp         0.000000\n",
       "Total Amt Wtd Tax.   0.000000\n",
       "User ID              0.000000\n",
       "Invoice_DateTime     0.000000\n",
       "JobCard_DateTime     0.000000\n",
       "Service_Time         0.000000\n",
       "DBM Order            0.000000\n",
       "Item Category        0.000000\n",
       "Net value            0.000000\n",
       "Order Quantity       0.000000\n",
       "dtype: float64"
      ]
     },
     "execution_count": 42,
     "metadata": {},
     "output_type": "execute_result"
    }
   ],
   "source": [
    "df_r.isnull().sum()/len(df)*100"
   ]
  },
  {
   "cell_type": "code",
   "execution_count": 44,
   "metadata": {},
   "outputs": [],
   "source": [
    "df_r.drop('Unnamed: 0', axis = 1, inplace = True)"
   ]
  },
  {
   "cell_type": "code",
   "execution_count": 45,
   "metadata": {},
   "outputs": [
    {
     "data": {
      "text/html": [
       "<div>\n",
       "<style scoped>\n",
       "    .dataframe tbody tr th:only-of-type {\n",
       "        vertical-align: middle;\n",
       "    }\n",
       "\n",
       "    .dataframe tbody tr th {\n",
       "        vertical-align: top;\n",
       "    }\n",
       "\n",
       "    .dataframe thead th {\n",
       "        text-align: right;\n",
       "    }\n",
       "</style>\n",
       "<table border=\"1\" class=\"dataframe\">\n",
       "  <thead>\n",
       "    <tr style=\"text-align: right;\">\n",
       "      <th></th>\n",
       "      <th>Cust Type</th>\n",
       "      <th>Customer No.</th>\n",
       "      <th>Gate Pass Time</th>\n",
       "      <th>Invoice No</th>\n",
       "      <th>Job Card No</th>\n",
       "      <th>KMs Reading</th>\n",
       "      <th>Labour Total</th>\n",
       "      <th>Make</th>\n",
       "      <th>Misc Total</th>\n",
       "      <th>Model</th>\n",
       "      <th>OSL Total</th>\n",
       "      <th>Order Type</th>\n",
       "      <th>Parts Total</th>\n",
       "      <th>Pin code</th>\n",
       "      <th>Plant</th>\n",
       "      <th>Plant Name1</th>\n",
       "      <th>Print Status</th>\n",
       "      <th>Recovrbl Exp</th>\n",
       "      <th>Total Amt Wtd Tax.</th>\n",
       "      <th>User ID</th>\n",
       "      <th>Invoice_DateTime</th>\n",
       "      <th>JobCard_DateTime</th>\n",
       "      <th>Service_Time</th>\n",
       "      <th>DBM Order</th>\n",
       "      <th>Item Category</th>\n",
       "      <th>Net value</th>\n",
       "      <th>Order Quantity</th>\n",
       "    </tr>\n",
       "  </thead>\n",
       "  <tbody>\n",
       "    <tr>\n",
       "      <th>0</th>\n",
       "      <td>Retail</td>\n",
       "      <td>67849</td>\n",
       "      <td>00:00:00</td>\n",
       "      <td>7005200002</td>\n",
       "      <td>168303</td>\n",
       "      <td>49317</td>\n",
       "      <td>1203.140000</td>\n",
       "      <td>GENERAL MOTORS</td>\n",
       "      <td>0.000000</td>\n",
       "      <td>SPARK</td>\n",
       "      <td>500.060000</td>\n",
       "      <td>Paid Service</td>\n",
       "      <td>2348.750000</td>\n",
       "      <td>400601</td>\n",
       "      <td>BC01</td>\n",
       "      <td>THANE</td>\n",
       "      <td>NO</td>\n",
       "      <td>0.000000</td>\n",
       "      <td>4051.950000</td>\n",
       "      <td>BC01FS1</td>\n",
       "      <td>2015-01-02 11:30:36</td>\n",
       "      <td>2014-12-13 14:29:43</td>\n",
       "      <td>19 days 21:00:53.000000000</td>\n",
       "      <td>168303.000000</td>\n",
       "      <td>P001</td>\n",
       "      <td>1203.140000</td>\n",
       "      <td>73.000000</td>\n",
       "    </tr>\n",
       "    <tr>\n",
       "      <th>1</th>\n",
       "      <td>Retail</td>\n",
       "      <td>67849</td>\n",
       "      <td>00:00:00</td>\n",
       "      <td>7005200002</td>\n",
       "      <td>168303</td>\n",
       "      <td>49317</td>\n",
       "      <td>1203.140000</td>\n",
       "      <td>GENERAL MOTORS</td>\n",
       "      <td>0.000000</td>\n",
       "      <td>SPARK</td>\n",
       "      <td>500.060000</td>\n",
       "      <td>Paid Service</td>\n",
       "      <td>2348.750000</td>\n",
       "      <td>400601</td>\n",
       "      <td>BC01</td>\n",
       "      <td>THANE</td>\n",
       "      <td>NO</td>\n",
       "      <td>0.000000</td>\n",
       "      <td>4051.950000</td>\n",
       "      <td>BC01FS1</td>\n",
       "      <td>2015-01-02 11:30:36</td>\n",
       "      <td>2014-12-13 14:29:43</td>\n",
       "      <td>19 days 21:00:53.000000000</td>\n",
       "      <td>168303.000000</td>\n",
       "      <td>P002</td>\n",
       "      <td>2348.750000</td>\n",
       "      <td>6.500000</td>\n",
       "    </tr>\n",
       "    <tr>\n",
       "      <th>2</th>\n",
       "      <td>Retail</td>\n",
       "      <td>67849</td>\n",
       "      <td>00:00:00</td>\n",
       "      <td>7005200002</td>\n",
       "      <td>168303</td>\n",
       "      <td>49317</td>\n",
       "      <td>1203.140000</td>\n",
       "      <td>GENERAL MOTORS</td>\n",
       "      <td>0.000000</td>\n",
       "      <td>SPARK</td>\n",
       "      <td>500.060000</td>\n",
       "      <td>Paid Service</td>\n",
       "      <td>2348.750000</td>\n",
       "      <td>400601</td>\n",
       "      <td>BC01</td>\n",
       "      <td>THANE</td>\n",
       "      <td>NO</td>\n",
       "      <td>0.000000</td>\n",
       "      <td>4051.950000</td>\n",
       "      <td>BC01FS1</td>\n",
       "      <td>2015-01-02 11:30:36</td>\n",
       "      <td>2014-12-13 14:29:43</td>\n",
       "      <td>19 days 21:00:53.000000000</td>\n",
       "      <td>168303.000000</td>\n",
       "      <td>P010</td>\n",
       "      <td>500.060000</td>\n",
       "      <td>1.000000</td>\n",
       "    </tr>\n",
       "    <tr>\n",
       "      <th>3</th>\n",
       "      <td>Retail</td>\n",
       "      <td>84419</td>\n",
       "      <td>00:00:00</td>\n",
       "      <td>7005200003</td>\n",
       "      <td>173997</td>\n",
       "      <td>78584</td>\n",
       "      <td>804.260000</td>\n",
       "      <td>TATA MOTORS</td>\n",
       "      <td>197.030000</td>\n",
       "      <td>INDICA</td>\n",
       "      <td>0.000000</td>\n",
       "      <td>SMC Value Package</td>\n",
       "      <td>0.000000</td>\n",
       "      <td>400603</td>\n",
       "      <td>BC01</td>\n",
       "      <td>THANE</td>\n",
       "      <td>NO</td>\n",
       "      <td>0.000000</td>\n",
       "      <td>1001.290000</td>\n",
       "      <td>BC01SA2</td>\n",
       "      <td>2015-01-03 10:07:32</td>\n",
       "      <td>2015-01-02 14:12:18</td>\n",
       "      <td>0 days 19:55:14.000000000</td>\n",
       "      <td>173997.000000</td>\n",
       "      <td>P001</td>\n",
       "      <td>804.260000</td>\n",
       "      <td>170.000000</td>\n",
       "    </tr>\n",
       "    <tr>\n",
       "      <th>4</th>\n",
       "      <td>Retail</td>\n",
       "      <td>84419</td>\n",
       "      <td>00:00:00</td>\n",
       "      <td>7005200003</td>\n",
       "      <td>173997</td>\n",
       "      <td>78584</td>\n",
       "      <td>804.260000</td>\n",
       "      <td>TATA MOTORS</td>\n",
       "      <td>197.030000</td>\n",
       "      <td>INDICA</td>\n",
       "      <td>0.000000</td>\n",
       "      <td>SMC Value Package</td>\n",
       "      <td>0.000000</td>\n",
       "      <td>400603</td>\n",
       "      <td>BC01</td>\n",
       "      <td>THANE</td>\n",
       "      <td>NO</td>\n",
       "      <td>0.000000</td>\n",
       "      <td>1001.290000</td>\n",
       "      <td>BC01SA2</td>\n",
       "      <td>2015-01-03 10:07:32</td>\n",
       "      <td>2015-01-02 14:12:18</td>\n",
       "      <td>0 days 19:55:14.000000000</td>\n",
       "      <td>173997.000000</td>\n",
       "      <td>P011</td>\n",
       "      <td>197.030000</td>\n",
       "      <td>1.000000</td>\n",
       "    </tr>\n",
       "  </tbody>\n",
       "</table>\n",
       "</div>"
      ],
      "text/plain": [
       "  Cust Type Customer No. Gate Pass Time  Invoice No  Job Card No  KMs Reading  \\\n",
       "0    Retail        67849       00:00:00  7005200002       168303        49317   \n",
       "1    Retail        67849       00:00:00  7005200002       168303        49317   \n",
       "2    Retail        67849       00:00:00  7005200002       168303        49317   \n",
       "3    Retail        84419       00:00:00  7005200003       173997        78584   \n",
       "4    Retail        84419       00:00:00  7005200003       173997        78584   \n",
       "\n",
       "   Labour Total            Make  Misc Total   Model  OSL Total  \\\n",
       "0   1203.140000  GENERAL MOTORS    0.000000   SPARK 500.060000   \n",
       "1   1203.140000  GENERAL MOTORS    0.000000   SPARK 500.060000   \n",
       "2   1203.140000  GENERAL MOTORS    0.000000   SPARK 500.060000   \n",
       "3    804.260000     TATA MOTORS  197.030000  INDICA   0.000000   \n",
       "4    804.260000     TATA MOTORS  197.030000  INDICA   0.000000   \n",
       "\n",
       "          Order Type  Parts Total  Pin code Plant Plant Name1 Print Status  \\\n",
       "0       Paid Service  2348.750000    400601  BC01       THANE           NO   \n",
       "1       Paid Service  2348.750000    400601  BC01       THANE           NO   \n",
       "2       Paid Service  2348.750000    400601  BC01       THANE           NO   \n",
       "3  SMC Value Package     0.000000    400603  BC01       THANE           NO   \n",
       "4  SMC Value Package     0.000000    400603  BC01       THANE           NO   \n",
       "\n",
       "   Recovrbl Exp  Total Amt Wtd Tax.  User ID     Invoice_DateTime  \\\n",
       "0      0.000000         4051.950000  BC01FS1  2015-01-02 11:30:36   \n",
       "1      0.000000         4051.950000  BC01FS1  2015-01-02 11:30:36   \n",
       "2      0.000000         4051.950000  BC01FS1  2015-01-02 11:30:36   \n",
       "3      0.000000         1001.290000  BC01SA2  2015-01-03 10:07:32   \n",
       "4      0.000000         1001.290000  BC01SA2  2015-01-03 10:07:32   \n",
       "\n",
       "      JobCard_DateTime                Service_Time     DBM Order  \\\n",
       "0  2014-12-13 14:29:43  19 days 21:00:53.000000000 168303.000000   \n",
       "1  2014-12-13 14:29:43  19 days 21:00:53.000000000 168303.000000   \n",
       "2  2014-12-13 14:29:43  19 days 21:00:53.000000000 168303.000000   \n",
       "3  2015-01-02 14:12:18   0 days 19:55:14.000000000 173997.000000   \n",
       "4  2015-01-02 14:12:18   0 days 19:55:14.000000000 173997.000000   \n",
       "\n",
       "  Item Category   Net value  Order Quantity  \n",
       "0          P001 1203.140000       73.000000  \n",
       "1          P002 2348.750000        6.500000  \n",
       "2          P010  500.060000        1.000000  \n",
       "3          P001  804.260000      170.000000  \n",
       "4          P011  197.030000        1.000000  "
      ]
     },
     "execution_count": 45,
     "metadata": {},
     "output_type": "execute_result"
    }
   ],
   "source": [
    "df_r.head()"
   ]
  },
  {
   "cell_type": "code",
   "execution_count": 46,
   "metadata": {},
   "outputs": [
    {
     "data": {
      "text/plain": [
       "936236"
      ]
     },
     "execution_count": 46,
     "metadata": {},
     "output_type": "execute_result"
    }
   ],
   "source": [
    "len(df_r)"
   ]
  },
  {
   "cell_type": "code",
   "execution_count": 51,
   "metadata": {},
   "outputs": [],
   "source": [
    "import matplotlib.pyplot as plt"
   ]
  },
  {
   "cell_type": "code",
   "execution_count": 108,
   "metadata": {},
   "outputs": [],
   "source": [
    "\n",
    "from sklearn.cluster import KMeans\n",
    "def Knumber(df):\n",
    "      dist=[]\n",
    "      # Iterate from 1-9\n",
    "      for i in range(1,10):\n",
    "            # Initialize KMeans algorithm\n",
    "            km=KMeans(n_clusters=i,init='k-means++',max_iter=300,n_init=10,random_state=0)\n",
    "            # Fit on data\n",
    "            km.fit(df)\n",
    "            # Append WCSS to list storing WCSS\n",
    "            dist.append(km.inertia_)\n",
    "      # Initialize figure\n",
    "      fig=plt.figure( figsize=[10,8])\n",
    "      # Line plot # clusters on X-axis and WCSS on Y-axis \n",
    "      plt.plot(range(1,10),dist)\n",
    "      plt.show()"
   ]
  },
  {
   "cell_type": "markdown",
   "metadata": {},
   "source": [
    "# cluster 1 'KMs Reading','Total Amt Wtd Tax.'"
   ]
  },
  {
   "cell_type": "code",
   "execution_count": 67,
   "metadata": {},
   "outputs": [
    {
     "data": {
      "image/png": "[encoded data removed]",
      "text/plain": [
       "<Figure size 720x576 with 1 Axes>"
      ]
     },
     "metadata": {
      "needs_background": "light"
     },
     "output_type": "display_data"
    }
   ],
   "source": [
    "dfk=df_r[['KMs Reading','Total Amt Wtd Tax.']]\n",
    "Knumber(dfk)"
   ]
  },
  {
   "cell_type": "code",
   "execution_count": 78,
   "metadata": {},
   "outputs": [
    {
     "data": {
      "text/plain": [
       "<matplotlib.axes._subplots.AxesSubplot at 0x22324ba4048>"
      ]
     },
     "execution_count": 78,
     "metadata": {},
     "output_type": "execute_result"
    },
    {
     "data": {
      "image/png": "[encoded data removed]",
      "text/plain": [
       "<Figure size 432x288 with 2 Axes>"
      ]
     },
     "metadata": {
      "needs_background": "light"
     },
     "output_type": "display_data"
    }
   ],
   "source": [
    "cluster=KMeans(n_clusters=4,init='k-means++',max_iter=300,n_init=10,random_state=0)\n",
    "# create 'cluster' column\n",
    "df_r['c_TA_KM']=cluster.fit_predict(dfk)\n",
    "df_r.plot.scatter('KMs Reading','Total Amt Wtd Tax.', c='c_TA_KM', cmap='viridis')"
   ]
  },
  {
   "cell_type": "code",
   "execution_count": 77,
   "metadata": {},
   "outputs": [
    {
     "data": {
      "text/plain": [
       "0    758059\n",
       "1    174179\n",
       "3      3903\n",
       "2        95\n",
       "Name: cluster, dtype: int64"
      ]
     },
     "execution_count": 77,
     "metadata": {},
     "output_type": "execute_result"
    }
   ],
   "source": [
    "df_r['c_TA_KM'].value_counts()"
   ]
  },
  {
   "cell_type": "code",
   "execution_count": 80,
   "metadata": {},
   "outputs": [
    {
     "data": {
      "text/html": [
       "<div>\n",
       "<style scoped>\n",
       "    .dataframe tbody tr th:only-of-type {\n",
       "        vertical-align: middle;\n",
       "    }\n",
       "\n",
       "    .dataframe tbody tr th {\n",
       "        vertical-align: top;\n",
       "    }\n",
       "\n",
       "    .dataframe thead th {\n",
       "        text-align: right;\n",
       "    }\n",
       "</style>\n",
       "<table border=\"1\" class=\"dataframe\">\n",
       "  <thead>\n",
       "    <tr style=\"text-align: right;\">\n",
       "      <th></th>\n",
       "      <th>Cust Type</th>\n",
       "      <th>Customer No.</th>\n",
       "      <th>Gate Pass Time</th>\n",
       "      <th>Invoice No</th>\n",
       "      <th>Job Card No</th>\n",
       "      <th>KMs Reading</th>\n",
       "      <th>Labour Total</th>\n",
       "      <th>Make</th>\n",
       "      <th>Misc Total</th>\n",
       "      <th>Model</th>\n",
       "      <th>OSL Total</th>\n",
       "      <th>Order Type</th>\n",
       "      <th>Parts Total</th>\n",
       "      <th>Pin code</th>\n",
       "      <th>Plant</th>\n",
       "      <th>Plant Name1</th>\n",
       "      <th>Print Status</th>\n",
       "      <th>Recovrbl Exp</th>\n",
       "      <th>Total Amt Wtd Tax.</th>\n",
       "      <th>User ID</th>\n",
       "      <th>Invoice_DateTime</th>\n",
       "      <th>JobCard_DateTime</th>\n",
       "      <th>Service_Time</th>\n",
       "      <th>DBM Order</th>\n",
       "      <th>Item Category</th>\n",
       "      <th>Net value</th>\n",
       "      <th>Order Quantity</th>\n",
       "      <th>year</th>\n",
       "      <th>month</th>\n",
       "      <th>c_TA_KM</th>\n",
       "    </tr>\n",
       "  </thead>\n",
       "  <tbody>\n",
       "    <tr>\n",
       "      <th>0</th>\n",
       "      <td>Retail</td>\n",
       "      <td>67849</td>\n",
       "      <td>00:00:00</td>\n",
       "      <td>7005200002</td>\n",
       "      <td>168303</td>\n",
       "      <td>49317</td>\n",
       "      <td>1203.140000</td>\n",
       "      <td>GENERAL MOTORS</td>\n",
       "      <td>0.000000</td>\n",
       "      <td>SPARK</td>\n",
       "      <td>500.060000</td>\n",
       "      <td>Paid Service</td>\n",
       "      <td>2348.750000</td>\n",
       "      <td>400601</td>\n",
       "      <td>BC01</td>\n",
       "      <td>THANE</td>\n",
       "      <td>NO</td>\n",
       "      <td>0.000000</td>\n",
       "      <td>4051.950000</td>\n",
       "      <td>BC01FS1</td>\n",
       "      <td>2015-01-02 11:30:36</td>\n",
       "      <td>2014-12-13 14:29:43</td>\n",
       "      <td>19 days 21:00:53.000000000</td>\n",
       "      <td>168303.000000</td>\n",
       "      <td>P001</td>\n",
       "      <td>1203.140000</td>\n",
       "      <td>73.000000</td>\n",
       "      <td>2015</td>\n",
       "      <td>1</td>\n",
       "      <td>0</td>\n",
       "    </tr>\n",
       "    <tr>\n",
       "      <th>1</th>\n",
       "      <td>Retail</td>\n",
       "      <td>67849</td>\n",
       "      <td>00:00:00</td>\n",
       "      <td>7005200002</td>\n",
       "      <td>168303</td>\n",
       "      <td>49317</td>\n",
       "      <td>1203.140000</td>\n",
       "      <td>GENERAL MOTORS</td>\n",
       "      <td>0.000000</td>\n",
       "      <td>SPARK</td>\n",
       "      <td>500.060000</td>\n",
       "      <td>Paid Service</td>\n",
       "      <td>2348.750000</td>\n",
       "      <td>400601</td>\n",
       "      <td>BC01</td>\n",
       "      <td>THANE</td>\n",
       "      <td>NO</td>\n",
       "      <td>0.000000</td>\n",
       "      <td>4051.950000</td>\n",
       "      <td>BC01FS1</td>\n",
       "      <td>2015-01-02 11:30:36</td>\n",
       "      <td>2014-12-13 14:29:43</td>\n",
       "      <td>19 days 21:00:53.000000000</td>\n",
       "      <td>168303.000000</td>\n",
       "      <td>P002</td>\n",
       "      <td>2348.750000</td>\n",
       "      <td>6.500000</td>\n",
       "      <td>2015</td>\n",
       "      <td>1</td>\n",
       "      <td>0</td>\n",
       "    </tr>\n",
       "    <tr>\n",
       "      <th>2</th>\n",
       "      <td>Retail</td>\n",
       "      <td>67849</td>\n",
       "      <td>00:00:00</td>\n",
       "      <td>7005200002</td>\n",
       "      <td>168303</td>\n",
       "      <td>49317</td>\n",
       "      <td>1203.140000</td>\n",
       "      <td>GENERAL MOTORS</td>\n",
       "      <td>0.000000</td>\n",
       "      <td>SPARK</td>\n",
       "      <td>500.060000</td>\n",
       "      <td>Paid Service</td>\n",
       "      <td>2348.750000</td>\n",
       "      <td>400601</td>\n",
       "      <td>BC01</td>\n",
       "      <td>THANE</td>\n",
       "      <td>NO</td>\n",
       "      <td>0.000000</td>\n",
       "      <td>4051.950000</td>\n",
       "      <td>BC01FS1</td>\n",
       "      <td>2015-01-02 11:30:36</td>\n",
       "      <td>2014-12-13 14:29:43</td>\n",
       "      <td>19 days 21:00:53.000000000</td>\n",
       "      <td>168303.000000</td>\n",
       "      <td>P010</td>\n",
       "      <td>500.060000</td>\n",
       "      <td>1.000000</td>\n",
       "      <td>2015</td>\n",
       "      <td>1</td>\n",
       "      <td>0</td>\n",
       "    </tr>\n",
       "    <tr>\n",
       "      <th>3</th>\n",
       "      <td>Retail</td>\n",
       "      <td>84419</td>\n",
       "      <td>00:00:00</td>\n",
       "      <td>7005200003</td>\n",
       "      <td>173997</td>\n",
       "      <td>78584</td>\n",
       "      <td>804.260000</td>\n",
       "      <td>TATA MOTORS</td>\n",
       "      <td>197.030000</td>\n",
       "      <td>INDICA</td>\n",
       "      <td>0.000000</td>\n",
       "      <td>SMC Value Package</td>\n",
       "      <td>0.000000</td>\n",
       "      <td>400603</td>\n",
       "      <td>BC01</td>\n",
       "      <td>THANE</td>\n",
       "      <td>NO</td>\n",
       "      <td>0.000000</td>\n",
       "      <td>1001.290000</td>\n",
       "      <td>BC01SA2</td>\n",
       "      <td>2015-01-03 10:07:32</td>\n",
       "      <td>2015-01-02 14:12:18</td>\n",
       "      <td>0 days 19:55:14.000000000</td>\n",
       "      <td>173997.000000</td>\n",
       "      <td>P001</td>\n",
       "      <td>804.260000</td>\n",
       "      <td>170.000000</td>\n",
       "      <td>2015</td>\n",
       "      <td>1</td>\n",
       "      <td>0</td>\n",
       "    </tr>\n",
       "    <tr>\n",
       "      <th>4</th>\n",
       "      <td>Retail</td>\n",
       "      <td>84419</td>\n",
       "      <td>00:00:00</td>\n",
       "      <td>7005200003</td>\n",
       "      <td>173997</td>\n",
       "      <td>78584</td>\n",
       "      <td>804.260000</td>\n",
       "      <td>TATA MOTORS</td>\n",
       "      <td>197.030000</td>\n",
       "      <td>INDICA</td>\n",
       "      <td>0.000000</td>\n",
       "      <td>SMC Value Package</td>\n",
       "      <td>0.000000</td>\n",
       "      <td>400603</td>\n",
       "      <td>BC01</td>\n",
       "      <td>THANE</td>\n",
       "      <td>NO</td>\n",
       "      <td>0.000000</td>\n",
       "      <td>1001.290000</td>\n",
       "      <td>BC01SA2</td>\n",
       "      <td>2015-01-03 10:07:32</td>\n",
       "      <td>2015-01-02 14:12:18</td>\n",
       "      <td>0 days 19:55:14.000000000</td>\n",
       "      <td>173997.000000</td>\n",
       "      <td>P011</td>\n",
       "      <td>197.030000</td>\n",
       "      <td>1.000000</td>\n",
       "      <td>2015</td>\n",
       "      <td>1</td>\n",
       "      <td>0</td>\n",
       "    </tr>\n",
       "  </tbody>\n",
       "</table>\n",
       "</div>"
      ],
      "text/plain": [
       "  Cust Type Customer No. Gate Pass Time  Invoice No  Job Card No  KMs Reading  \\\n",
       "0    Retail        67849       00:00:00  7005200002       168303        49317   \n",
       "1    Retail        67849       00:00:00  7005200002       168303        49317   \n",
       "2    Retail        67849       00:00:00  7005200002       168303        49317   \n",
       "3    Retail        84419       00:00:00  7005200003       173997        78584   \n",
       "4    Retail        84419       00:00:00  7005200003       173997        78584   \n",
       "\n",
       "   Labour Total            Make  Misc Total   Model  OSL Total  \\\n",
       "0   1203.140000  GENERAL MOTORS    0.000000   SPARK 500.060000   \n",
       "1   1203.140000  GENERAL MOTORS    0.000000   SPARK 500.060000   \n",
       "2   1203.140000  GENERAL MOTORS    0.000000   SPARK 500.060000   \n",
       "3    804.260000     TATA MOTORS  197.030000  INDICA   0.000000   \n",
       "4    804.260000     TATA MOTORS  197.030000  INDICA   0.000000   \n",
       "\n",
       "          Order Type  Parts Total  Pin code Plant Plant Name1 Print Status  \\\n",
       "0       Paid Service  2348.750000    400601  BC01       THANE           NO   \n",
       "1       Paid Service  2348.750000    400601  BC01       THANE           NO   \n",
       "2       Paid Service  2348.750000    400601  BC01       THANE           NO   \n",
       "3  SMC Value Package     0.000000    400603  BC01       THANE           NO   \n",
       "4  SMC Value Package     0.000000    400603  BC01       THANE           NO   \n",
       "\n",
       "   Recovrbl Exp  Total Amt Wtd Tax.  User ID    Invoice_DateTime  \\\n",
       "0      0.000000         4051.950000  BC01FS1 2015-01-02 11:30:36   \n",
       "1      0.000000         4051.950000  BC01FS1 2015-01-02 11:30:36   \n",
       "2      0.000000         4051.950000  BC01FS1 2015-01-02 11:30:36   \n",
       "3      0.000000         1001.290000  BC01SA2 2015-01-03 10:07:32   \n",
       "4      0.000000         1001.290000  BC01SA2 2015-01-03 10:07:32   \n",
       "\n",
       "      JobCard_DateTime                Service_Time     DBM Order  \\\n",
       "0  2014-12-13 14:29:43  19 days 21:00:53.000000000 168303.000000   \n",
       "1  2014-12-13 14:29:43  19 days 21:00:53.000000000 168303.000000   \n",
       "2  2014-12-13 14:29:43  19 days 21:00:53.000000000 168303.000000   \n",
       "3  2015-01-02 14:12:18   0 days 19:55:14.000000000 173997.000000   \n",
       "4  2015-01-02 14:12:18   0 days 19:55:14.000000000 173997.000000   \n",
       "\n",
       "  Item Category   Net value  Order Quantity  year  month  c_TA_KM  \n",
       "0          P001 1203.140000       73.000000  2015      1        0  \n",
       "1          P002 2348.750000        6.500000  2015      1        0  \n",
       "2          P010  500.060000        1.000000  2015      1        0  \n",
       "3          P001  804.260000      170.000000  2015      1        0  \n",
       "4          P011  197.030000        1.000000  2015      1        0  "
      ]
     },
     "execution_count": 80,
     "metadata": {},
     "output_type": "execute_result"
    }
   ],
   "source": [
    "df_r.head()"
   ]
  },
  {
   "cell_type": "code",
   "execution_count": 103,
   "metadata": {},
   "outputs": [],
   "source": [
    "df_r['Service_days']=df_r['Service_Time'].apply(lambda x: x.split()[0].strip())"
   ]
  },
  {
   "cell_type": "code",
   "execution_count": 104,
   "metadata": {},
   "outputs": [],
   "source": [
    "df_r['Service_days']=df_r['Service_days'].astype(int)"
   ]
  },
  {
   "cell_type": "code",
   "execution_count": null,
   "metadata": {},
   "outputs": [],
   "source": [
    "df_r.dtypes"
   ]
  },
  {
   "cell_type": "markdown",
   "metadata": {},
   "source": [
    "# cluster 2 'Service_days','Total Amt Wtd Tax.'"
   ]
  },
  {
   "cell_type": "code",
   "execution_count": 109,
   "metadata": {},
   "outputs": [
    {
     "data": {
      "image/png": "[encoded data removed]",
      "text/plain": [
       "<Figure size 720x576 with 1 Axes>"
      ]
     },
     "metadata": {
      "needs_background": "light"
     },
     "output_type": "display_data"
    }
   ],
   "source": [
    "dfk2=df_r[['Service_days','Total Amt Wtd Tax.']]\n",
    "Knumber(dfk2)"
   ]
  },
  {
   "cell_type": "code",
   "execution_count": 111,
   "metadata": {},
   "outputs": [
    {
     "data": {
      "text/plain": [
       "<matplotlib.axes._subplots.AxesSubplot at 0x2228a36e9e8>"
      ]
     },
     "execution_count": 111,
     "metadata": {},
     "output_type": "execute_result"
    },
    {
     "data": {
      "image/png": "[encoded data removed]",
      "text/plain": [
       "<Figure size 432x288 with 2 Axes>"
      ]
     },
     "metadata": {
      "needs_background": "light"
     },
     "output_type": "display_data"
    }
   ],
   "source": [
    "cluster=KMeans(n_clusters=4,init='k-means++',max_iter=300,n_init=10,random_state=0)\n",
    "# create 'cluster' column\n",
    "df_r['c_TA_SD']=cluster.fit_predict(dfk2)\n",
    "df_r.plot.scatter('Service_days','Total Amt Wtd Tax.', c='c_TA_SD', cmap='viridis')"
   ]
  },
  {
   "cell_type": "code",
   "execution_count": 112,
   "metadata": {},
   "outputs": [
    {
     "data": {
      "text/plain": [
       "0    823404\n",
       "2     99321\n",
       "3     11990\n",
       "1      1521\n",
       "Name: c_TA_SD, dtype: int64"
      ]
     },
     "execution_count": 112,
     "metadata": {},
     "output_type": "execute_result"
    }
   ],
   "source": [
    "df_r['c_TA_SD'].value_counts()"
   ]
  },
  {
   "cell_type": "code",
   "execution_count": null,
   "metadata": {},
   "outputs": [],
   "source": [
    "# Lifetime customer Value\n",
    "\n",
    "## customer expenditures per visit\n",
    "\n",
    "s = (sum(df_r.groupby(['Customer No.'])[\"Total Amt Wtd Tax.\"].sum()))/936236\n",
    "\n",
    "### number of visits per month (the “purchase cycle”)\n",
    "\n",
    "from dateutil.relativedelta import relativedelta\n",
    "\n",
    "from datetime import *\n",
    "df_r['Invoice_DateTime']=pd.to_datetime(df_r['Invoice_DateTime'])\n",
    "df_r['year']=df_r['Invoice_DateTime'].dt.year\n",
    "df_r['month']=df_r['Invoice_DateTime'].dt.month\n",
    "\n",
    "c = (df_r.groupby(['Customer No.'])[\"month\"].count()).mode()\n",
    "\n",
    "t = ((df_r.groupby(['Customer No.'])[\"Invoice_DateTime\"].max() - df_r.groupby(['Customer No.'])[\"Invoice_DateTime\"].min())/np.timedelta64(1,'M')).mean()\n",
    "\n",
    "a = s * c\n",
    "\n",
    "SLTV = (12 * a) * t\n",
    "\n",
    "CLTV = t*12*s*c\n",
    "CLTV"
   ]
  },
  {
   "cell_type": "code",
   "execution_count": 113,
   "metadata": {},
   "outputs": [],
   "source": [
    "df_r.to_csv('df_r.csv')"
   ]
  },
  {
   "cell_type": "code",
   "execution_count": null,
   "metadata": {},
   "outputs": [],
   "source": []
  }
 ],
 "metadata": {
  "kernelspec": {
   "display_name": "Python 3",
   "language": "python",
   "name": "python3"
  },
  "language_info": {
   "codemirror_mode": {
    "name": "ipython",
    "version": 3
   },
   "file_extension": ".py",
   "mimetype": "text/x-python",
   "name": "python",
   "nbconvert_exporter": "python",
   "pygments_lexer": "ipython3",
   "version": "3.7.3"
  }
 },
 "nbformat": 4,
 "nbformat_minor": 2
}
