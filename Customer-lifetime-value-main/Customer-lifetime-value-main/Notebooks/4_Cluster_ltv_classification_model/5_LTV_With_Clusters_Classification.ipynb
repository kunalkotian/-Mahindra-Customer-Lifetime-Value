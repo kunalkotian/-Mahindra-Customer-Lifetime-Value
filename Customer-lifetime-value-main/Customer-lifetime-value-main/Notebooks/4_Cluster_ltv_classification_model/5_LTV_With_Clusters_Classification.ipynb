{
 "cells": [
  {
   "cell_type": "code",
   "execution_count": 1,
   "metadata": {
    "colab": {},
    "colab_type": "code",
    "id": "agkCJmPGioam"
   },
   "outputs": [],
   "source": [
    "import pandas as pd\n",
    "import numpy as np \n",
    "import matplotlib.pyplot as plt\n",
    "import seaborn as sns\n",
    "from sklearn.preprocessing import LabelEncoder,StandardScaler\n",
    "from sklearn.model_selection import train_test_split as tts,cross_val_score,ShuffleSplit\n",
    "from sklearn.tree import DecisionTreeClassifier\n",
    "from sklearn.ensemble import RandomForestClassifier\n",
    "from sklearn.cluster import KMeans\n",
    "from sklearn.decomposition import PCA\n",
    "from sklearn.metrics import accuracy_score,f1_score,classification_report,roc_auc_score\n",
    "import warnings\n",
    "warnings.simplefilter('ignore')"
   ]
  },
  {
   "cell_type": "code",
   "execution_count": 44,
   "metadata": {
    "colab": {
     "base_uri": "https://localhost:8080/",
     "height": 383
    },
    "colab_type": "code",
    "id": "IovcOuIGiobD",
    "outputId": "813ed19a-d5a2-45bf-d57f-c60282605862"
   },
   "outputs": [],
   "source": [
    "df= pd.read_csv('C:\\\\Users\\\\Om Computers\\\\Downloads\\\\cap_stone_all_seen\\\\Capstone_project\\\\4seenshot\\\\LTV_df_Clusters.csv')"
   ]
  },
  {
   "cell_type": "code",
   "execution_count": 53,
   "metadata": {},
   "outputs": [
    {
     "data": {
      "text/html": [
       "<div>\n",
       "<style scoped>\n",
       "    .dataframe tbody tr th:only-of-type {\n",
       "        vertical-align: middle;\n",
       "    }\n",
       "\n",
       "    .dataframe tbody tr th {\n",
       "        vertical-align: top;\n",
       "    }\n",
       "\n",
       "    .dataframe thead th {\n",
       "        text-align: right;\n",
       "    }\n",
       "</style>\n",
       "<table border=\"1\" class=\"dataframe\">\n",
       "  <thead>\n",
       "    <tr style=\"text-align: right;\">\n",
       "      <th></th>\n",
       "      <th>Unnamed: 0</th>\n",
       "      <th>Cust Type</th>\n",
       "      <th>Customer No.</th>\n",
       "      <th>Gate Pass Time</th>\n",
       "      <th>Invoice No</th>\n",
       "      <th>Job Card No</th>\n",
       "      <th>KMs Reading</th>\n",
       "      <th>Labour Total</th>\n",
       "      <th>Make</th>\n",
       "      <th>Misc Total</th>\n",
       "      <th>Model</th>\n",
       "      <th>OSL Total</th>\n",
       "      <th>Order Type</th>\n",
       "      <th>Parts Total</th>\n",
       "      <th>Pin code</th>\n",
       "      <th>Plant</th>\n",
       "      <th>Plant Name1</th>\n",
       "      <th>Print Status</th>\n",
       "      <th>Recovrbl Exp</th>\n",
       "      <th>Total Amt Wtd Tax.</th>\n",
       "      <th>User ID</th>\n",
       "      <th>Invoice_DateTime</th>\n",
       "      <th>JobCard_DateTime</th>\n",
       "      <th>Service_Time</th>\n",
       "      <th>DBM Order</th>\n",
       "      <th>Item Category</th>\n",
       "      <th>Net value</th>\n",
       "      <th>Order Quantity</th>\n",
       "      <th>year</th>\n",
       "      <th>month</th>\n",
       "      <th>c_TA_KM</th>\n",
       "      <th>Service_days</th>\n",
       "      <th>c_TA_SD</th>\n",
       "      <th>Total_Hrs</th>\n",
       "    </tr>\n",
       "  </thead>\n",
       "  <tbody>\n",
       "    <tr>\n",
       "      <th>0</th>\n",
       "      <td>0</td>\n",
       "      <td>Retail</td>\n",
       "      <td>67849</td>\n",
       "      <td>00:00:00</td>\n",
       "      <td>7005200002</td>\n",
       "      <td>168303</td>\n",
       "      <td>49317</td>\n",
       "      <td>1203.14</td>\n",
       "      <td>GENERAL MOTORS</td>\n",
       "      <td>0.00</td>\n",
       "      <td>SPARK</td>\n",
       "      <td>500.06</td>\n",
       "      <td>Paid Service</td>\n",
       "      <td>2348.75</td>\n",
       "      <td>400601</td>\n",
       "      <td>BC01</td>\n",
       "      <td>THANE</td>\n",
       "      <td>NO</td>\n",
       "      <td>0.0</td>\n",
       "      <td>4051.95</td>\n",
       "      <td>BC01FS1</td>\n",
       "      <td>2015-01-02 11:30:36</td>\n",
       "      <td>2014-12-13 14:29:43</td>\n",
       "      <td>19 days 21:00:53</td>\n",
       "      <td>168303.0</td>\n",
       "      <td>P001</td>\n",
       "      <td>1203.14</td>\n",
       "      <td>73.0</td>\n",
       "      <td>2015</td>\n",
       "      <td>1</td>\n",
       "      <td>0</td>\n",
       "      <td>19</td>\n",
       "      <td>0</td>\n",
       "      <td>477.01</td>\n",
       "    </tr>\n",
       "    <tr>\n",
       "      <th>1</th>\n",
       "      <td>1</td>\n",
       "      <td>Retail</td>\n",
       "      <td>67849</td>\n",
       "      <td>00:00:00</td>\n",
       "      <td>7005200002</td>\n",
       "      <td>168303</td>\n",
       "      <td>49317</td>\n",
       "      <td>1203.14</td>\n",
       "      <td>GENERAL MOTORS</td>\n",
       "      <td>0.00</td>\n",
       "      <td>SPARK</td>\n",
       "      <td>500.06</td>\n",
       "      <td>Paid Service</td>\n",
       "      <td>2348.75</td>\n",
       "      <td>400601</td>\n",
       "      <td>BC01</td>\n",
       "      <td>THANE</td>\n",
       "      <td>NO</td>\n",
       "      <td>0.0</td>\n",
       "      <td>4051.95</td>\n",
       "      <td>BC01FS1</td>\n",
       "      <td>2015-01-02 11:30:36</td>\n",
       "      <td>2014-12-13 14:29:43</td>\n",
       "      <td>19 days 21:00:53</td>\n",
       "      <td>168303.0</td>\n",
       "      <td>P002</td>\n",
       "      <td>2348.75</td>\n",
       "      <td>6.5</td>\n",
       "      <td>2015</td>\n",
       "      <td>1</td>\n",
       "      <td>0</td>\n",
       "      <td>19</td>\n",
       "      <td>0</td>\n",
       "      <td>477.01</td>\n",
       "    </tr>\n",
       "    <tr>\n",
       "      <th>2</th>\n",
       "      <td>2</td>\n",
       "      <td>Retail</td>\n",
       "      <td>67849</td>\n",
       "      <td>00:00:00</td>\n",
       "      <td>7005200002</td>\n",
       "      <td>168303</td>\n",
       "      <td>49317</td>\n",
       "      <td>1203.14</td>\n",
       "      <td>GENERAL MOTORS</td>\n",
       "      <td>0.00</td>\n",
       "      <td>SPARK</td>\n",
       "      <td>500.06</td>\n",
       "      <td>Paid Service</td>\n",
       "      <td>2348.75</td>\n",
       "      <td>400601</td>\n",
       "      <td>BC01</td>\n",
       "      <td>THANE</td>\n",
       "      <td>NO</td>\n",
       "      <td>0.0</td>\n",
       "      <td>4051.95</td>\n",
       "      <td>BC01FS1</td>\n",
       "      <td>2015-01-02 11:30:36</td>\n",
       "      <td>2014-12-13 14:29:43</td>\n",
       "      <td>19 days 21:00:53</td>\n",
       "      <td>168303.0</td>\n",
       "      <td>P010</td>\n",
       "      <td>500.06</td>\n",
       "      <td>1.0</td>\n",
       "      <td>2015</td>\n",
       "      <td>1</td>\n",
       "      <td>0</td>\n",
       "      <td>19</td>\n",
       "      <td>0</td>\n",
       "      <td>477.01</td>\n",
       "    </tr>\n",
       "    <tr>\n",
       "      <th>3</th>\n",
       "      <td>3</td>\n",
       "      <td>Retail</td>\n",
       "      <td>84419</td>\n",
       "      <td>00:00:00</td>\n",
       "      <td>7005200003</td>\n",
       "      <td>173997</td>\n",
       "      <td>78584</td>\n",
       "      <td>804.26</td>\n",
       "      <td>TATA MOTORS</td>\n",
       "      <td>197.03</td>\n",
       "      <td>INDICA</td>\n",
       "      <td>0.00</td>\n",
       "      <td>SMC Value Package</td>\n",
       "      <td>0.00</td>\n",
       "      <td>400603</td>\n",
       "      <td>BC01</td>\n",
       "      <td>THANE</td>\n",
       "      <td>NO</td>\n",
       "      <td>0.0</td>\n",
       "      <td>1001.29</td>\n",
       "      <td>BC01SA2</td>\n",
       "      <td>2015-01-03 10:07:32</td>\n",
       "      <td>2015-01-02 14:12:18</td>\n",
       "      <td>0 days 19:55:14</td>\n",
       "      <td>173997.0</td>\n",
       "      <td>P001</td>\n",
       "      <td>804.26</td>\n",
       "      <td>170.0</td>\n",
       "      <td>2015</td>\n",
       "      <td>1</td>\n",
       "      <td>0</td>\n",
       "      <td>0</td>\n",
       "      <td>0</td>\n",
       "      <td>19.92</td>\n",
       "    </tr>\n",
       "    <tr>\n",
       "      <th>4</th>\n",
       "      <td>4</td>\n",
       "      <td>Retail</td>\n",
       "      <td>84419</td>\n",
       "      <td>00:00:00</td>\n",
       "      <td>7005200003</td>\n",
       "      <td>173997</td>\n",
       "      <td>78584</td>\n",
       "      <td>804.26</td>\n",
       "      <td>TATA MOTORS</td>\n",
       "      <td>197.03</td>\n",
       "      <td>INDICA</td>\n",
       "      <td>0.00</td>\n",
       "      <td>SMC Value Package</td>\n",
       "      <td>0.00</td>\n",
       "      <td>400603</td>\n",
       "      <td>BC01</td>\n",
       "      <td>THANE</td>\n",
       "      <td>NO</td>\n",
       "      <td>0.0</td>\n",
       "      <td>1001.29</td>\n",
       "      <td>BC01SA2</td>\n",
       "      <td>2015-01-03 10:07:32</td>\n",
       "      <td>2015-01-02 14:12:18</td>\n",
       "      <td>0 days 19:55:14</td>\n",
       "      <td>173997.0</td>\n",
       "      <td>P011</td>\n",
       "      <td>197.03</td>\n",
       "      <td>1.0</td>\n",
       "      <td>2015</td>\n",
       "      <td>1</td>\n",
       "      <td>0</td>\n",
       "      <td>0</td>\n",
       "      <td>0</td>\n",
       "      <td>19.92</td>\n",
       "    </tr>\n",
       "  </tbody>\n",
       "</table>\n",
       "</div>"
      ],
      "text/plain": [
       "   Unnamed: 0 Cust Type Customer No. Gate Pass Time  Invoice No  Job Card No  \\\n",
       "0           0    Retail        67849       00:00:00  7005200002       168303   \n",
       "1           1    Retail        67849       00:00:00  7005200002       168303   \n",
       "2           2    Retail        67849       00:00:00  7005200002       168303   \n",
       "3           3    Retail        84419       00:00:00  7005200003       173997   \n",
       "4           4    Retail        84419       00:00:00  7005200003       173997   \n",
       "\n",
       "   KMs Reading  Labour Total            Make  Misc Total   Model  OSL Total  \\\n",
       "0        49317       1203.14  GENERAL MOTORS        0.00   SPARK     500.06   \n",
       "1        49317       1203.14  GENERAL MOTORS        0.00   SPARK     500.06   \n",
       "2        49317       1203.14  GENERAL MOTORS        0.00   SPARK     500.06   \n",
       "3        78584        804.26     TATA MOTORS      197.03  INDICA       0.00   \n",
       "4        78584        804.26     TATA MOTORS      197.03  INDICA       0.00   \n",
       "\n",
       "          Order Type  Parts Total  Pin code Plant Plant Name1 Print Status  \\\n",
       "0       Paid Service      2348.75    400601  BC01       THANE           NO   \n",
       "1       Paid Service      2348.75    400601  BC01       THANE           NO   \n",
       "2       Paid Service      2348.75    400601  BC01       THANE           NO   \n",
       "3  SMC Value Package         0.00    400603  BC01       THANE           NO   \n",
       "4  SMC Value Package         0.00    400603  BC01       THANE           NO   \n",
       "\n",
       "   Recovrbl Exp  Total Amt Wtd Tax.  User ID    Invoice_DateTime  \\\n",
       "0           0.0             4051.95  BC01FS1 2015-01-02 11:30:36   \n",
       "1           0.0             4051.95  BC01FS1 2015-01-02 11:30:36   \n",
       "2           0.0             4051.95  BC01FS1 2015-01-02 11:30:36   \n",
       "3           0.0             1001.29  BC01SA2 2015-01-03 10:07:32   \n",
       "4           0.0             1001.29  BC01SA2 2015-01-03 10:07:32   \n",
       "\n",
       "     JobCard_DateTime     Service_Time  DBM Order Item Category  Net value  \\\n",
       "0 2014-12-13 14:29:43 19 days 21:00:53   168303.0          P001    1203.14   \n",
       "1 2014-12-13 14:29:43 19 days 21:00:53   168303.0          P002    2348.75   \n",
       "2 2014-12-13 14:29:43 19 days 21:00:53   168303.0          P010     500.06   \n",
       "3 2015-01-02 14:12:18  0 days 19:55:14   173997.0          P001     804.26   \n",
       "4 2015-01-02 14:12:18  0 days 19:55:14   173997.0          P011     197.03   \n",
       "\n",
       "   Order Quantity  year  month  c_TA_KM  Service_days  c_TA_SD  Total_Hrs  \n",
       "0            73.0  2015      1        0            19        0     477.01  \n",
       "1             6.5  2015      1        0            19        0     477.01  \n",
       "2             1.0  2015      1        0            19        0     477.01  \n",
       "3           170.0  2015      1        0             0        0      19.92  \n",
       "4             1.0  2015      1        0             0        0      19.92  "
      ]
     },
     "execution_count": 53,
     "metadata": {},
     "output_type": "execute_result"
    }
   ],
   "source": [
    "df.head()"
   ]
  },
  {
   "cell_type": "code",
   "execution_count": 54,
   "metadata": {
    "colab": {
     "base_uri": "https://localhost:8080/",
     "height": 35
    },
    "colab_type": "code",
    "id": "lsffmVJ6iobf",
    "outputId": "781daef5-34e6-4063-9f71-fad97f627df0"
   },
   "outputs": [
    {
     "data": {
      "text/plain": [
       "(936235, 34)"
      ]
     },
     "execution_count": 54,
     "metadata": {},
     "output_type": "execute_result"
    }
   ],
   "source": [
    "df.shape"
   ]
  },
  {
   "cell_type": "markdown",
   "metadata": {},
   "source": [
    "# ltv on 2013"
   ]
  },
  {
   "cell_type": "code",
   "execution_count": 55,
   "metadata": {
    "colab": {},
    "colab_type": "code",
    "id": "mKAeRcMeiofU"
   },
   "outputs": [],
   "source": [
    "df_13=df[df[\"year\"]==2013]"
   ]
  },
  {
   "cell_type": "code",
   "execution_count": 56,
   "metadata": {
    "colab": {
     "base_uri": "https://localhost:8080/",
     "height": 348
    },
    "colab_type": "code",
    "id": "NKfplMg1iofm",
    "outputId": "6cee1f54-8aef-41e2-8ae0-0b123a647de5"
   },
   "outputs": [
    {
     "data": {
      "text/html": [
       "<div>\n",
       "<style scoped>\n",
       "    .dataframe tbody tr th:only-of-type {\n",
       "        vertical-align: middle;\n",
       "    }\n",
       "\n",
       "    .dataframe tbody tr th {\n",
       "        vertical-align: top;\n",
       "    }\n",
       "\n",
       "    .dataframe thead th {\n",
       "        text-align: right;\n",
       "    }\n",
       "</style>\n",
       "<table border=\"1\" class=\"dataframe\">\n",
       "  <thead>\n",
       "    <tr style=\"text-align: right;\">\n",
       "      <th></th>\n",
       "      <th>Unnamed: 0</th>\n",
       "      <th>Cust Type</th>\n",
       "      <th>Customer No.</th>\n",
       "      <th>Gate Pass Time</th>\n",
       "      <th>Invoice No</th>\n",
       "      <th>Job Card No</th>\n",
       "      <th>KMs Reading</th>\n",
       "      <th>Labour Total</th>\n",
       "      <th>Make</th>\n",
       "      <th>Misc Total</th>\n",
       "      <th>Model</th>\n",
       "      <th>OSL Total</th>\n",
       "      <th>Order Type</th>\n",
       "      <th>Parts Total</th>\n",
       "      <th>Pin code</th>\n",
       "      <th>Plant</th>\n",
       "      <th>Plant Name1</th>\n",
       "      <th>Print Status</th>\n",
       "      <th>Recovrbl Exp</th>\n",
       "      <th>Total Amt Wtd Tax.</th>\n",
       "      <th>User ID</th>\n",
       "      <th>Invoice_DateTime</th>\n",
       "      <th>JobCard_DateTime</th>\n",
       "      <th>Service_Time</th>\n",
       "      <th>DBM Order</th>\n",
       "      <th>Item Category</th>\n",
       "      <th>Net value</th>\n",
       "      <th>Order Quantity</th>\n",
       "      <th>year</th>\n",
       "      <th>month</th>\n",
       "      <th>c_TA_KM</th>\n",
       "      <th>Service_days</th>\n",
       "      <th>c_TA_SD</th>\n",
       "      <th>Total_Hrs</th>\n",
       "    </tr>\n",
       "  </thead>\n",
       "  <tbody>\n",
       "    <tr>\n",
       "      <th>486477</th>\n",
       "      <td>486477</td>\n",
       "      <td>Retail</td>\n",
       "      <td>8302</td>\n",
       "      <td>00:00:00</td>\n",
       "      <td>7000019055</td>\n",
       "      <td>18856</td>\n",
       "      <td>23809</td>\n",
       "      <td>398.68</td>\n",
       "      <td>FORD</td>\n",
       "      <td>0.0</td>\n",
       "      <td>FIGO</td>\n",
       "      <td>0.0</td>\n",
       "      <td>Paid Service</td>\n",
       "      <td>13.33</td>\n",
       "      <td>400093</td>\n",
       "      <td>BC11</td>\n",
       "      <td>ANDHERI</td>\n",
       "      <td>NO</td>\n",
       "      <td>0.0</td>\n",
       "      <td>412.01</td>\n",
       "      <td>BC11FS1</td>\n",
       "      <td>2013-01-01 14:29:33</td>\n",
       "      <td>2013-01-01 12:30:48</td>\n",
       "      <td>01:58:45</td>\n",
       "      <td>18856.0</td>\n",
       "      <td>P001</td>\n",
       "      <td>398.68</td>\n",
       "      <td>1.0</td>\n",
       "      <td>2013</td>\n",
       "      <td>1</td>\n",
       "      <td>0</td>\n",
       "      <td>0</td>\n",
       "      <td>0</td>\n",
       "      <td>1.98</td>\n",
       "    </tr>\n",
       "    <tr>\n",
       "      <th>486478</th>\n",
       "      <td>486478</td>\n",
       "      <td>Retail</td>\n",
       "      <td>8302</td>\n",
       "      <td>00:00:00</td>\n",
       "      <td>7000019055</td>\n",
       "      <td>18856</td>\n",
       "      <td>23809</td>\n",
       "      <td>398.68</td>\n",
       "      <td>FORD</td>\n",
       "      <td>0.0</td>\n",
       "      <td>FIGO</td>\n",
       "      <td>0.0</td>\n",
       "      <td>Paid Service</td>\n",
       "      <td>13.33</td>\n",
       "      <td>400093</td>\n",
       "      <td>BC11</td>\n",
       "      <td>ANDHERI</td>\n",
       "      <td>NO</td>\n",
       "      <td>0.0</td>\n",
       "      <td>412.01</td>\n",
       "      <td>BC11FS1</td>\n",
       "      <td>2013-01-01 14:29:33</td>\n",
       "      <td>2013-01-01 12:30:48</td>\n",
       "      <td>01:58:45</td>\n",
       "      <td>18856.0</td>\n",
       "      <td>P002</td>\n",
       "      <td>13.33</td>\n",
       "      <td>1.0</td>\n",
       "      <td>2013</td>\n",
       "      <td>1</td>\n",
       "      <td>0</td>\n",
       "      <td>0</td>\n",
       "      <td>0</td>\n",
       "      <td>1.98</td>\n",
       "    </tr>\n",
       "  </tbody>\n",
       "</table>\n",
       "</div>"
      ],
      "text/plain": [
       "        Unnamed: 0 Cust Type Customer No. Gate Pass Time  Invoice No  \\\n",
       "486477      486477    Retail         8302       00:00:00  7000019055   \n",
       "486478      486478    Retail         8302       00:00:00  7000019055   \n",
       "\n",
       "        Job Card No  KMs Reading  Labour Total  Make  Misc Total Model  \\\n",
       "486477        18856        23809        398.68  FORD         0.0  FIGO   \n",
       "486478        18856        23809        398.68  FORD         0.0  FIGO   \n",
       "\n",
       "        OSL Total    Order Type  Parts Total  Pin code Plant Plant Name1  \\\n",
       "486477        0.0  Paid Service        13.33    400093  BC11     ANDHERI   \n",
       "486478        0.0  Paid Service        13.33    400093  BC11     ANDHERI   \n",
       "\n",
       "       Print Status  Recovrbl Exp  Total Amt Wtd Tax.  User ID  \\\n",
       "486477           NO           0.0              412.01  BC11FS1   \n",
       "486478           NO           0.0              412.01  BC11FS1   \n",
       "\n",
       "          Invoice_DateTime    JobCard_DateTime Service_Time  DBM Order  \\\n",
       "486477 2013-01-01 14:29:33 2013-01-01 12:30:48     01:58:45    18856.0   \n",
       "486478 2013-01-01 14:29:33 2013-01-01 12:30:48     01:58:45    18856.0   \n",
       "\n",
       "       Item Category  Net value  Order Quantity  year  month  c_TA_KM  \\\n",
       "486477          P001     398.68             1.0  2013      1        0   \n",
       "486478          P002      13.33             1.0  2013      1        0   \n",
       "\n",
       "        Service_days  c_TA_SD  Total_Hrs  \n",
       "486477             0        0       1.98  \n",
       "486478             0        0       1.98  "
      ]
     },
     "execution_count": 56,
     "metadata": {},
     "output_type": "execute_result"
    }
   ],
   "source": [
    "df_13.head(2)"
   ]
  },
  {
   "cell_type": "code",
   "execution_count": 57,
   "metadata": {},
   "outputs": [
    {
     "data": {
      "text/plain": [
       "Index(['Unnamed: 0', 'Cust Type', 'Customer No.', 'Gate Pass Time',\n",
       "       'Invoice No', 'Job Card No', 'KMs Reading', 'Labour Total', 'Make',\n",
       "       'Misc Total', 'Model', 'OSL Total', 'Order Type', 'Parts Total',\n",
       "       'Pin code', 'Plant', 'Plant Name1', 'Print Status', 'Recovrbl Exp',\n",
       "       'Total Amt Wtd Tax.', 'User ID', 'Invoice_DateTime', 'JobCard_DateTime',\n",
       "       'Service_Time', 'DBM Order', 'Item Category', 'Net value',\n",
       "       'Order Quantity', 'year', 'month', 'c_TA_KM', 'Service_days', 'c_TA_SD',\n",
       "       'Total_Hrs'],\n",
       "      dtype='object')"
      ]
     },
     "execution_count": 57,
     "metadata": {},
     "output_type": "execute_result"
    }
   ],
   "source": [
    "df_13.columns"
   ]
  },
  {
   "cell_type": "code",
   "execution_count": 62,
   "metadata": {
    "colab": {
     "base_uri": "https://localhost:8080/",
     "height": 348
    },
    "colab_type": "code",
    "id": "r_wYXYEpiofw",
    "outputId": "adc447e9-824f-43f6-e24c-ffde4f47141e"
   },
   "outputs": [
    {
     "data": {
      "text/html": [
       "<div>\n",
       "<style scoped>\n",
       "    .dataframe tbody tr th:only-of-type {\n",
       "        vertical-align: middle;\n",
       "    }\n",
       "\n",
       "    .dataframe tbody tr th {\n",
       "        vertical-align: top;\n",
       "    }\n",
       "\n",
       "    .dataframe thead th {\n",
       "        text-align: right;\n",
       "    }\n",
       "</style>\n",
       "<table border=\"1\" class=\"dataframe\">\n",
       "  <thead>\n",
       "    <tr style=\"text-align: right;\">\n",
       "      <th></th>\n",
       "      <th>Customer No.</th>\n",
       "      <th>Make</th>\n",
       "      <th>Model</th>\n",
       "      <th>c_TA_KM</th>\n",
       "      <th>Service_days</th>\n",
       "      <th>c_TA_SD</th>\n",
       "      <th>Invoice No</th>\n",
       "      <th>Total Amt Wtd Tax.</th>\n",
       "      <th>Total_Hrs</th>\n",
       "      <th>CLTV</th>\n",
       "    </tr>\n",
       "  </thead>\n",
       "  <tbody>\n",
       "    <tr>\n",
       "      <th>0</th>\n",
       "      <td>1</td>\n",
       "      <td>MARUTI SUZUKI</td>\n",
       "      <td>OMNI</td>\n",
       "      <td>0</td>\n",
       "      <td>13</td>\n",
       "      <td>0</td>\n",
       "      <td>1</td>\n",
       "      <td>0.000000</td>\n",
       "      <td>321.370000</td>\n",
       "      <td>0.000000</td>\n",
       "    </tr>\n",
       "    <tr>\n",
       "      <th>1</th>\n",
       "      <td>10</td>\n",
       "      <td>GENERAL MOTORS</td>\n",
       "      <td>OPTRA</td>\n",
       "      <td>1</td>\n",
       "      <td>0</td>\n",
       "      <td>0</td>\n",
       "      <td>2</td>\n",
       "      <td>2557.822000</td>\n",
       "      <td>5.406000</td>\n",
       "      <td>1278.911000</td>\n",
       "    </tr>\n",
       "    <tr>\n",
       "      <th>2</th>\n",
       "      <td>1000</td>\n",
       "      <td>MARUTI SUZUKI</td>\n",
       "      <td>ALTO</td>\n",
       "      <td>0</td>\n",
       "      <td>0</td>\n",
       "      <td>0</td>\n",
       "      <td>2</td>\n",
       "      <td>1570.366667</td>\n",
       "      <td>3.696667</td>\n",
       "      <td>785.183333</td>\n",
       "    </tr>\n",
       "    <tr>\n",
       "      <th>3</th>\n",
       "      <td>10000</td>\n",
       "      <td>MARUTI SUZUKI</td>\n",
       "      <td>WAGONR</td>\n",
       "      <td>0</td>\n",
       "      <td>0</td>\n",
       "      <td>0</td>\n",
       "      <td>3</td>\n",
       "      <td>182.756667</td>\n",
       "      <td>13.626667</td>\n",
       "      <td>60.918889</td>\n",
       "    </tr>\n",
       "    <tr>\n",
       "      <th>4</th>\n",
       "      <td>10001</td>\n",
       "      <td>HONDA</td>\n",
       "      <td>CITY</td>\n",
       "      <td>0</td>\n",
       "      <td>0</td>\n",
       "      <td>0</td>\n",
       "      <td>4</td>\n",
       "      <td>3524.255556</td>\n",
       "      <td>7.762222</td>\n",
       "      <td>881.063889</td>\n",
       "    </tr>\n",
       "  </tbody>\n",
       "</table>\n",
       "</div>"
      ],
      "text/plain": [
       "  Customer No.            Make   Model  c_TA_KM  Service_days  c_TA_SD  \\\n",
       "0            1   MARUTI SUZUKI    OMNI        0            13        0   \n",
       "1           10  GENERAL MOTORS   OPTRA        1             0        0   \n",
       "2         1000   MARUTI SUZUKI    ALTO        0             0        0   \n",
       "3        10000   MARUTI SUZUKI  WAGONR        0             0        0   \n",
       "4        10001           HONDA    CITY        0             0        0   \n",
       "\n",
       "   Invoice No  Total Amt Wtd Tax.   Total_Hrs         CLTV  \n",
       "0           1            0.000000  321.370000     0.000000  \n",
       "1           2         2557.822000    5.406000  1278.911000  \n",
       "2           2         1570.366667    3.696667   785.183333  \n",
       "3           3          182.756667   13.626667    60.918889  \n",
       "4           4         3524.255556    7.762222   881.063889  "
      ]
     },
     "execution_count": 62,
     "metadata": {},
     "output_type": "execute_result"
    }
   ],
   "source": [
    "df_13_sot=df_13.groupby([\"Customer No.\",\"Make\",\"Model\",\" \",\"c_TA_KM\",\"Service_days\",\"c_TA_SD\"]).agg({\"Invoice No\":'nunique',\"Total Amt Wtd Tax.\":'mean',\"Total_Hrs\":'mean'}).reset_index()\n",
    "df_13_sot_modl=df_13_sot.copy()\n",
    "\n",
    "df_13_sot_modl[\"CLTV\"] = df_13_sot_modl[\"Total Amt Wtd Tax.\"] / df_13_sot_modl[\"Invoice No\"] \n",
    "df_13_sot_modl.head()\n",
    "\n"
   ]
  },
  {
   "cell_type": "code",
   "execution_count": 65,
   "metadata": {},
   "outputs": [
    {
     "data": {
      "text/plain": [
       "count     46903.000000\n",
       "mean       4365.372811\n",
       "std        9645.539523\n",
       "min           0.000000\n",
       "25%         525.990000\n",
       "50%        1731.320000\n",
       "75%        4498.650000\n",
       "max      343837.110000\n",
       "Name: CLTV, dtype: float64"
      ]
     },
     "execution_count": 65,
     "metadata": {},
     "output_type": "execute_result"
    }
   ],
   "source": [
    "df_13_sot_modl['CLTV'].describe()"
   ]
  },
  {
   "cell_type": "code",
   "execution_count": 66,
   "metadata": {
    "colab": {
     "base_uri": "https://localhost:8080/",
     "height": 72
    },
    "colab_type": "code",
    "id": "5ZS8c2APiogF",
    "outputId": "b2145fc5-702b-433e-cf80-7238cd781690"
   },
   "outputs": [
    {
     "name": "stdout",
     "output_type": "stream",
     "text": [
      "(23452, 10)\n",
      "(11725, 10)\n",
      "(11726, 10)\n"
     ]
    }
   ],
   "source": [
    "print(df_13_sot_modl[df_13_sot_modl[\"CLTV\"]<=1731.320000].shape)\n",
    "print(df_13_sot_modl[(df_13_sot_modl[\"CLTV\"]>1731.320000)&(df_13_sot_modl[\"CLTV\"]<=4498.650000)].shape)\n",
    "print(df_13_sot_modl[df_13_sot_modl[\"CLTV\"]>4498.650000].shape)"
   ]
  },
  {
   "cell_type": "code",
   "execution_count": 68,
   "metadata": {
    "colab": {},
    "colab_type": "code",
    "id": "Car18mzNiogL"
   },
   "outputs": [],
   "source": [
    "bins=[-1,1731.320000,4498.650000,343837.110000]\n",
    "labels=[\"Low\",\"Medium\",\"High\"]\n",
    "df_13_sot_modl[\"CLTV_Cluster\"]=pd.cut(df_13_sot_modl[\"CLTV\"], bins=bins, labels=labels)"
   ]
  },
  {
   "cell_type": "code",
   "execution_count": 69,
   "metadata": {
    "colab": {
     "base_uri": "https://localhost:8080/",
     "height": 90
    },
    "colab_type": "code",
    "id": "znlkYh20mZwv",
    "outputId": "f2abfbde-a8fd-4f8c-d0e8-2a654809d6e1"
   },
   "outputs": [
    {
     "data": {
      "text/plain": [
       "Low       23452\n",
       "High      11726\n",
       "Medium    11725\n",
       "Name: CLTV_Cluster, dtype: int64"
      ]
     },
     "execution_count": 69,
     "metadata": {},
     "output_type": "execute_result"
    }
   ],
   "source": [
    "df_13_sot_modl[\"CLTV_Cluster\"].value_counts(dropna=False)"
   ]
  },
  {
   "cell_type": "code",
   "execution_count": 70,
   "metadata": {
    "colab": {},
    "colab_type": "code",
    "id": "Ac6Gdi7ZiogQ"
   },
   "outputs": [],
   "source": [
    "df_13_sot_modl.dropna(inplace=True)"
   ]
  },
  {
   "cell_type": "code",
   "execution_count": 71,
   "metadata": {
    "colab": {},
    "colab_type": "code",
    "id": "GzvhflCyiogV"
   },
   "outputs": [],
   "source": [
    "df_13_sot_modl_test=df_13_sot_modl.copy()"
   ]
  },
  {
   "cell_type": "code",
   "execution_count": 72,
   "metadata": {},
   "outputs": [
    {
     "data": {
      "text/plain": [
       "Index(['Customer No.', 'Make', 'Model', 'c_TA_KM', 'Service_days', 'c_TA_SD',\n",
       "       'Invoice No', 'Total Amt Wtd Tax.', 'Total_Hrs', 'CLTV',\n",
       "       'CLTV_Cluster'],\n",
       "      dtype='object')"
      ]
     },
     "execution_count": 72,
     "metadata": {},
     "output_type": "execute_result"
    }
   ],
   "source": [
    "df_13_sot_modl_test.columns"
   ]
  },
  {
   "cell_type": "code",
   "execution_count": 73,
   "metadata": {
    "colab": {},
    "colab_type": "code",
    "id": "VGbc3tR5ioga"
   },
   "outputs": [],
   "source": [
    "le=LabelEncoder()\n",
    "df_13_sot_modl_test[\"CLTV_Cluster\"]=le.fit_transform(df_13_sot_modl_test[\"CLTV_Cluster\"])\n",
    "df_13_sot_modl_test[\"c_TA_SD\"]=le.fit_transform(df_13_sot_modl_test[\"c_TA_SD\"])\n",
    "df_13_sot_modl_test[\"c_TA_KM\"]=le.fit_transform(df_13_sot_modl_test[\"c_TA_KM\"])\n",
    "df_13_sot_modl_test[\"Make\"]=le.fit_transform(df_13_sot_modl_test[\"Make\"])\n",
    "df_13_sot_modl_test[\"Model\"]=le.fit_transform(df_13_sot_modl_test[\"Model\"])"
   ]
  },
  {
   "cell_type": "code",
   "execution_count": 74,
   "metadata": {
    "colab": {
     "base_uri": "https://localhost:8080/",
     "height": 244
    },
    "colab_type": "code",
    "id": "wxuoOpK6iogg",
    "outputId": "068b7cb8-5127-4f5b-ab1e-c2a1b71d5dff"
   },
   "outputs": [
    {
     "data": {
      "text/html": [
       "<div>\n",
       "<style scoped>\n",
       "    .dataframe tbody tr th:only-of-type {\n",
       "        vertical-align: middle;\n",
       "    }\n",
       "\n",
       "    .dataframe tbody tr th {\n",
       "        vertical-align: top;\n",
       "    }\n",
       "\n",
       "    .dataframe thead th {\n",
       "        text-align: right;\n",
       "    }\n",
       "</style>\n",
       "<table border=\"1\" class=\"dataframe\">\n",
       "  <thead>\n",
       "    <tr style=\"text-align: right;\">\n",
       "      <th></th>\n",
       "      <th>Customer No.</th>\n",
       "      <th>Make</th>\n",
       "      <th>Model</th>\n",
       "      <th>c_TA_KM</th>\n",
       "      <th>Service_days</th>\n",
       "      <th>c_TA_SD</th>\n",
       "      <th>Invoice No</th>\n",
       "      <th>Total Amt Wtd Tax.</th>\n",
       "      <th>Total_Hrs</th>\n",
       "      <th>CLTV</th>\n",
       "      <th>CLTV_Cluster</th>\n",
       "    </tr>\n",
       "  </thead>\n",
       "  <tbody>\n",
       "    <tr>\n",
       "      <th>0</th>\n",
       "      <td>1</td>\n",
       "      <td>12</td>\n",
       "      <td>91</td>\n",
       "      <td>0</td>\n",
       "      <td>13</td>\n",
       "      <td>0</td>\n",
       "      <td>1</td>\n",
       "      <td>0.000000</td>\n",
       "      <td>321.370000</td>\n",
       "      <td>0.000000</td>\n",
       "      <td>1</td>\n",
       "    </tr>\n",
       "    <tr>\n",
       "      <th>1</th>\n",
       "      <td>10</td>\n",
       "      <td>6</td>\n",
       "      <td>95</td>\n",
       "      <td>1</td>\n",
       "      <td>0</td>\n",
       "      <td>0</td>\n",
       "      <td>2</td>\n",
       "      <td>2557.822000</td>\n",
       "      <td>5.406000</td>\n",
       "      <td>1278.911000</td>\n",
       "      <td>1</td>\n",
       "    </tr>\n",
       "    <tr>\n",
       "      <th>2</th>\n",
       "      <td>1000</td>\n",
       "      <td>12</td>\n",
       "      <td>11</td>\n",
       "      <td>0</td>\n",
       "      <td>0</td>\n",
       "      <td>0</td>\n",
       "      <td>2</td>\n",
       "      <td>1570.366667</td>\n",
       "      <td>3.696667</td>\n",
       "      <td>785.183333</td>\n",
       "      <td>1</td>\n",
       "    </tr>\n",
       "    <tr>\n",
       "      <th>3</th>\n",
       "      <td>10000</td>\n",
       "      <td>12</td>\n",
       "      <td>160</td>\n",
       "      <td>0</td>\n",
       "      <td>0</td>\n",
       "      <td>0</td>\n",
       "      <td>3</td>\n",
       "      <td>182.756667</td>\n",
       "      <td>13.626667</td>\n",
       "      <td>60.918889</td>\n",
       "      <td>1</td>\n",
       "    </tr>\n",
       "    <tr>\n",
       "      <th>4</th>\n",
       "      <td>10001</td>\n",
       "      <td>8</td>\n",
       "      <td>32</td>\n",
       "      <td>0</td>\n",
       "      <td>0</td>\n",
       "      <td>0</td>\n",
       "      <td>4</td>\n",
       "      <td>3524.255556</td>\n",
       "      <td>7.762222</td>\n",
       "      <td>881.063889</td>\n",
       "      <td>1</td>\n",
       "    </tr>\n",
       "  </tbody>\n",
       "</table>\n",
       "</div>"
      ],
      "text/plain": [
       "  Customer No.  Make  Model  c_TA_KM  Service_days  c_TA_SD  Invoice No  \\\n",
       "0            1    12     91        0            13        0           1   \n",
       "1           10     6     95        1             0        0           2   \n",
       "2         1000    12     11        0             0        0           2   \n",
       "3        10000    12    160        0             0        0           3   \n",
       "4        10001     8     32        0             0        0           4   \n",
       "\n",
       "   Total Amt Wtd Tax.   Total_Hrs         CLTV  CLTV_Cluster  \n",
       "0            0.000000  321.370000     0.000000             1  \n",
       "1         2557.822000    5.406000  1278.911000             1  \n",
       "2         1570.366667    3.696667   785.183333             1  \n",
       "3          182.756667   13.626667    60.918889             1  \n",
       "4         3524.255556    7.762222   881.063889             1  "
      ]
     },
     "execution_count": 74,
     "metadata": {},
     "output_type": "execute_result"
    }
   ],
   "source": [
    "df_13_sot_modl_test.head()"
   ]
  },
  {
   "cell_type": "code",
   "execution_count": 112,
   "metadata": {
    "colab": {},
    "colab_type": "code",
    "id": "y_ldDpBNiogl"
   },
   "outputs": [],
   "source": [
    "X=df_13_sot_modl_test.drop([\"Customer No.\",\"CLTV\",\"CLTV_Cluster\",\"Invoice No\"],1)\n",
    "y=df_13_sot_modl_test[\"CLTV_Cluster\"]"
   ]
  },
  {
   "cell_type": "code",
   "execution_count": 113,
   "metadata": {
    "colab": {
     "base_uri": "https://localhost:8080/",
     "height": 35
    },
    "colab_type": "code",
    "id": "3JWk8nIdiu_K",
    "outputId": "84c6685c-9a00-4c6e-e84c-2df73a39ebae"
   },
   "outputs": [
    {
     "data": {
      "text/plain": [
       "['Make',\n",
       " 'Model',\n",
       " 'c_TA_KM',\n",
       " 'Service_days',\n",
       " 'c_TA_SD',\n",
       " 'Total Amt Wtd Tax.',\n",
       " 'Total_Hrs']"
      ]
     },
     "execution_count": 113,
     "metadata": {},
     "output_type": "execute_result"
    }
   ],
   "source": [
    "list(X)"
   ]
  },
  {
   "cell_type": "code",
   "execution_count": 114,
   "metadata": {},
   "outputs": [
    {
     "data": {
      "text/plain": [
       "46903"
      ]
     },
     "execution_count": 114,
     "metadata": {},
     "output_type": "execute_result"
    }
   ],
   "source": [
    "len(X)"
   ]
  },
  {
   "cell_type": "code",
   "execution_count": 115,
   "metadata": {
    "colab": {},
    "colab_type": "code",
    "id": "nbClf_FSiogp"
   },
   "outputs": [],
   "source": [
    "X_train,X_test,y_train,y_test=tts(X,y,test_size=0.3,random_state=0)"
   ]
  },
  {
   "cell_type": "markdown",
   "metadata": {},
   "source": [
    "### Decision Tree Classifier"
   ]
  },
  {
   "cell_type": "code",
   "execution_count": 116,
   "metadata": {
    "scrolled": true
   },
   "outputs": [
    {
     "name": "stdout",
     "output_type": "stream",
     "text": [
      "              precision    recall  f1-score   support\n",
      "\n",
      "           0       0.94      1.00      0.97      3600\n",
      "           1       0.99      0.92      0.95      6963\n",
      "           2       0.85      0.93      0.89      3508\n",
      "\n",
      "    accuracy                           0.94     14071\n",
      "   macro avg       0.93      0.95      0.94     14071\n",
      "weighted avg       0.94      0.94      0.94     14071\n",
      "\n"
     ]
    }
   ],
   "source": [
    "dt = DecisionTreeClassifier(criterion='entropy',max_depth=8,random_state=0)\n",
    "\n",
    "dt.fit(X_train,y_train)\n",
    "\n",
    "y_pred_dt = dt.predict(X_test)\n",
    "y_pred_dt_train = dt.predict(X_train)\n",
    "\n",
    "print(classification_report(y_test,y_pred_dt))"
   ]
  },
  {
   "cell_type": "code",
   "execution_count": 117,
   "metadata": {},
   "outputs": [
    {
     "name": "stdout",
     "output_type": "stream",
     "text": [
      "Training Accuracy : 0.94\n",
      "Testing Accuracy : 0.95\n"
     ]
    }
   ],
   "source": [
    "print(\"Training Accuracy :\" ,round(accuracy_score(y_test,y_pred_dt),2))\n",
    "print(\"Testing Accuracy :\" ,round(accuracy_score(y_train,y_pred_dt_train),2))"
   ]
  },
  {
   "cell_type": "code",
   "execution_count": 118,
   "metadata": {},
   "outputs": [
    {
     "name": "stdout",
     "output_type": "stream",
     "text": [
      "0.94\n"
     ]
    }
   ],
   "source": [
    "### Cross Validation Score\n",
    "\n",
    "dt_cv_score=cross_val_score(estimator=dt,X=X,y=y,cv=5)\n",
    "\n",
    "print(round(dt_cv_score.mean(),2))"
   ]
  },
  {
   "cell_type": "markdown",
   "metadata": {},
   "source": [
    "### Random Forest Classifier"
   ]
  },
  {
   "cell_type": "code",
   "execution_count": 119,
   "metadata": {
    "colab": {},
    "colab_type": "code",
    "id": "ZzDZOFv4iogu"
   },
   "outputs": [],
   "source": [
    "rfc=RandomForestClassifier(criterion='entropy',max_depth=8,random_state=0)"
   ]
  },
  {
   "cell_type": "code",
   "execution_count": 120,
   "metadata": {
    "colab": {
     "base_uri": "https://localhost:8080/",
     "height": 164
    },
    "colab_type": "code",
    "id": "B8VCTxDqiog2",
    "outputId": "bfd38301-9729-4806-b5d7-41e8e84e9dd7"
   },
   "outputs": [
    {
     "data": {
      "text/plain": [
       "RandomForestClassifier(criterion='entropy', max_depth=8, random_state=0)"
      ]
     },
     "execution_count": 120,
     "metadata": {},
     "output_type": "execute_result"
    }
   ],
   "source": [
    "rfc.fit(X_train,y_train)"
   ]
  },
  {
   "cell_type": "code",
   "execution_count": 121,
   "metadata": {
    "colab": {},
    "colab_type": "code",
    "id": "ZbVkc4A0nG_4"
   },
   "outputs": [],
   "source": [
    "y_pred_rfc=rfc.predict(X_test)"
   ]
  },
  {
   "cell_type": "code",
   "execution_count": 122,
   "metadata": {
    "colab": {
     "base_uri": "https://localhost:8080/",
     "height": 201
    },
    "colab_type": "code",
    "id": "-05hvDOHnG51",
    "outputId": "a1a7f4ee-f404-4bce-f5ab-a93ffb5eb04c"
   },
   "outputs": [
    {
     "name": "stdout",
     "output_type": "stream",
     "text": [
      "              precision    recall  f1-score   support\n",
      "\n",
      "           0       0.94      1.00      0.97      3600\n",
      "           1       1.00      0.90      0.95      6963\n",
      "           2       0.83      0.94      0.88      3508\n",
      "\n",
      "    accuracy                           0.94     14071\n",
      "   macro avg       0.92      0.95      0.93     14071\n",
      "weighted avg       0.94      0.94      0.94     14071\n",
      "\n"
     ]
    }
   ],
   "source": [
    "print(classification_report(y_test,y_pred_rfc))"
   ]
  },
  {
   "cell_type": "code",
   "execution_count": 88,
   "metadata": {
    "colab": {
     "base_uri": "https://localhost:8080/",
     "height": 35
    },
    "colab_type": "code",
    "id": "klFBNiCKtTbg",
    "outputId": "a133eba7-be9c-4ab0-be29-ce30edc0917c"
   },
   "outputs": [
    {
     "data": {
      "text/plain": [
       "0.94"
      ]
     },
     "execution_count": 88,
     "metadata": {},
     "output_type": "execute_result"
    }
   ],
   "source": [
    "round(accuracy_score(y_test,y_pred_rfc),2)"
   ]
  },
  {
   "cell_type": "code",
   "execution_count": 89,
   "metadata": {
    "colab": {
     "base_uri": "https://localhost:8080/",
     "height": 283
    },
    "colab_type": "code",
    "id": "4fwkUghFiohi",
    "outputId": "86313c5f-fc45-4864-bbf9-d18a7c76c2e6"
   },
   "outputs": [
    {
     "data": {
      "text/plain": [
       "<BarContainer object of 7 artists>"
      ]
     },
     "execution_count": 89,
     "metadata": {},
     "output_type": "execute_result"
    },
    {
     "data": {
      "image/png": "[encoded data removed]",
      "text/plain": [
       "<Figure size 432x288 with 1 Axes>"
      ]
     },
     "metadata": {
      "needs_background": "light"
     },
     "output_type": "display_data"
    }
   ],
   "source": [
    "plt.barh(list(X),list(rfc.feature_importances_))"
   ]
  },
  {
   "cell_type": "code",
   "execution_count": 90,
   "metadata": {
    "colab": {},
    "colab_type": "code",
    "id": "seOC2uftioht"
   },
   "outputs": [],
   "source": [
    "score=cross_val_score(estimator=rfc,X=X,y=y,cv=5)"
   ]
  },
  {
   "cell_type": "code",
   "execution_count": 91,
   "metadata": {
    "colab": {
     "base_uri": "https://localhost:8080/",
     "height": 35
    },
    "colab_type": "code",
    "id": "s6AWsz8aioiL",
    "outputId": "64e6cbe7-1992-4965-f88a-beb4c14f1482"
   },
   "outputs": [
    {
     "data": {
      "text/plain": [
       "0.9381702024847666"
      ]
     },
     "execution_count": 91,
     "metadata": {},
     "output_type": "execute_result"
    }
   ],
   "source": [
    "score.mean()"
   ]
  },
  {
   "cell_type": "markdown",
   "metadata": {},
   "source": [
    "### XgBoost Classifier"
   ]
  },
  {
   "cell_type": "code",
   "execution_count": 93,
   "metadata": {},
   "outputs": [],
   "source": [
    "from xgboost import XGBClassifier"
   ]
  },
  {
   "cell_type": "code",
   "execution_count": 94,
   "metadata": {
    "colab": {},
    "colab_type": "code",
    "id": "RytSQeZFioiP"
   },
   "outputs": [],
   "source": [
    "xgb=XGBClassifier()"
   ]
  },
  {
   "cell_type": "code",
   "execution_count": 95,
   "metadata": {
    "colab": {
     "base_uri": "https://localhost:8080/",
     "height": 146
    },
    "colab_type": "code",
    "id": "obo-rUrE5V6-",
    "outputId": "0eb0a767-d1df-4f09-a19a-c62d5e4d254f"
   },
   "outputs": [
    {
     "data": {
      "text/plain": [
       "XGBClassifier(base_score=0.5, booster='gbtree', colsample_bylevel=1,\n",
       "              colsample_bynode=1, colsample_bytree=1, gamma=0, gpu_id=-1,\n",
       "              importance_type='gain', interaction_constraints='',\n",
       "              learning_rate=0.300000012, max_delta_step=0, max_depth=6,\n",
       "              min_child_weight=1, missing=nan, monotone_constraints='()',\n",
       "              n_estimators=100, n_jobs=0, num_parallel_tree=1,\n",
       "              objective='multi:softprob', random_state=0, reg_alpha=0,\n",
       "              reg_lambda=1, scale_pos_weight=None, subsample=1,\n",
       "              tree_method='exact', validate_parameters=1, verbosity=None)"
      ]
     },
     "execution_count": 95,
     "metadata": {},
     "output_type": "execute_result"
    }
   ],
   "source": [
    "xgb.fit(X_train,y_train)"
   ]
  },
  {
   "cell_type": "code",
   "execution_count": 96,
   "metadata": {
    "colab": {},
    "colab_type": "code",
    "id": "_brbVeJ05V_O"
   },
   "outputs": [],
   "source": [
    "y_pred_xgb=xgb.predict(X_test)"
   ]
  },
  {
   "cell_type": "code",
   "execution_count": 97,
   "metadata": {
    "colab": {
     "base_uri": "https://localhost:8080/",
     "height": 35
    },
    "colab_type": "code",
    "id": "QOJEcWDz5V3n",
    "outputId": "3dbd30af-eeb2-4fd9-898c-82dc49df8e18"
   },
   "outputs": [
    {
     "data": {
      "text/plain": [
       "0.9404448866462938"
      ]
     },
     "execution_count": 97,
     "metadata": {},
     "output_type": "execute_result"
    }
   ],
   "source": [
    "accuracy_score(y_test,y_pred_xgb)"
   ]
  },
  {
   "cell_type": "code",
   "execution_count": 98,
   "metadata": {
    "colab": {
     "base_uri": "https://localhost:8080/",
     "height": 201
    },
    "colab_type": "code",
    "id": "xOR8IOTI5lGU",
    "outputId": "bc1da195-c545-40ee-9e47-8012040ebe70"
   },
   "outputs": [
    {
     "name": "stdout",
     "output_type": "stream",
     "text": [
      "              precision    recall  f1-score   support\n",
      "\n",
      "           0       0.95      1.00      0.97      3600\n",
      "           1       0.99      0.92      0.95      6963\n",
      "           2       0.85      0.93      0.89      3508\n",
      "\n",
      "    accuracy                           0.94     14071\n",
      "   macro avg       0.93      0.95      0.94     14071\n",
      "weighted avg       0.94      0.94      0.94     14071\n",
      "\n"
     ]
    }
   ],
   "source": [
    "print(classification_report(y_test,y_pred_xgb))"
   ]
  },
  {
   "cell_type": "code",
   "execution_count": 99,
   "metadata": {
    "colab": {},
    "colab_type": "code",
    "id": "VAiFbWLGjJDZ"
   },
   "outputs": [],
   "source": [
    "scores_xgb=cross_val_score(estimator=xgb,X=X,y=y,cv=5)"
   ]
  },
  {
   "cell_type": "code",
   "execution_count": 100,
   "metadata": {
    "colab": {
     "base_uri": "https://localhost:8080/",
     "height": 35
    },
    "colab_type": "code",
    "id": "MaYPl3D4ioiz",
    "outputId": "4111538b-9c9f-4fcd-faae-eb55478ef840"
   },
   "outputs": [
    {
     "data": {
      "text/plain": [
       "0.9411763876946756"
      ]
     },
     "execution_count": 100,
     "metadata": {},
     "output_type": "execute_result"
    }
   ],
   "source": [
    "scores_xgb.mean()"
   ]
  },
  {
   "cell_type": "code",
   "execution_count": null,
   "metadata": {},
   "outputs": [],
   "source": []
  }
 ],
 "metadata": {
  "accelerator": "GPU",
  "colab": {
   "machine_shape": "hm",
   "name": "Capstone Project New.ipynb",
   "provenance": [],
   "toc_visible": true
  },
  "kernelspec": {
   "display_name": "Python 3",
   "language": "python",
   "name": "python3"
  },
  "language_info": {
   "codemirror_mode": {
    "name": "ipython",
    "version": 3
   },
   "file_extension": ".py",
   "mimetype": "text/x-python",
   "name": "python",
   "nbconvert_exporter": "python",
   "pygments_lexer": "ipython3",
   "version": "3.7.3"
  }
 },
 "nbformat": 4,
 "nbformat_minor": 1
}
