{
 "cells": [
  {
   "cell_type": "code",
   "execution_count": 11,
   "metadata": {},
   "outputs": [],
   "source": [
    "import numpy as np\n",
    "import pandas as pd\n",
    "import matplotlib.pyplot as plt\n",
    "import seaborn as sns\n",
    "import warnings\n",
    "warnings.simplefilter('ignore')\n",
    "pd.set_option('display.max_columns', None)\n",
    "pd.set_option('display.max_rows',50)\n",
    "#!pip install pgeocode\n",
    "#Python library for high performance off-line querying of GPS coordinates\n",
    "# import pgeocode\n",
    "# nomi = pgeocode.Nominatim(country='IN', unique=True)"
   ]
  },
  {
   "cell_type": "code",
   "execution_count": 12,
   "metadata": {},
   "outputs": [],
   "source": [
    "final_invoice_df = pd.read_csv('C:/Users/alams/Desktop/Titanic/Mahindra First Choice Dataset/Final_invoice.csv')\n",
    "jtd_df = pd.read_csv('C:/Users/alams/Desktop/Titanic/Mahindra First Choice Dataset/JTD.csv')\n",
    "customer_df = pd.read_excel('C:/Users/alams/Desktop/Titanic/Mahindra First Choice Dataset/Customer_Data.xlsx')"
   ]
  },
  {
   "cell_type": "code",
   "execution_count": 15,
   "metadata": {},
   "outputs": [
    {
     "data": {
      "text/plain": [
       "555338"
      ]
     },
     "execution_count": 15,
     "metadata": {},
     "output_type": "execute_result"
    }
   ],
   "source": [
    "customer_df['Business Partner'].nunique()"
   ]
  },
  {
   "cell_type": "code",
   "execution_count": 16,
   "metadata": {},
   "outputs": [
    {
     "data": {
      "text/plain": [
       "((492314, 59), (5619484, 10), (555338, 9))"
      ]
     },
     "execution_count": 16,
     "metadata": {},
     "output_type": "execute_result"
    }
   ],
   "source": [
    "final_invoice_df.shape, jtd_df.shape, customer_df.shape"
   ]
  },
  {
   "cell_type": "markdown",
   "metadata": {},
   "source": [
    "# Total Column 78"
   ]
  },
  {
   "cell_type": "code",
   "execution_count": 17,
   "metadata": {},
   "outputs": [
    {
     "data": {
      "text/plain": [
       "Business Partner     0.000000\n",
       "Customer No.         0.000000\n",
       "Partner Type         0.014046\n",
       "Data Origin          0.024490\n",
       "Title                8.338525\n",
       "Marital Status      97.112209\n",
       "Occupation          97.378533\n",
       "Date of Birth       97.579132\n",
       "Death date          99.880613\n",
       "dtype: float64"
      ]
     },
     "execution_count": 17,
     "metadata": {},
     "output_type": "execute_result"
    }
   ],
   "source": [
    "customer_df.head()\n",
    "customer_df.isnull().sum()/len(customer_df['Customer No.'])*100"
   ]
  },
  {
   "cell_type": "code",
   "execution_count": 18,
   "metadata": {},
   "outputs": [],
   "source": [
    "#Dropped Columns from Customer data, More than 90% are Null\n",
    "customer_df = customer_df.drop(['Title','Marital Status','Occupation','Date of Birth','Death date'],axis=1)"
   ]
  },
  {
   "cell_type": "code",
   "execution_count": 19,
   "metadata": {},
   "outputs": [],
   "source": [
    "customer_df['Partner Type'] = customer_df['Partner Type'].fillna(customer_df['Partner Type'].mode()[0])\n",
    "customer_df['Data Origin'] = customer_df['Data Origin'].fillna(customer_df['Data Origin'].mode()[0])"
   ]
  },
  {
   "cell_type": "code",
   "execution_count": 20,
   "metadata": {},
   "outputs": [
    {
     "data": {
      "text/plain": [
       "Business Partner    0\n",
       "Customer No.        0\n",
       "Partner Type        0\n",
       "Data Origin         0\n",
       "dtype: int64"
      ]
     },
     "execution_count": 20,
     "metadata": {},
     "output_type": "execute_result"
    }
   ],
   "source": [
    "customer_df.isnull().sum()"
   ]
  },
  {
   "cell_type": "code",
   "execution_count": 21,
   "metadata": {},
   "outputs": [],
   "source": [
    "final_invoice_df = final_invoice_df.drop(['Amt Rcvd From Custom','Amt Rcvd From Ins Co',\n",
    "                                          'CGST(14%)','CGST(2.5%)', 'CGST(6%)','IGST(12%)','CGST(9%)',\n",
    "                                          'IGST(18%)','IGST(28%)','IGST(5%)','SGST/UGST(14%)',\n",
    "                                          'SGST/UGST(2.5%)','SGST/UGST(6%)','SGST/UGST(9%)',\n",
    "                                          'TDS amount','Service Advisor Name','Outstanding Amt',\n",
    "                                        'Total CGST','Total GST','Total IGST','Total SGST/UGST',\n",
    "                                          'Policy no.','Cash /Cashless Type','Expiry Date','Gate Pass Date',\n",
    "                                          'Insurance Company','Claim No.'\n",
    "                                         ],axis=1)"
   ]
  },
  {
   "cell_type": "code",
   "execution_count": 22,
   "metadata": {},
   "outputs": [
    {
     "data": {
      "text/plain": [
       "(492314, 32)"
      ]
     },
     "execution_count": 22,
     "metadata": {},
     "output_type": "execute_result"
    }
   ],
   "source": [
    "final_invoice_df.shape"
   ]
  },
  {
   "cell_type": "code",
   "execution_count": 23,
   "metadata": {},
   "outputs": [],
   "source": [
    "final_invoice_df[\"Invoice_DateTime\"]=final_invoice_df[\"Invoice Date\"]+' '+final_invoice_df[\"Invoice Time\"]\n",
    "final_invoice_df[\"JobCard_DateTime\"]=final_invoice_df[\"JobCard Date\"]+' '+final_invoice_df[\"JobCard Time\"]\n",
    "final_invoice_df['JobCard_DateTime'] = pd.to_datetime(final_invoice_df['JobCard_DateTime'],dayfirst=True)\n",
    "final_invoice_df['Invoice_DateTime'] = pd.to_datetime(final_invoice_df['Invoice_DateTime'],dayfirst=True)\n",
    "final_invoice_df[\"Service_Time\"]=final_invoice_df[\"Invoice_DateTime\"]-final_invoice_df[\"JobCard_DateTime\"]"
   ]
  },
  {
   "cell_type": "code",
   "execution_count": 24,
   "metadata": {},
   "outputs": [
    {
     "data": {
      "text/plain": [
       "0        19 days 21:00:53\n",
       "1         0 days 19:55:14\n",
       "2         0 days 23:32:13\n",
       "3         0 days 01:28:12\n",
       "4         1 days 01:21:35\n",
       "               ...       \n",
       "492309    0 days 05:41:46\n",
       "492310    0 days 06:24:37\n",
       "492311    0 days 07:16:05\n",
       "492312    0 days 03:05:11\n",
       "492313    0 days 00:15:13\n",
       "Name: Service_Time, Length: 492314, dtype: timedelta64[ns]"
      ]
     },
     "execution_count": 24,
     "metadata": {},
     "output_type": "execute_result"
    }
   ],
   "source": [
    "final_invoice_df[\"Service_Time\"]"
   ]
  },
  {
   "cell_type": "code",
   "execution_count": 25,
   "metadata": {},
   "outputs": [],
   "source": [
    "final_invoice_df.drop(['JobCard Date','JobCard Time','Invoice Date','Invoice Time'],axis = 1,inplace=True)"
   ]
  },
  {
   "cell_type": "code",
   "execution_count": 26,
   "metadata": {},
   "outputs": [],
   "source": [
    "import pgeocode\n",
    "nomi = pgeocode.Nominatim('IN')"
   ]
  },
  {
   "cell_type": "code",
   "execution_count": 27,
   "metadata": {},
   "outputs": [
    {
     "data": {
      "text/plain": [
       "postal_code                                    400059\n",
       "country code                                       IN\n",
       "place_name        Marol Bazar, J.B. Nagar, Marol Naka\n",
       "state_name                                Maharashtra\n",
       "state_code                                         16\n",
       "county_name                                    Mumbai\n",
       "county_code                                       519\n",
       "community_name                                 Mumbai\n",
       "community_code                                    NaN\n",
       "latitude                                      18.9292\n",
       "longitude                                     72.8856\n",
       "accuracy                                            1\n",
       "Name: 0, dtype: object"
      ]
     },
     "execution_count": 27,
     "metadata": {},
     "output_type": "execute_result"
    }
   ],
   "source": [
    "nomi.query_postal_code('400059')"
   ]
  },
  {
   "cell_type": "code",
   "execution_count": 28,
   "metadata": {},
   "outputs": [
    {
     "data": {
      "text/plain": [
       "Index(['Unnamed: 0', 'Area / Locality', 'CITY', 'Cust Type', 'Customer No.',\n",
       "       'District', 'Gate Pass Time', 'Invoice No', 'Job Card No',\n",
       "       'KMs Reading', 'Labour Total', 'Make', 'Misc Total', 'Model', 'ODN No.',\n",
       "       'OSL Total', 'Order Type', 'Parts Total', 'Pin code', 'Plant',\n",
       "       'Plant Name1', 'Print Status', 'Recovrbl Exp', 'Regn No',\n",
       "       'Technician Name', 'Total Amt Wtd Tax.', 'Total Value', 'User ID',\n",
       "       'Invoice_DateTime', 'JobCard_DateTime', 'Service_Time'],\n",
       "      dtype='object')"
      ]
     },
     "execution_count": 28,
     "metadata": {},
     "output_type": "execute_result"
    }
   ],
   "source": [
    "final_invoice_df.columns"
   ]
  },
  {
   "cell_type": "code",
   "execution_count": 29,
   "metadata": {},
   "outputs": [],
   "source": [
    "final_invoice_df[\"Clean_CITY\"]=nomi.query_postal_code(np.array(final_invoice_df[\"Pin code\"].astype(str))).county_name\n",
    "final_invoice_df[\"Clean_District\"]=nomi.query_postal_code(np.array(final_invoice_df[\"Pin code\"].astype(str))).state_name\n",
    "final_invoice_df[\"Clean_Location_Area\"]=nomi.query_postal_code(np.array(final_invoice_df[\"Pin code\"].astype(str))).place_name"
   ]
  },
  {
   "cell_type": "code",
   "execution_count": 30,
   "metadata": {},
   "outputs": [
    {
     "data": {
      "text/html": [
       "<div>\n",
       "<style scoped>\n",
       "    .dataframe tbody tr th:only-of-type {\n",
       "        vertical-align: middle;\n",
       "    }\n",
       "\n",
       "    .dataframe tbody tr th {\n",
       "        vertical-align: top;\n",
       "    }\n",
       "\n",
       "    .dataframe thead th {\n",
       "        text-align: right;\n",
       "    }\n",
       "</style>\n",
       "<table border=\"1\" class=\"dataframe\">\n",
       "  <thead>\n",
       "    <tr style=\"text-align: right;\">\n",
       "      <th></th>\n",
       "      <th>Clean_CITY</th>\n",
       "      <th>Clean_District</th>\n",
       "      <th>Clean_Location_Area</th>\n",
       "    </tr>\n",
       "  </thead>\n",
       "  <tbody>\n",
       "    <tr>\n",
       "      <td>0</td>\n",
       "      <td>Thane</td>\n",
       "      <td>Maharashtra</td>\n",
       "      <td>Thane Bazar, Thane H.O, Thane R.S.</td>\n",
       "    </tr>\n",
       "    <tr>\n",
       "      <td>1</td>\n",
       "      <td>Thane</td>\n",
       "      <td>Maharashtra</td>\n",
       "      <td>Thane East, Kopri Colony</td>\n",
       "    </tr>\n",
       "    <tr>\n",
       "      <td>2</td>\n",
       "      <td>Thane</td>\n",
       "      <td>Maharashtra</td>\n",
       "      <td>Chitalsar Manpada, Sandozbaugh</td>\n",
       "    </tr>\n",
       "    <tr>\n",
       "      <td>3</td>\n",
       "      <td>Thane</td>\n",
       "      <td>Maharashtra</td>\n",
       "      <td>Thane East, Kopri Colony</td>\n",
       "    </tr>\n",
       "    <tr>\n",
       "      <td>4</td>\n",
       "      <td>Thane</td>\n",
       "      <td>Maharashtra</td>\n",
       "      <td>Thane East, Kopri Colony</td>\n",
       "    </tr>\n",
       "    <tr>\n",
       "      <td>...</td>\n",
       "      <td>...</td>\n",
       "      <td>...</td>\n",
       "      <td>...</td>\n",
       "    </tr>\n",
       "    <tr>\n",
       "      <td>492309</td>\n",
       "      <td>Tiruvallur</td>\n",
       "      <td>Tamil Nadu</td>\n",
       "      <td>Ambattur Indl Estate, Athipattu</td>\n",
       "    </tr>\n",
       "    <tr>\n",
       "      <td>492310</td>\n",
       "      <td>Kanchipuram</td>\n",
       "      <td>Tamil Nadu</td>\n",
       "      <td>Adambakkam, Nilamangai Nagar</td>\n",
       "    </tr>\n",
       "    <tr>\n",
       "      <td>492311</td>\n",
       "      <td>Kanchipuram</td>\n",
       "      <td>Tamil Nadu</td>\n",
       "      <td>Lakshmipuram, Chromepet, Nehrunagar, Nagalkeni...</td>\n",
       "    </tr>\n",
       "    <tr>\n",
       "      <td>492312</td>\n",
       "      <td>Chennai</td>\n",
       "      <td>Tamil Nadu</td>\n",
       "      <td>Velacheri</td>\n",
       "    </tr>\n",
       "    <tr>\n",
       "      <td>492313</td>\n",
       "      <td>Kanchipuram</td>\n",
       "      <td>Tamil Nadu</td>\n",
       "      <td>Chennai Airport, Meenambakkam, St.Thomas Mount...</td>\n",
       "    </tr>\n",
       "  </tbody>\n",
       "</table>\n",
       "<p>492314 rows × 3 columns</p>\n",
       "</div>"
      ],
      "text/plain": [
       "         Clean_CITY Clean_District  \\\n",
       "0             Thane    Maharashtra   \n",
       "1             Thane    Maharashtra   \n",
       "2             Thane    Maharashtra   \n",
       "3             Thane    Maharashtra   \n",
       "4             Thane    Maharashtra   \n",
       "...             ...            ...   \n",
       "492309   Tiruvallur     Tamil Nadu   \n",
       "492310  Kanchipuram     Tamil Nadu   \n",
       "492311  Kanchipuram     Tamil Nadu   \n",
       "492312      Chennai     Tamil Nadu   \n",
       "492313  Kanchipuram     Tamil Nadu   \n",
       "\n",
       "                                      Clean_Location_Area  \n",
       "0                      Thane Bazar, Thane H.O, Thane R.S.  \n",
       "1                                Thane East, Kopri Colony  \n",
       "2                          Chitalsar Manpada, Sandozbaugh  \n",
       "3                                Thane East, Kopri Colony  \n",
       "4                                Thane East, Kopri Colony  \n",
       "...                                                   ...  \n",
       "492309                    Ambattur Indl Estate, Athipattu  \n",
       "492310                       Adambakkam, Nilamangai Nagar  \n",
       "492311  Lakshmipuram, Chromepet, Nehrunagar, Nagalkeni...  \n",
       "492312                                          Velacheri  \n",
       "492313  Chennai Airport, Meenambakkam, St.Thomas Mount...  \n",
       "\n",
       "[492314 rows x 3 columns]"
      ]
     },
     "execution_count": 30,
     "metadata": {},
     "output_type": "execute_result"
    }
   ],
   "source": [
    "final_invoice_df[[\"Clean_CITY\",'Clean_District',\"Clean_Location_Area\"]]"
   ]
  },
  {
   "cell_type": "code",
   "execution_count": 31,
   "metadata": {},
   "outputs": [],
   "source": [
    "final_invoice_df.drop([\"Area / Locality\",\"CITY\",\"District\"],1,inplace=True)"
   ]
  },
  {
   "cell_type": "code",
   "execution_count": 32,
   "metadata": {},
   "outputs": [
    {
     "data": {
      "text/plain": [
       "((492314, 31), (5619484, 10), (555338, 4))"
      ]
     },
     "execution_count": 32,
     "metadata": {},
     "output_type": "execute_result"
    }
   ],
   "source": [
    "final_invoice_df.shape, jtd_df.shape, customer_df.shape"
   ]
  },
  {
   "cell_type": "code",
   "execution_count": 34,
   "metadata": {},
   "outputs": [],
   "source": [
    "# # dropping unnecessary columns\n",
    "# customer_data_df.drop(['Unnamed: 0'],axis=1,inplace=True)\n",
    "final_invoice_df.drop(['Unnamed: 0','ODN No.','Technician Name','Regn No','Total Value'],axis=1,inplace=True)\n",
    "jtd_df.drop(['Unnamed: 0','Labor Value Number'],axis=1,inplace=True)"
   ]
  },
  {
   "cell_type": "code",
   "execution_count": 35,
   "metadata": {},
   "outputs": [
    {
     "data": {
      "text/plain": [
       "Index(['Cust Type', 'Customer No.', 'Gate Pass Time', 'Invoice No',\n",
       "       'Job Card No', 'KMs Reading', 'Labour Total', 'Make', 'Misc Total',\n",
       "       'Model', 'OSL Total', 'Order Type', 'Parts Total', 'Pin code', 'Plant',\n",
       "       'Plant Name1', 'Print Status', 'Recovrbl Exp', 'Total Amt Wtd Tax.',\n",
       "       'User ID', 'Invoice_DateTime', 'JobCard_DateTime', 'Service_Time',\n",
       "       'Clean_CITY', 'Clean_District', 'Clean_Location_Area'],\n",
       "      dtype='object')"
      ]
     },
     "execution_count": 35,
     "metadata": {},
     "output_type": "execute_result"
    }
   ],
   "source": [
    "final_invoice_df.columns"
   ]
  },
  {
   "cell_type": "code",
   "execution_count": null,
   "metadata": {},
   "outputs": [],
   "source": [
    "final_invoice_df.drop(['Unnamed: 0','ODN No.','Technician Name','Regn No','Total Value'],axis=1,inplace=True)"
   ]
  },
  {
   "cell_type": "code",
   "execution_count": 23,
   "metadata": {},
   "outputs": [
    {
     "data": {
      "text/plain": [
       "Index(['Business Partner', 'Customer No.', 'Partner Type', 'Data Origin'], dtype='object')"
      ]
     },
     "execution_count": 23,
     "metadata": {},
     "output_type": "execute_result"
    }
   ],
   "source": [
    "customer_df.columns"
   ]
  },
  {
   "cell_type": "code",
   "execution_count": null,
   "metadata": {},
   "outputs": [],
   "source": [
    "jtd_df.drop(['Unnamed: 0','Labor Value Number'],axis=1,inplace=True)"
   ]
  },
  {
   "cell_type": "code",
   "execution_count": 84,
   "metadata": {},
   "outputs": [
    {
     "data": {
      "text/plain": [
       "P002    3250293\n",
       "P001    1845451\n",
       "P011     343288\n",
       "P010     128823\n",
       "G2TX      51629\n",
       "Name: Item Category, dtype: int64"
      ]
     },
     "execution_count": 84,
     "metadata": {},
     "output_type": "execute_result"
    }
   ],
   "source": [
    "jtd_df['Item Category'].value_counts()"
   ]
  },
  {
   "cell_type": "code",
   "execution_count": 53,
   "metadata": {
    "scrolled": true
   },
   "outputs": [
    {
     "data": {
      "text/html": [
       "<div>\n",
       "<style scoped>\n",
       "    .dataframe tbody tr th:only-of-type {\n",
       "        vertical-align: middle;\n",
       "    }\n",
       "\n",
       "    .dataframe tbody tr th {\n",
       "        vertical-align: top;\n",
       "    }\n",
       "\n",
       "    .dataframe thead th {\n",
       "        text-align: right;\n",
       "    }\n",
       "</style>\n",
       "<table border=\"1\" class=\"dataframe\">\n",
       "  <thead>\n",
       "    <tr style=\"text-align: right;\">\n",
       "      <th></th>\n",
       "      <th>DBM Order</th>\n",
       "      <th>Order Item</th>\n",
       "      <th>Material</th>\n",
       "      <th>Description</th>\n",
       "      <th>Item Category</th>\n",
       "      <th>Order Quantity</th>\n",
       "      <th>Target quantity UoM</th>\n",
       "      <th>Net value</th>\n",
       "    </tr>\n",
       "  </thead>\n",
       "  <tbody>\n",
       "    <tr>\n",
       "      <td>0</td>\n",
       "      <td>22385</td>\n",
       "      <td>180</td>\n",
       "      <td>OSLCC_SRV31</td>\n",
       "      <td>MACHINING RR.SUSPENSION CHARGE  (MAJOR)</td>\n",
       "      <td>P010</td>\n",
       "      <td>1.2</td>\n",
       "      <td>MIN</td>\n",
       "      <td>1869.87</td>\n",
       "    </tr>\n",
       "    <tr>\n",
       "      <td>1</td>\n",
       "      <td>23910</td>\n",
       "      <td>10</td>\n",
       "      <td>1DM279018170117</td>\n",
       "      <td>ASSY.OIL COOLER (6-PLATE) (VOR</td>\n",
       "      <td>P002</td>\n",
       "      <td>1.0</td>\n",
       "      <td>EA</td>\n",
       "      <td>2151.13</td>\n",
       "    </tr>\n",
       "    <tr>\n",
       "      <td>2</td>\n",
       "      <td>23910</td>\n",
       "      <td>40</td>\n",
       "      <td>1IS150203BE01</td>\n",
       "      <td>FRONT WHEEL BEARING/ LUBRICATE</td>\n",
       "      <td>P002</td>\n",
       "      <td>1.0</td>\n",
       "      <td>EA</td>\n",
       "      <td>2552.92</td>\n",
       "    </tr>\n",
       "    <tr>\n",
       "      <td>3</td>\n",
       "      <td>23910</td>\n",
       "      <td>60</td>\n",
       "      <td>1DM279001990173</td>\n",
       "      <td>ASSY.CYL.HEAD W /O INJ.(NA W /O</td>\n",
       "      <td>P002</td>\n",
       "      <td>1.0</td>\n",
       "      <td>EA</td>\n",
       "      <td>20360.14</td>\n",
       "    </tr>\n",
       "    <tr>\n",
       "      <td>4</td>\n",
       "      <td>23910</td>\n",
       "      <td>70</td>\n",
       "      <td>1DM88552790S001SA</td>\n",
       "      <td>Engine Overhaul Kit -Indica Di</td>\n",
       "      <td>P002</td>\n",
       "      <td>1.0</td>\n",
       "      <td>EA</td>\n",
       "      <td>10691.63</td>\n",
       "    </tr>\n",
       "  </tbody>\n",
       "</table>\n",
       "</div>"
      ],
      "text/plain": [
       "   DBM Order  Order Item           Material  \\\n",
       "0      22385         180        OSLCC_SRV31   \n",
       "1      23910          10    1DM279018170117   \n",
       "2      23910          40      1IS150203BE01   \n",
       "3      23910          60    1DM279001990173   \n",
       "4      23910          70  1DM88552790S001SA   \n",
       "\n",
       "                               Description Item Category  Order Quantity  \\\n",
       "0  MACHINING RR.SUSPENSION CHARGE  (MAJOR)          P010             1.2   \n",
       "1           ASSY.OIL COOLER (6-PLATE) (VOR          P002             1.0   \n",
       "2           FRONT WHEEL BEARING/ LUBRICATE          P002             1.0   \n",
       "3          ASSY.CYL.HEAD W /O INJ.(NA W /O          P002             1.0   \n",
       "4           Engine Overhaul Kit -Indica Di          P002             1.0   \n",
       "\n",
       "  Target quantity UoM  Net value  \n",
       "0                 MIN    1869.87  \n",
       "1                  EA    2151.13  \n",
       "2                  EA    2552.92  \n",
       "3                  EA   20360.14  \n",
       "4                  EA   10691.63  "
      ]
     },
     "execution_count": 53,
     "metadata": {},
     "output_type": "execute_result"
    }
   ],
   "source": [
    "jtd_df.head()"
   ]
  },
  {
   "cell_type": "code",
   "execution_count": 46,
   "metadata": {},
   "outputs": [
    {
     "data": {
      "text/plain": [
       "OIL FILTER                    154387\n",
       "URANIA SUPREMO CI 4 15W 40    122218\n",
       "MFC PROLEUM CI4/SL 15W40       92091\n",
       "AIR FILTER                     80211\n",
       "WINDSHIELD LIQUID WASHER       55352\n",
       "Name: Description, dtype: int64"
      ]
     },
     "execution_count": 46,
     "metadata": {},
     "output_type": "execute_result"
    }
   ],
   "source": [
    "jtd_df['Description'].loc[jtd_df['Item Category'] == 'P002'].value_counts()[:5]"
   ]
  },
  {
   "cell_type": "code",
   "execution_count": 47,
   "metadata": {},
   "outputs": [
    {
     "data": {
      "text/plain": [
       "Paid Service-Minor            201857\n",
       "WASHING                       198483\n",
       "Wheel Alignment               191209\n",
       "Wheel Balancing (5 Wheels)     79969\n",
       "MISC LABOR 0.5 HOURS           62982\n",
       "Name: Description, dtype: int64"
      ]
     },
     "execution_count": 47,
     "metadata": {},
     "output_type": "execute_result"
    }
   ],
   "source": [
    "jtd_df['Description'].loc[jtd_df['Item Category'] == 'P001'].value_counts()[:5]"
   ]
  },
  {
   "cell_type": "code",
   "execution_count": 48,
   "metadata": {},
   "outputs": [
    {
     "data": {
      "text/plain": [
       "MISC_OTHER CHARGES                        270380\n",
       "MISC_ON ROAD ASSISTANCE                    18991\n",
       "MISC_COST OF WEIGHT (EACH)                 12529\n",
       "MISC_PUC                                    9985\n",
       "MISC_ON ROAD ASSISTANCE WITHOUT TOWING      6988\n",
       "Name: Description, dtype: int64"
      ]
     },
     "execution_count": 48,
     "metadata": {},
     "output_type": "execute_result"
    }
   ],
   "source": [
    "jtd_df['Description'].loc[jtd_df['Item Category'] == 'P011'].value_counts()[:5]"
   ]
  },
  {
   "cell_type": "code",
   "execution_count": 49,
   "metadata": {},
   "outputs": [
    {
     "data": {
      "text/plain": [
       "PAINTING CHARGES            15239\n",
       "REPAIRING CHARGES           12838\n",
       "ENGINE FLUSH TREATMENT      11556\n",
       "REMOVE REFITTING CHARGES     9944\n",
       "Engine Flush                 9073\n",
       "Name: Description, dtype: int64"
      ]
     },
     "execution_count": 49,
     "metadata": {},
     "output_type": "execute_result"
    }
   ],
   "source": [
    "jtd_df['Description'].loc[jtd_df['Item Category'] == 'P010'].value_counts()[:5]"
   ]
  },
  {
   "cell_type": "code",
   "execution_count": 53,
   "metadata": {},
   "outputs": [
    {
     "data": {
      "text/plain": [
       "array([nan], dtype=object)"
      ]
     },
     "execution_count": 53,
     "metadata": {},
     "output_type": "execute_result"
    }
   ],
   "source": [
    "jtd_df['Description'].loc[jtd_df['Item Category'] == 'G2TX'].unique()"
   ]
  },
  {
   "cell_type": "code",
   "execution_count": 65,
   "metadata": {},
   "outputs": [
    {
     "data": {
      "text/plain": [
       "722        NaN\n",
       "979        NaN\n",
       "980        NaN\n",
       "1591       NaN\n",
       "2339       NaN\n",
       "          ... \n",
       "5619350    NaN\n",
       "5619376    NaN\n",
       "5619386    NaN\n",
       "5619417    NaN\n",
       "5619418    NaN\n",
       "Name: Description, Length: 51629, dtype: object"
      ]
     },
     "execution_count": 65,
     "metadata": {},
     "output_type": "execute_result"
    }
   ],
   "source": [
    "jtd_df['Description'].loc[jtd_df['Item Category'] == 'G2TX']"
   ]
  },
  {
   "cell_type": "code",
   "execution_count": 26,
   "metadata": {},
   "outputs": [
    {
     "data": {
      "text/html": [
       "<div>\n",
       "<style scoped>\n",
       "    .dataframe tbody tr th:only-of-type {\n",
       "        vertical-align: middle;\n",
       "    }\n",
       "\n",
       "    .dataframe tbody tr th {\n",
       "        vertical-align: top;\n",
       "    }\n",
       "\n",
       "    .dataframe thead th {\n",
       "        text-align: right;\n",
       "    }\n",
       "</style>\n",
       "<table border=\"1\" class=\"dataframe\">\n",
       "  <thead>\n",
       "    <tr style=\"text-align: right;\">\n",
       "      <th></th>\n",
       "      <th>Cust Type</th>\n",
       "      <th>Customer No.</th>\n",
       "      <th>Gate Pass Time</th>\n",
       "      <th>Invoice No</th>\n",
       "      <th>Job Card No</th>\n",
       "      <th>KMs Reading</th>\n",
       "      <th>Labour Total</th>\n",
       "      <th>Make</th>\n",
       "      <th>Misc Total</th>\n",
       "      <th>Model</th>\n",
       "      <th>OSL Total</th>\n",
       "      <th>Order Type</th>\n",
       "      <th>Parts Total</th>\n",
       "      <th>Pin code</th>\n",
       "      <th>Plant</th>\n",
       "      <th>Plant Name1</th>\n",
       "      <th>Print Status</th>\n",
       "      <th>Recovrbl Exp</th>\n",
       "      <th>Total Amt Wtd Tax.</th>\n",
       "      <th>User ID</th>\n",
       "      <th>Invoice_DateTime</th>\n",
       "      <th>JobCard_DateTime</th>\n",
       "      <th>Service_Time</th>\n",
       "      <th>Clean_CITY</th>\n",
       "      <th>Clean_District</th>\n",
       "      <th>Clean_Location_Area</th>\n",
       "    </tr>\n",
       "  </thead>\n",
       "  <tbody>\n",
       "    <tr>\n",
       "      <td>0</td>\n",
       "      <td>Retail</td>\n",
       "      <td>67849</td>\n",
       "      <td>00:00:00</td>\n",
       "      <td>7005200002</td>\n",
       "      <td>168303</td>\n",
       "      <td>49317</td>\n",
       "      <td>1203.14</td>\n",
       "      <td>GENERAL MOTORS</td>\n",
       "      <td>0.00</td>\n",
       "      <td>SPARK</td>\n",
       "      <td>500.06</td>\n",
       "      <td>Paid Service</td>\n",
       "      <td>2348.75</td>\n",
       "      <td>400601</td>\n",
       "      <td>BC01</td>\n",
       "      <td>THANE</td>\n",
       "      <td>NO</td>\n",
       "      <td>0.0</td>\n",
       "      <td>4051.95</td>\n",
       "      <td>BC01FS1</td>\n",
       "      <td>2015-01-02 11:30:36</td>\n",
       "      <td>2014-12-13 14:29:43</td>\n",
       "      <td>19 days 21:00:53</td>\n",
       "      <td>Thane</td>\n",
       "      <td>Maharashtra</td>\n",
       "      <td>Thane Bazar, Thane H.O, Thane R.S.</td>\n",
       "    </tr>\n",
       "    <tr>\n",
       "      <td>1</td>\n",
       "      <td>Retail</td>\n",
       "      <td>84419</td>\n",
       "      <td>00:00:00</td>\n",
       "      <td>7005200003</td>\n",
       "      <td>173997</td>\n",
       "      <td>78584</td>\n",
       "      <td>804.26</td>\n",
       "      <td>TATA MOTORS</td>\n",
       "      <td>197.03</td>\n",
       "      <td>INDICA</td>\n",
       "      <td>0.00</td>\n",
       "      <td>SMC Value Package</td>\n",
       "      <td>0.00</td>\n",
       "      <td>400603</td>\n",
       "      <td>BC01</td>\n",
       "      <td>THANE</td>\n",
       "      <td>NO</td>\n",
       "      <td>0.0</td>\n",
       "      <td>1001.29</td>\n",
       "      <td>BC01SA2</td>\n",
       "      <td>2015-01-03 10:07:32</td>\n",
       "      <td>2015-01-02 14:12:18</td>\n",
       "      <td>0 days 19:55:14</td>\n",
       "      <td>Thane</td>\n",
       "      <td>Maharashtra</td>\n",
       "      <td>Thane East, Kopri Colony</td>\n",
       "    </tr>\n",
       "    <tr>\n",
       "      <td>2</td>\n",
       "      <td>Retail</td>\n",
       "      <td>81055</td>\n",
       "      <td>00:00:00</td>\n",
       "      <td>7005200004</td>\n",
       "      <td>173889</td>\n",
       "      <td>33985</td>\n",
       "      <td>180.19</td>\n",
       "      <td>MARUTI SUZUKI</td>\n",
       "      <td>0.00</td>\n",
       "      <td>ZEN</td>\n",
       "      <td>0.00</td>\n",
       "      <td>Running Repairs</td>\n",
       "      <td>52.95</td>\n",
       "      <td>400607</td>\n",
       "      <td>BC01</td>\n",
       "      <td>THANE</td>\n",
       "      <td>NO</td>\n",
       "      <td>0.0</td>\n",
       "      <td>233.14</td>\n",
       "      <td>BC01SA2</td>\n",
       "      <td>2015-01-03 11:12:57</td>\n",
       "      <td>2015-01-02 11:40:44</td>\n",
       "      <td>0 days 23:32:13</td>\n",
       "      <td>Thane</td>\n",
       "      <td>Maharashtra</td>\n",
       "      <td>Chitalsar Manpada, Sandozbaugh</td>\n",
       "    </tr>\n",
       "    <tr>\n",
       "      <td>3</td>\n",
       "      <td>Retail</td>\n",
       "      <td>84419</td>\n",
       "      <td>00:00:00</td>\n",
       "      <td>7005200005</td>\n",
       "      <td>174158</td>\n",
       "      <td>78584</td>\n",
       "      <td>0.00</td>\n",
       "      <td>TATA MOTORS</td>\n",
       "      <td>0.00</td>\n",
       "      <td>INDICA</td>\n",
       "      <td>0.00</td>\n",
       "      <td>SMC Redemption</td>\n",
       "      <td>0.00</td>\n",
       "      <td>400603</td>\n",
       "      <td>BC01</td>\n",
       "      <td>THANE</td>\n",
       "      <td>NO</td>\n",
       "      <td>0.0</td>\n",
       "      <td>0.00</td>\n",
       "      <td>BC01SA2</td>\n",
       "      <td>2015-01-03 11:40:44</td>\n",
       "      <td>2015-01-03 10:12:32</td>\n",
       "      <td>0 days 01:28:12</td>\n",
       "      <td>Thane</td>\n",
       "      <td>Maharashtra</td>\n",
       "      <td>Thane East, Kopri Colony</td>\n",
       "    </tr>\n",
       "    <tr>\n",
       "      <td>4</td>\n",
       "      <td>Retail</td>\n",
       "      <td>18980</td>\n",
       "      <td>00:00:00</td>\n",
       "      <td>7005200006</td>\n",
       "      <td>173860</td>\n",
       "      <td>50057</td>\n",
       "      <td>1202.97</td>\n",
       "      <td>HYUNDAI</td>\n",
       "      <td>100.00</td>\n",
       "      <td>SANTRO XING</td>\n",
       "      <td>499.99</td>\n",
       "      <td>Paid Service</td>\n",
       "      <td>944.16</td>\n",
       "      <td>400603</td>\n",
       "      <td>BC01</td>\n",
       "      <td>THANE</td>\n",
       "      <td>NO</td>\n",
       "      <td>0.0</td>\n",
       "      <td>2747.12</td>\n",
       "      <td>BC01SA2</td>\n",
       "      <td>2015-01-03 12:07:17</td>\n",
       "      <td>2015-01-02 10:45:42</td>\n",
       "      <td>1 days 01:21:35</td>\n",
       "      <td>Thane</td>\n",
       "      <td>Maharashtra</td>\n",
       "      <td>Thane East, Kopri Colony</td>\n",
       "    </tr>\n",
       "  </tbody>\n",
       "</table>\n",
       "</div>"
      ],
      "text/plain": [
       "  Cust Type Customer No. Gate Pass Time  Invoice No  Job Card No  KMs Reading  \\\n",
       "0    Retail        67849       00:00:00  7005200002       168303        49317   \n",
       "1    Retail        84419       00:00:00  7005200003       173997        78584   \n",
       "2    Retail        81055       00:00:00  7005200004       173889        33985   \n",
       "3    Retail        84419       00:00:00  7005200005       174158        78584   \n",
       "4    Retail        18980       00:00:00  7005200006       173860        50057   \n",
       "\n",
       "   Labour Total            Make  Misc Total        Model  OSL Total  \\\n",
       "0       1203.14  GENERAL MOTORS        0.00        SPARK     500.06   \n",
       "1        804.26     TATA MOTORS      197.03       INDICA       0.00   \n",
       "2        180.19   MARUTI SUZUKI        0.00          ZEN       0.00   \n",
       "3          0.00     TATA MOTORS        0.00       INDICA       0.00   \n",
       "4       1202.97         HYUNDAI      100.00  SANTRO XING     499.99   \n",
       "\n",
       "          Order Type  Parts Total  Pin code Plant Plant Name1 Print Status  \\\n",
       "0       Paid Service      2348.75    400601  BC01       THANE           NO   \n",
       "1  SMC Value Package         0.00    400603  BC01       THANE           NO   \n",
       "2    Running Repairs        52.95    400607  BC01       THANE           NO   \n",
       "3     SMC Redemption         0.00    400603  BC01       THANE           NO   \n",
       "4       Paid Service       944.16    400603  BC01       THANE           NO   \n",
       "\n",
       "   Recovrbl Exp  Total Amt Wtd Tax.  User ID    Invoice_DateTime  \\\n",
       "0           0.0             4051.95  BC01FS1 2015-01-02 11:30:36   \n",
       "1           0.0             1001.29  BC01SA2 2015-01-03 10:07:32   \n",
       "2           0.0              233.14  BC01SA2 2015-01-03 11:12:57   \n",
       "3           0.0                0.00  BC01SA2 2015-01-03 11:40:44   \n",
       "4           0.0             2747.12  BC01SA2 2015-01-03 12:07:17   \n",
       "\n",
       "     JobCard_DateTime     Service_Time Clean_CITY Clean_District  \\\n",
       "0 2014-12-13 14:29:43 19 days 21:00:53      Thane    Maharashtra   \n",
       "1 2015-01-02 14:12:18  0 days 19:55:14      Thane    Maharashtra   \n",
       "2 2015-01-02 11:40:44  0 days 23:32:13      Thane    Maharashtra   \n",
       "3 2015-01-03 10:12:32  0 days 01:28:12      Thane    Maharashtra   \n",
       "4 2015-01-02 10:45:42  1 days 01:21:35      Thane    Maharashtra   \n",
       "\n",
       "                  Clean_Location_Area  \n",
       "0  Thane Bazar, Thane H.O, Thane R.S.  \n",
       "1            Thane East, Kopri Colony  \n",
       "2      Chitalsar Manpada, Sandozbaugh  \n",
       "3            Thane East, Kopri Colony  \n",
       "4            Thane East, Kopri Colony  "
      ]
     },
     "execution_count": 26,
     "metadata": {},
     "output_type": "execute_result"
    }
   ],
   "source": [
    "final_invoice_df.head()"
   ]
  },
  {
   "cell_type": "code",
   "execution_count": 27,
   "metadata": {},
   "outputs": [
    {
     "data": {
      "text/html": [
       "<div>\n",
       "<style scoped>\n",
       "    .dataframe tbody tr th:only-of-type {\n",
       "        vertical-align: middle;\n",
       "    }\n",
       "\n",
       "    .dataframe tbody tr th {\n",
       "        vertical-align: top;\n",
       "    }\n",
       "\n",
       "    .dataframe thead th {\n",
       "        text-align: right;\n",
       "    }\n",
       "</style>\n",
       "<table border=\"1\" class=\"dataframe\">\n",
       "  <thead>\n",
       "    <tr style=\"text-align: right;\">\n",
       "      <th></th>\n",
       "      <th>Business Partner</th>\n",
       "      <th>Customer No.</th>\n",
       "      <th>Partner Type</th>\n",
       "      <th>Data Origin</th>\n",
       "    </tr>\n",
       "  </thead>\n",
       "  <tbody>\n",
       "    <tr>\n",
       "      <td>0</td>\n",
       "      <td>31</td>\n",
       "      <td>1</td>\n",
       "      <td>1.0</td>\n",
       "      <td>Z001</td>\n",
       "    </tr>\n",
       "    <tr>\n",
       "      <td>1</td>\n",
       "      <td>32</td>\n",
       "      <td>2</td>\n",
       "      <td>1.0</td>\n",
       "      <td>Z005</td>\n",
       "    </tr>\n",
       "    <tr>\n",
       "      <td>2</td>\n",
       "      <td>34</td>\n",
       "      <td>4</td>\n",
       "      <td>1.0</td>\n",
       "      <td>Z005</td>\n",
       "    </tr>\n",
       "    <tr>\n",
       "      <td>3</td>\n",
       "      <td>35</td>\n",
       "      <td>5</td>\n",
       "      <td>1.0</td>\n",
       "      <td>Z005</td>\n",
       "    </tr>\n",
       "    <tr>\n",
       "      <td>4</td>\n",
       "      <td>42</td>\n",
       "      <td>7</td>\n",
       "      <td>1.0</td>\n",
       "      <td>Z008</td>\n",
       "    </tr>\n",
       "  </tbody>\n",
       "</table>\n",
       "</div>"
      ],
      "text/plain": [
       "  Business Partner Customer No.  Partner Type Data Origin\n",
       "0               31            1           1.0        Z001\n",
       "1               32            2           1.0        Z005\n",
       "2               34            4           1.0        Z005\n",
       "3               35            5           1.0        Z005\n",
       "4               42            7           1.0        Z008"
      ]
     },
     "execution_count": 27,
     "metadata": {},
     "output_type": "execute_result"
    }
   ],
   "source": [
    "customer_df.head()"
   ]
  },
  {
   "cell_type": "markdown",
   "metadata": {},
   "source": [
    "# Joining Invoice and Customer Data"
   ]
  },
  {
   "cell_type": "code",
   "execution_count": 29,
   "metadata": {},
   "outputs": [],
   "source": [
    "invoice_customer = pd.merge(final_invoice_df,customer_df,how='left',on='Customer No.')"
   ]
  },
  {
   "cell_type": "code",
   "execution_count": 31,
   "metadata": {},
   "outputs": [
    {
     "data": {
      "text/html": [
       "<div>\n",
       "<style scoped>\n",
       "    .dataframe tbody tr th:only-of-type {\n",
       "        vertical-align: middle;\n",
       "    }\n",
       "\n",
       "    .dataframe tbody tr th {\n",
       "        vertical-align: top;\n",
       "    }\n",
       "\n",
       "    .dataframe thead th {\n",
       "        text-align: right;\n",
       "    }\n",
       "</style>\n",
       "<table border=\"1\" class=\"dataframe\">\n",
       "  <thead>\n",
       "    <tr style=\"text-align: right;\">\n",
       "      <th></th>\n",
       "      <th>Cust Type</th>\n",
       "      <th>Customer No.</th>\n",
       "      <th>Gate Pass Time</th>\n",
       "      <th>Invoice No</th>\n",
       "      <th>Job Card No</th>\n",
       "      <th>KMs Reading</th>\n",
       "      <th>Labour Total</th>\n",
       "      <th>Make</th>\n",
       "      <th>Misc Total</th>\n",
       "      <th>Model</th>\n",
       "      <th>OSL Total</th>\n",
       "      <th>Order Type</th>\n",
       "      <th>Parts Total</th>\n",
       "      <th>Pin code</th>\n",
       "      <th>Plant</th>\n",
       "      <th>Plant Name1</th>\n",
       "      <th>Print Status</th>\n",
       "      <th>Recovrbl Exp</th>\n",
       "      <th>Total Amt Wtd Tax.</th>\n",
       "      <th>User ID</th>\n",
       "      <th>Invoice_DateTime</th>\n",
       "      <th>JobCard_DateTime</th>\n",
       "      <th>Service_Time</th>\n",
       "      <th>Clean_CITY</th>\n",
       "      <th>Clean_District</th>\n",
       "      <th>Clean_Location_Area</th>\n",
       "      <th>Business Partner</th>\n",
       "      <th>Partner Type</th>\n",
       "      <th>Data Origin</th>\n",
       "    </tr>\n",
       "  </thead>\n",
       "  <tbody>\n",
       "    <tr>\n",
       "      <td>0</td>\n",
       "      <td>Retail</td>\n",
       "      <td>67849</td>\n",
       "      <td>00:00:00</td>\n",
       "      <td>7005200002</td>\n",
       "      <td>168303</td>\n",
       "      <td>49317</td>\n",
       "      <td>1203.14</td>\n",
       "      <td>GENERAL MOTORS</td>\n",
       "      <td>0.00</td>\n",
       "      <td>SPARK</td>\n",
       "      <td>500.06</td>\n",
       "      <td>Paid Service</td>\n",
       "      <td>2348.75</td>\n",
       "      <td>400601</td>\n",
       "      <td>BC01</td>\n",
       "      <td>THANE</td>\n",
       "      <td>NO</td>\n",
       "      <td>0.0</td>\n",
       "      <td>4051.95</td>\n",
       "      <td>BC01FS1</td>\n",
       "      <td>2015-01-02 11:30:36</td>\n",
       "      <td>2014-12-13 14:29:43</td>\n",
       "      <td>19 days 21:00:53</td>\n",
       "      <td>Thane</td>\n",
       "      <td>Maharashtra</td>\n",
       "      <td>Thane Bazar, Thane H.O, Thane R.S.</td>\n",
       "      <td>NaN</td>\n",
       "      <td>NaN</td>\n",
       "      <td>NaN</td>\n",
       "    </tr>\n",
       "    <tr>\n",
       "      <td>1</td>\n",
       "      <td>Retail</td>\n",
       "      <td>84419</td>\n",
       "      <td>00:00:00</td>\n",
       "      <td>7005200003</td>\n",
       "      <td>173997</td>\n",
       "      <td>78584</td>\n",
       "      <td>804.26</td>\n",
       "      <td>TATA MOTORS</td>\n",
       "      <td>197.03</td>\n",
       "      <td>INDICA</td>\n",
       "      <td>0.00</td>\n",
       "      <td>SMC Value Package</td>\n",
       "      <td>0.00</td>\n",
       "      <td>400603</td>\n",
       "      <td>BC01</td>\n",
       "      <td>THANE</td>\n",
       "      <td>NO</td>\n",
       "      <td>0.0</td>\n",
       "      <td>1001.29</td>\n",
       "      <td>BC01SA2</td>\n",
       "      <td>2015-01-03 10:07:32</td>\n",
       "      <td>2015-01-02 14:12:18</td>\n",
       "      <td>0 days 19:55:14</td>\n",
       "      <td>Thane</td>\n",
       "      <td>Maharashtra</td>\n",
       "      <td>Thane East, Kopri Colony</td>\n",
       "      <td>NaN</td>\n",
       "      <td>NaN</td>\n",
       "      <td>NaN</td>\n",
       "    </tr>\n",
       "    <tr>\n",
       "      <td>2</td>\n",
       "      <td>Retail</td>\n",
       "      <td>81055</td>\n",
       "      <td>00:00:00</td>\n",
       "      <td>7005200004</td>\n",
       "      <td>173889</td>\n",
       "      <td>33985</td>\n",
       "      <td>180.19</td>\n",
       "      <td>MARUTI SUZUKI</td>\n",
       "      <td>0.00</td>\n",
       "      <td>ZEN</td>\n",
       "      <td>0.00</td>\n",
       "      <td>Running Repairs</td>\n",
       "      <td>52.95</td>\n",
       "      <td>400607</td>\n",
       "      <td>BC01</td>\n",
       "      <td>THANE</td>\n",
       "      <td>NO</td>\n",
       "      <td>0.0</td>\n",
       "      <td>233.14</td>\n",
       "      <td>BC01SA2</td>\n",
       "      <td>2015-01-03 11:12:57</td>\n",
       "      <td>2015-01-02 11:40:44</td>\n",
       "      <td>0 days 23:32:13</td>\n",
       "      <td>Thane</td>\n",
       "      <td>Maharashtra</td>\n",
       "      <td>Chitalsar Manpada, Sandozbaugh</td>\n",
       "      <td>NaN</td>\n",
       "      <td>NaN</td>\n",
       "      <td>NaN</td>\n",
       "    </tr>\n",
       "    <tr>\n",
       "      <td>3</td>\n",
       "      <td>Retail</td>\n",
       "      <td>84419</td>\n",
       "      <td>00:00:00</td>\n",
       "      <td>7005200005</td>\n",
       "      <td>174158</td>\n",
       "      <td>78584</td>\n",
       "      <td>0.00</td>\n",
       "      <td>TATA MOTORS</td>\n",
       "      <td>0.00</td>\n",
       "      <td>INDICA</td>\n",
       "      <td>0.00</td>\n",
       "      <td>SMC Redemption</td>\n",
       "      <td>0.00</td>\n",
       "      <td>400603</td>\n",
       "      <td>BC01</td>\n",
       "      <td>THANE</td>\n",
       "      <td>NO</td>\n",
       "      <td>0.0</td>\n",
       "      <td>0.00</td>\n",
       "      <td>BC01SA2</td>\n",
       "      <td>2015-01-03 11:40:44</td>\n",
       "      <td>2015-01-03 10:12:32</td>\n",
       "      <td>0 days 01:28:12</td>\n",
       "      <td>Thane</td>\n",
       "      <td>Maharashtra</td>\n",
       "      <td>Thane East, Kopri Colony</td>\n",
       "      <td>NaN</td>\n",
       "      <td>NaN</td>\n",
       "      <td>NaN</td>\n",
       "    </tr>\n",
       "    <tr>\n",
       "      <td>4</td>\n",
       "      <td>Retail</td>\n",
       "      <td>18980</td>\n",
       "      <td>00:00:00</td>\n",
       "      <td>7005200006</td>\n",
       "      <td>173860</td>\n",
       "      <td>50057</td>\n",
       "      <td>1202.97</td>\n",
       "      <td>HYUNDAI</td>\n",
       "      <td>100.00</td>\n",
       "      <td>SANTRO XING</td>\n",
       "      <td>499.99</td>\n",
       "      <td>Paid Service</td>\n",
       "      <td>944.16</td>\n",
       "      <td>400603</td>\n",
       "      <td>BC01</td>\n",
       "      <td>THANE</td>\n",
       "      <td>NO</td>\n",
       "      <td>0.0</td>\n",
       "      <td>2747.12</td>\n",
       "      <td>BC01SA2</td>\n",
       "      <td>2015-01-03 12:07:17</td>\n",
       "      <td>2015-01-02 10:45:42</td>\n",
       "      <td>1 days 01:21:35</td>\n",
       "      <td>Thane</td>\n",
       "      <td>Maharashtra</td>\n",
       "      <td>Thane East, Kopri Colony</td>\n",
       "      <td>NaN</td>\n",
       "      <td>NaN</td>\n",
       "      <td>NaN</td>\n",
       "    </tr>\n",
       "  </tbody>\n",
       "</table>\n",
       "</div>"
      ],
      "text/plain": [
       "  Cust Type Customer No. Gate Pass Time  Invoice No  Job Card No  KMs Reading  \\\n",
       "0    Retail        67849       00:00:00  7005200002       168303        49317   \n",
       "1    Retail        84419       00:00:00  7005200003       173997        78584   \n",
       "2    Retail        81055       00:00:00  7005200004       173889        33985   \n",
       "3    Retail        84419       00:00:00  7005200005       174158        78584   \n",
       "4    Retail        18980       00:00:00  7005200006       173860        50057   \n",
       "\n",
       "   Labour Total            Make  Misc Total        Model  OSL Total  \\\n",
       "0       1203.14  GENERAL MOTORS        0.00        SPARK     500.06   \n",
       "1        804.26     TATA MOTORS      197.03       INDICA       0.00   \n",
       "2        180.19   MARUTI SUZUKI        0.00          ZEN       0.00   \n",
       "3          0.00     TATA MOTORS        0.00       INDICA       0.00   \n",
       "4       1202.97         HYUNDAI      100.00  SANTRO XING     499.99   \n",
       "\n",
       "          Order Type  Parts Total  Pin code Plant Plant Name1 Print Status  \\\n",
       "0       Paid Service      2348.75    400601  BC01       THANE           NO   \n",
       "1  SMC Value Package         0.00    400603  BC01       THANE           NO   \n",
       "2    Running Repairs        52.95    400607  BC01       THANE           NO   \n",
       "3     SMC Redemption         0.00    400603  BC01       THANE           NO   \n",
       "4       Paid Service       944.16    400603  BC01       THANE           NO   \n",
       "\n",
       "   Recovrbl Exp  Total Amt Wtd Tax.  User ID    Invoice_DateTime  \\\n",
       "0           0.0             4051.95  BC01FS1 2015-01-02 11:30:36   \n",
       "1           0.0             1001.29  BC01SA2 2015-01-03 10:07:32   \n",
       "2           0.0              233.14  BC01SA2 2015-01-03 11:12:57   \n",
       "3           0.0                0.00  BC01SA2 2015-01-03 11:40:44   \n",
       "4           0.0             2747.12  BC01SA2 2015-01-03 12:07:17   \n",
       "\n",
       "     JobCard_DateTime     Service_Time Clean_CITY Clean_District  \\\n",
       "0 2014-12-13 14:29:43 19 days 21:00:53      Thane    Maharashtra   \n",
       "1 2015-01-02 14:12:18  0 days 19:55:14      Thane    Maharashtra   \n",
       "2 2015-01-02 11:40:44  0 days 23:32:13      Thane    Maharashtra   \n",
       "3 2015-01-03 10:12:32  0 days 01:28:12      Thane    Maharashtra   \n",
       "4 2015-01-02 10:45:42  1 days 01:21:35      Thane    Maharashtra   \n",
       "\n",
       "                  Clean_Location_Area Business Partner  Partner Type  \\\n",
       "0  Thane Bazar, Thane H.O, Thane R.S.              NaN           NaN   \n",
       "1            Thane East, Kopri Colony              NaN           NaN   \n",
       "2      Chitalsar Manpada, Sandozbaugh              NaN           NaN   \n",
       "3            Thane East, Kopri Colony              NaN           NaN   \n",
       "4            Thane East, Kopri Colony              NaN           NaN   \n",
       "\n",
       "  Data Origin  \n",
       "0         NaN  \n",
       "1         NaN  \n",
       "2         NaN  \n",
       "3         NaN  \n",
       "4         NaN  "
      ]
     },
     "execution_count": 31,
     "metadata": {},
     "output_type": "execute_result"
    }
   ],
   "source": [
    "invoice_customer.item_catogory"
   ]
  },
  {
   "cell_type": "code",
   "execution_count": 52,
   "metadata": {},
   "outputs": [
    {
     "data": {
      "text/html": [
       "<div>\n",
       "<style scoped>\n",
       "    .dataframe tbody tr th:only-of-type {\n",
       "        vertical-align: middle;\n",
       "    }\n",
       "\n",
       "    .dataframe tbody tr th {\n",
       "        vertical-align: top;\n",
       "    }\n",
       "\n",
       "    .dataframe thead th {\n",
       "        text-align: right;\n",
       "    }\n",
       "</style>\n",
       "<table border=\"1\" class=\"dataframe\">\n",
       "  <thead>\n",
       "    <tr style=\"text-align: right;\">\n",
       "      <th></th>\n",
       "      <th>DBM Order</th>\n",
       "      <th>Item Category</th>\n",
       "      <th>Net value</th>\n",
       "      <th>Order Quantity</th>\n",
       "    </tr>\n",
       "  </thead>\n",
       "  <tbody>\n",
       "    <tr>\n",
       "      <td>0</td>\n",
       "      <td>4</td>\n",
       "      <td>P001</td>\n",
       "      <td>3455.92</td>\n",
       "      <td>714.0</td>\n",
       "    </tr>\n",
       "    <tr>\n",
       "      <td>1</td>\n",
       "      <td>4</td>\n",
       "      <td>P002</td>\n",
       "      <td>11042.62</td>\n",
       "      <td>15.6</td>\n",
       "    </tr>\n",
       "    <tr>\n",
       "      <td>2</td>\n",
       "      <td>4</td>\n",
       "      <td>P010</td>\n",
       "      <td>2399.95</td>\n",
       "      <td>1.0</td>\n",
       "    </tr>\n",
       "    <tr>\n",
       "      <td>3</td>\n",
       "      <td>4</td>\n",
       "      <td>P011</td>\n",
       "      <td>100.00</td>\n",
       "      <td>1.0</td>\n",
       "    </tr>\n",
       "    <tr>\n",
       "      <td>4</td>\n",
       "      <td>5</td>\n",
       "      <td>P001</td>\n",
       "      <td>2310.47</td>\n",
       "      <td>283.0</td>\n",
       "    </tr>\n",
       "  </tbody>\n",
       "</table>\n",
       "</div>"
      ],
      "text/plain": [
       "   DBM Order Item Category  Net value  Order Quantity\n",
       "0          4          P001    3455.92           714.0\n",
       "1          4          P002   11042.62            15.6\n",
       "2          4          P010    2399.95             1.0\n",
       "3          4          P011     100.00             1.0\n",
       "4          5          P001    2310.47           283.0"
      ]
     },
     "execution_count": 52,
     "metadata": {},
     "output_type": "execute_result"
    }
   ],
   "source": [
    "jtd_grp.head()"
   ]
  },
  {
   "cell_type": "markdown",
   "metadata": {},
   "source": [
    "# Joining Invoice_Customer With JTD"
   ]
  },
  {
   "cell_type": "code",
   "execution_count": 32,
   "metadata": {},
   "outputs": [],
   "source": [
    "jtd_grp = jtd_df.groupby([\"DBM Order\",\"Item Category\"],as_index=False).agg({\"Net value\":'sum',\"Order Quantity\":\"sum\"})"
   ]
  },
  {
   "cell_type": "code",
   "execution_count": 51,
   "metadata": {},
   "outputs": [
    {
     "data": {
      "text/plain": [
       "Index(['DBM Order', 'Item Category', 'Net value', 'Order Quantity'], dtype='object')"
      ]
     },
     "execution_count": 51,
     "metadata": {},
     "output_type": "execute_result"
    }
   ],
   "source": [
    "jtd_grp.columns"
   ]
  },
  {
   "cell_type": "code",
   "execution_count": 34,
   "metadata": {},
   "outputs": [],
   "source": [
    "invoice_customer_jtd_grp = pd.merge(invoice_customer,jtd_grp,how=\"left\",left_on=\"Job Card No\",right_on=\"DBM Order\")"
   ]
  },
  {
   "cell_type": "code",
   "execution_count": 35,
   "metadata": {},
   "outputs": [
    {
     "data": {
      "text/plain": [
       "(936275, 33)"
      ]
     },
     "execution_count": 35,
     "metadata": {},
     "output_type": "execute_result"
    }
   ],
   "source": [
    "invoice_customer_jtd_grp.shape"
   ]
  },
  {
   "cell_type": "code",
   "execution_count": 36,
   "metadata": {},
   "outputs": [],
   "source": [
    "invoice_customer_jtd_grp.to_csv('Mahindra_cleaned_df.csv')"
   ]
  },
  {
   "cell_type": "code",
   "execution_count": 37,
   "metadata": {},
   "outputs": [
    {
     "data": {
      "text/plain": [
       "Cust Type                   0\n",
       "Customer No.                0\n",
       "Gate Pass Time              0\n",
       "Invoice No                  0\n",
       "Job Card No                 0\n",
       "KMs Reading                 0\n",
       "Labour Total                0\n",
       "Make                        0\n",
       "Misc Total                  0\n",
       "Model                    3185\n",
       "OSL Total                   0\n",
       "Order Type                  0\n",
       "Parts Total                 0\n",
       "Pin code                    0\n",
       "Plant                       0\n",
       "Plant Name1                 0\n",
       "Print Status                0\n",
       "Recovrbl Exp                0\n",
       "Total Amt Wtd Tax.          0\n",
       "User ID                     0\n",
       "Invoice_DateTime            0\n",
       "JobCard_DateTime            0\n",
       "Service_Time                0\n",
       "Clean_CITY              94162\n",
       "Clean_District          94162\n",
       "Clean_Location_Area     94162\n",
       "Business Partner       894749\n",
       "Partner Type           894749\n",
       "Data Origin            894749\n",
       "DBM Order                  39\n",
       "Item Category              39\n",
       "Net value                  39\n",
       "Order Quantity             39\n",
       "dtype: int64"
      ]
     },
     "execution_count": 37,
     "metadata": {},
     "output_type": "execute_result"
    }
   ],
   "source": [
    "invoice_customer_jtd_grp.isnull().sum()"
   ]
  },
  {
   "cell_type": "code",
   "execution_count": 38,
   "metadata": {},
   "outputs": [
    {
     "data": {
      "text/plain": [
       "Cust Type                       object\n",
       "Customer No.                    object\n",
       "Gate Pass Time                  object\n",
       "Invoice No                       int64\n",
       "Job Card No                      int64\n",
       "KMs Reading                      int64\n",
       "Labour Total                   float64\n",
       "Make                            object\n",
       "Misc Total                     float64\n",
       "Model                           object\n",
       "OSL Total                      float64\n",
       "Order Type                      object\n",
       "Parts Total                    float64\n",
       "Pin code                         int64\n",
       "Plant                           object\n",
       "Plant Name1                     object\n",
       "Print Status                    object\n",
       "Recovrbl Exp                   float64\n",
       "Total Amt Wtd Tax.             float64\n",
       "User ID                         object\n",
       "Invoice_DateTime        datetime64[ns]\n",
       "JobCard_DateTime        datetime64[ns]\n",
       "Service_Time           timedelta64[ns]\n",
       "Clean_CITY                      object\n",
       "Clean_District                  object\n",
       "Clean_Location_Area             object\n",
       "Business Partner                object\n",
       "Partner Type                   float64\n",
       "Data Origin                     object\n",
       "DBM Order                      float64\n",
       "Item Category                   object\n",
       "Net value                      float64\n",
       "Order Quantity                 float64\n",
       "dtype: object"
      ]
     },
     "execution_count": 38,
     "metadata": {},
     "output_type": "execute_result"
    }
   ],
   "source": [
    "invoice_customer_jtd_grp.dtypes"
   ]
  },
  {
   "cell_type": "code",
   "execution_count": 44,
   "metadata": {},
   "outputs": [
    {
     "data": {
      "text/html": [
       "<div>\n",
       "<style scoped>\n",
       "    .dataframe tbody tr th:only-of-type {\n",
       "        vertical-align: middle;\n",
       "    }\n",
       "\n",
       "    .dataframe tbody tr th {\n",
       "        vertical-align: top;\n",
       "    }\n",
       "\n",
       "    .dataframe thead th {\n",
       "        text-align: right;\n",
       "    }\n",
       "</style>\n",
       "<table border=\"1\" class=\"dataframe\">\n",
       "  <thead>\n",
       "    <tr style=\"text-align: right;\">\n",
       "      <th></th>\n",
       "      <th>Cust Type</th>\n",
       "      <th>Customer No.</th>\n",
       "      <th>Gate Pass Time</th>\n",
       "      <th>Invoice No</th>\n",
       "      <th>Job Card No</th>\n",
       "      <th>KMs Reading</th>\n",
       "      <th>Labour Total</th>\n",
       "      <th>Make</th>\n",
       "      <th>Misc Total</th>\n",
       "      <th>Model</th>\n",
       "      <th>OSL Total</th>\n",
       "      <th>Order Type</th>\n",
       "      <th>Parts Total</th>\n",
       "      <th>Pin code</th>\n",
       "      <th>Plant</th>\n",
       "      <th>Plant Name1</th>\n",
       "      <th>Print Status</th>\n",
       "      <th>Recovrbl Exp</th>\n",
       "      <th>Total Amt Wtd Tax.</th>\n",
       "      <th>User ID</th>\n",
       "      <th>Invoice_DateTime</th>\n",
       "      <th>JobCard_DateTime</th>\n",
       "      <th>Service_Time</th>\n",
       "      <th>Clean_CITY</th>\n",
       "      <th>Clean_District</th>\n",
       "      <th>Clean_Location_Area</th>\n",
       "      <th>Business Partner</th>\n",
       "      <th>Partner Type</th>\n",
       "      <th>Data Origin</th>\n",
       "      <th>DBM Order</th>\n",
       "      <th>Item Category</th>\n",
       "      <th>Net value</th>\n",
       "      <th>Order Quantity</th>\n",
       "    </tr>\n",
       "  </thead>\n",
       "  <tbody>\n",
       "    <tr>\n",
       "      <td>0</td>\n",
       "      <td>Retail</td>\n",
       "      <td>67849</td>\n",
       "      <td>00:00:00</td>\n",
       "      <td>7005200002</td>\n",
       "      <td>168303</td>\n",
       "      <td>49317</td>\n",
       "      <td>1203.14</td>\n",
       "      <td>GENERAL MOTORS</td>\n",
       "      <td>0.00</td>\n",
       "      <td>SPARK</td>\n",
       "      <td>500.06</td>\n",
       "      <td>Paid Service</td>\n",
       "      <td>2348.75</td>\n",
       "      <td>400601</td>\n",
       "      <td>BC01</td>\n",
       "      <td>THANE</td>\n",
       "      <td>NO</td>\n",
       "      <td>0.0</td>\n",
       "      <td>4051.95</td>\n",
       "      <td>BC01FS1</td>\n",
       "      <td>2015-01-02 11:30:36</td>\n",
       "      <td>2014-12-13 14:29:43</td>\n",
       "      <td>19 days 21:00:53</td>\n",
       "      <td>Thane</td>\n",
       "      <td>Maharashtra</td>\n",
       "      <td>Thane Bazar, Thane H.O, Thane R.S.</td>\n",
       "      <td>NaN</td>\n",
       "      <td>NaN</td>\n",
       "      <td>NaN</td>\n",
       "      <td>168303.0</td>\n",
       "      <td>P001</td>\n",
       "      <td>1203.14</td>\n",
       "      <td>73.0</td>\n",
       "    </tr>\n",
       "    <tr>\n",
       "      <td>1</td>\n",
       "      <td>Retail</td>\n",
       "      <td>67849</td>\n",
       "      <td>00:00:00</td>\n",
       "      <td>7005200002</td>\n",
       "      <td>168303</td>\n",
       "      <td>49317</td>\n",
       "      <td>1203.14</td>\n",
       "      <td>GENERAL MOTORS</td>\n",
       "      <td>0.00</td>\n",
       "      <td>SPARK</td>\n",
       "      <td>500.06</td>\n",
       "      <td>Paid Service</td>\n",
       "      <td>2348.75</td>\n",
       "      <td>400601</td>\n",
       "      <td>BC01</td>\n",
       "      <td>THANE</td>\n",
       "      <td>NO</td>\n",
       "      <td>0.0</td>\n",
       "      <td>4051.95</td>\n",
       "      <td>BC01FS1</td>\n",
       "      <td>2015-01-02 11:30:36</td>\n",
       "      <td>2014-12-13 14:29:43</td>\n",
       "      <td>19 days 21:00:53</td>\n",
       "      <td>Thane</td>\n",
       "      <td>Maharashtra</td>\n",
       "      <td>Thane Bazar, Thane H.O, Thane R.S.</td>\n",
       "      <td>NaN</td>\n",
       "      <td>NaN</td>\n",
       "      <td>NaN</td>\n",
       "      <td>168303.0</td>\n",
       "      <td>P002</td>\n",
       "      <td>2348.75</td>\n",
       "      <td>6.5</td>\n",
       "    </tr>\n",
       "    <tr>\n",
       "      <td>2</td>\n",
       "      <td>Retail</td>\n",
       "      <td>67849</td>\n",
       "      <td>00:00:00</td>\n",
       "      <td>7005200002</td>\n",
       "      <td>168303</td>\n",
       "      <td>49317</td>\n",
       "      <td>1203.14</td>\n",
       "      <td>GENERAL MOTORS</td>\n",
       "      <td>0.00</td>\n",
       "      <td>SPARK</td>\n",
       "      <td>500.06</td>\n",
       "      <td>Paid Service</td>\n",
       "      <td>2348.75</td>\n",
       "      <td>400601</td>\n",
       "      <td>BC01</td>\n",
       "      <td>THANE</td>\n",
       "      <td>NO</td>\n",
       "      <td>0.0</td>\n",
       "      <td>4051.95</td>\n",
       "      <td>BC01FS1</td>\n",
       "      <td>2015-01-02 11:30:36</td>\n",
       "      <td>2014-12-13 14:29:43</td>\n",
       "      <td>19 days 21:00:53</td>\n",
       "      <td>Thane</td>\n",
       "      <td>Maharashtra</td>\n",
       "      <td>Thane Bazar, Thane H.O, Thane R.S.</td>\n",
       "      <td>NaN</td>\n",
       "      <td>NaN</td>\n",
       "      <td>NaN</td>\n",
       "      <td>168303.0</td>\n",
       "      <td>P010</td>\n",
       "      <td>500.06</td>\n",
       "      <td>1.0</td>\n",
       "    </tr>\n",
       "    <tr>\n",
       "      <td>3</td>\n",
       "      <td>Retail</td>\n",
       "      <td>84419</td>\n",
       "      <td>00:00:00</td>\n",
       "      <td>7005200003</td>\n",
       "      <td>173997</td>\n",
       "      <td>78584</td>\n",
       "      <td>804.26</td>\n",
       "      <td>TATA MOTORS</td>\n",
       "      <td>197.03</td>\n",
       "      <td>INDICA</td>\n",
       "      <td>0.00</td>\n",
       "      <td>SMC Value Package</td>\n",
       "      <td>0.00</td>\n",
       "      <td>400603</td>\n",
       "      <td>BC01</td>\n",
       "      <td>THANE</td>\n",
       "      <td>NO</td>\n",
       "      <td>0.0</td>\n",
       "      <td>1001.29</td>\n",
       "      <td>BC01SA2</td>\n",
       "      <td>2015-01-03 10:07:32</td>\n",
       "      <td>2015-01-02 14:12:18</td>\n",
       "      <td>0 days 19:55:14</td>\n",
       "      <td>Thane</td>\n",
       "      <td>Maharashtra</td>\n",
       "      <td>Thane East, Kopri Colony</td>\n",
       "      <td>NaN</td>\n",
       "      <td>NaN</td>\n",
       "      <td>NaN</td>\n",
       "      <td>173997.0</td>\n",
       "      <td>P001</td>\n",
       "      <td>804.26</td>\n",
       "      <td>170.0</td>\n",
       "    </tr>\n",
       "    <tr>\n",
       "      <td>4</td>\n",
       "      <td>Retail</td>\n",
       "      <td>84419</td>\n",
       "      <td>00:00:00</td>\n",
       "      <td>7005200003</td>\n",
       "      <td>173997</td>\n",
       "      <td>78584</td>\n",
       "      <td>804.26</td>\n",
       "      <td>TATA MOTORS</td>\n",
       "      <td>197.03</td>\n",
       "      <td>INDICA</td>\n",
       "      <td>0.00</td>\n",
       "      <td>SMC Value Package</td>\n",
       "      <td>0.00</td>\n",
       "      <td>400603</td>\n",
       "      <td>BC01</td>\n",
       "      <td>THANE</td>\n",
       "      <td>NO</td>\n",
       "      <td>0.0</td>\n",
       "      <td>1001.29</td>\n",
       "      <td>BC01SA2</td>\n",
       "      <td>2015-01-03 10:07:32</td>\n",
       "      <td>2015-01-02 14:12:18</td>\n",
       "      <td>0 days 19:55:14</td>\n",
       "      <td>Thane</td>\n",
       "      <td>Maharashtra</td>\n",
       "      <td>Thane East, Kopri Colony</td>\n",
       "      <td>NaN</td>\n",
       "      <td>NaN</td>\n",
       "      <td>NaN</td>\n",
       "      <td>173997.0</td>\n",
       "      <td>P011</td>\n",
       "      <td>197.03</td>\n",
       "      <td>1.0</td>\n",
       "    </tr>\n",
       "  </tbody>\n",
       "</table>\n",
       "</div>"
      ],
      "text/plain": [
       "  Cust Type Customer No. Gate Pass Time  Invoice No  Job Card No  KMs Reading  \\\n",
       "0    Retail        67849       00:00:00  7005200002       168303        49317   \n",
       "1    Retail        67849       00:00:00  7005200002       168303        49317   \n",
       "2    Retail        67849       00:00:00  7005200002       168303        49317   \n",
       "3    Retail        84419       00:00:00  7005200003       173997        78584   \n",
       "4    Retail        84419       00:00:00  7005200003       173997        78584   \n",
       "\n",
       "   Labour Total            Make  Misc Total   Model  OSL Total  \\\n",
       "0       1203.14  GENERAL MOTORS        0.00   SPARK     500.06   \n",
       "1       1203.14  GENERAL MOTORS        0.00   SPARK     500.06   \n",
       "2       1203.14  GENERAL MOTORS        0.00   SPARK     500.06   \n",
       "3        804.26     TATA MOTORS      197.03  INDICA       0.00   \n",
       "4        804.26     TATA MOTORS      197.03  INDICA       0.00   \n",
       "\n",
       "          Order Type  Parts Total  Pin code Plant Plant Name1 Print Status  \\\n",
       "0       Paid Service      2348.75    400601  BC01       THANE           NO   \n",
       "1       Paid Service      2348.75    400601  BC01       THANE           NO   \n",
       "2       Paid Service      2348.75    400601  BC01       THANE           NO   \n",
       "3  SMC Value Package         0.00    400603  BC01       THANE           NO   \n",
       "4  SMC Value Package         0.00    400603  BC01       THANE           NO   \n",
       "\n",
       "   Recovrbl Exp  Total Amt Wtd Tax.  User ID    Invoice_DateTime  \\\n",
       "0           0.0             4051.95  BC01FS1 2015-01-02 11:30:36   \n",
       "1           0.0             4051.95  BC01FS1 2015-01-02 11:30:36   \n",
       "2           0.0             4051.95  BC01FS1 2015-01-02 11:30:36   \n",
       "3           0.0             1001.29  BC01SA2 2015-01-03 10:07:32   \n",
       "4           0.0             1001.29  BC01SA2 2015-01-03 10:07:32   \n",
       "\n",
       "     JobCard_DateTime     Service_Time Clean_CITY Clean_District  \\\n",
       "0 2014-12-13 14:29:43 19 days 21:00:53      Thane    Maharashtra   \n",
       "1 2014-12-13 14:29:43 19 days 21:00:53      Thane    Maharashtra   \n",
       "2 2014-12-13 14:29:43 19 days 21:00:53      Thane    Maharashtra   \n",
       "3 2015-01-02 14:12:18  0 days 19:55:14      Thane    Maharashtra   \n",
       "4 2015-01-02 14:12:18  0 days 19:55:14      Thane    Maharashtra   \n",
       "\n",
       "                  Clean_Location_Area Business Partner  Partner Type  \\\n",
       "0  Thane Bazar, Thane H.O, Thane R.S.              NaN           NaN   \n",
       "1  Thane Bazar, Thane H.O, Thane R.S.              NaN           NaN   \n",
       "2  Thane Bazar, Thane H.O, Thane R.S.              NaN           NaN   \n",
       "3            Thane East, Kopri Colony              NaN           NaN   \n",
       "4            Thane East, Kopri Colony              NaN           NaN   \n",
       "\n",
       "  Data Origin  DBM Order Item Category  Net value  Order Quantity  \n",
       "0         NaN   168303.0          P001    1203.14            73.0  \n",
       "1         NaN   168303.0          P002    2348.75             6.5  \n",
       "2         NaN   168303.0          P010     500.06             1.0  \n",
       "3         NaN   173997.0          P001     804.26           170.0  \n",
       "4         NaN   173997.0          P011     197.03             1.0  "
      ]
     },
     "execution_count": 44,
     "metadata": {},
     "output_type": "execute_result"
    }
   ],
   "source": [
    "invoice_customer_jtd_grp.head()"
   ]
  },
  {
   "cell_type": "code",
   "execution_count": null,
   "metadata": {},
   "outputs": [],
   "source": [
    "invoice_customer_jtd_grp['Description'] = jtd_grp['Description']"
   ]
  },
  {
   "cell_type": "code",
   "execution_count": 99,
   "metadata": {},
   "outputs": [
    {
     "data": {
      "text/plain": [
       "Index(['Cust Type', 'Customer No.', 'Gate Pass Time', 'Make', 'Model',\n",
       "       'Order Type', 'Plant', 'Plant Name1', 'Print Status', 'User ID',\n",
       "       'Clean_CITY', 'Clean_District', 'Clean_Location_Area',\n",
       "       'Business Partner', 'Data Origin', 'Item Category'],\n",
       "      dtype='object')"
      ]
     },
     "execution_count": 99,
     "metadata": {},
     "output_type": "execute_result"
    }
   ],
   "source": [
    "#to check numeric columns\n",
    "invoice_customer_jtd_grp._get_numeric_data()\n",
    "#to check categorical data \n",
    "g = invoice_customer_jtd_grp.select_dtypes(include =[\"object\",\"bool_\"])\n",
    "g.columns"
   ]
  },
  {
   "cell_type": "code",
   "execution_count": 8,
   "metadata": {},
   "outputs": [
    {
     "data": {
      "text/plain": [
       "Unnamed: 0               0.00\n",
       "Amt Rcvd From Custom    40.07\n",
       "Amt Rcvd From Ins Co    40.07\n",
       "Area / Locality          4.85\n",
       "CGST(14%)               40.07\n",
       "                        ...  \n",
       "Total GST               40.07\n",
       "Total IGST              40.07\n",
       "Total SGST/UGST         40.07\n",
       "Total Value             40.07\n",
       "User ID                  0.00\n",
       "Length: 59, dtype: float64"
      ]
     },
     "execution_count": 8,
     "metadata": {},
     "output_type": "execute_result"
    }
   ],
   "source": [
    "final_invoice_df.isna().mean().round(4) * 100"
   ]
  },
  {
   "cell_type": "code",
   "execution_count": null,
   "metadata": {},
   "outputs": [],
   "source": []
  },
  {
   "cell_type": "code",
   "execution_count": null,
   "metadata": {},
   "outputs": [],
   "source": []
  }
 ],
 "metadata": {
  "kernelspec": {
   "display_name": "Python 3",
   "language": "python",
   "name": "python3"
  },
  "language_info": {
   "codemirror_mode": {
    "name": "ipython",
    "version": 3
   },
   "file_extension": ".py",
   "mimetype": "text/x-python",
   "name": "python",
   "nbconvert_exporter": "python",
   "pygments_lexer": "ipython3",
   "version": "3.7.3"
  }
 },
 "nbformat": 4,
 "nbformat_minor": 2
}
