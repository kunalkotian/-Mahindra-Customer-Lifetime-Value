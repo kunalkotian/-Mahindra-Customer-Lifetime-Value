{
 "cells": [
  {
   "cell_type": "code",
   "execution_count": 1,
   "metadata": {},
   "outputs": [],
   "source": [
    "import numpy as np\n",
    "import pandas as pd\n",
    "import matplotlib.pyplot as plt\n",
    "import seaborn as sns\n",
    "import warnings\n",
    "warnings.simplefilter('ignore')"
   ]
  },
  {
   "cell_type": "code",
   "execution_count": 2,
   "metadata": {},
   "outputs": [],
   "source": [
    "new_df = pd.read_csv('C:/Users/alams/Desktop/Titanic/Mahindra First Choice Dataset/Mahindra_cleaned_df.csv')"
   ]
  },
  {
   "cell_type": "code",
   "execution_count": 3,
   "metadata": {},
   "outputs": [
    {
     "data": {
      "text/plain": [
       "Customer No.      253484\n",
       "Clean_District        28\n",
       "dtype: int64"
      ]
     },
     "execution_count": 3,
     "metadata": {},
     "output_type": "execute_result"
    }
   ],
   "source": [
    "new_df[['Customer No.','Clean_District']].nunique()"
   ]
  },
  {
   "cell_type": "code",
   "execution_count": 3,
   "metadata": {},
   "outputs": [
    {
     "data": {
      "text/plain": [
       "Retail              928974\n",
       "Fleets                4809\n",
       "Corporate others      1255\n",
       "Corporate- M&M         678\n",
       "MFCWL                  532\n",
       "Franchise               24\n",
       "Insurance                3\n",
       "Name: Cust Type, dtype: int64"
      ]
     },
     "execution_count": 3,
     "metadata": {},
     "output_type": "execute_result"
    }
   ],
   "source": [
    "new_df['Cust Type'].value_counts()"
   ]
  },
  {
   "cell_type": "code",
   "execution_count": 4,
   "metadata": {},
   "outputs": [
    {
     "data": {
      "text/html": [
       "<div>\n",
       "<style scoped>\n",
       "    .dataframe tbody tr th:only-of-type {\n",
       "        vertical-align: middle;\n",
       "    }\n",
       "\n",
       "    .dataframe tbody tr th {\n",
       "        vertical-align: top;\n",
       "    }\n",
       "\n",
       "    .dataframe thead th {\n",
       "        text-align: right;\n",
       "    }\n",
       "</style>\n",
       "<table border=\"1\" class=\"dataframe\">\n",
       "  <thead>\n",
       "    <tr style=\"text-align: right;\">\n",
       "      <th></th>\n",
       "      <th>No</th>\n",
       "      <th>Cust Type</th>\n",
       "      <th>Customer No.</th>\n",
       "      <th>Gate Pass Time</th>\n",
       "      <th>Invoice No</th>\n",
       "      <th>Job Card No</th>\n",
       "      <th>KMs Reading</th>\n",
       "      <th>Labour Total</th>\n",
       "      <th>Make</th>\n",
       "      <th>Misc Total</th>\n",
       "      <th>...</th>\n",
       "      <th>Clean_District</th>\n",
       "      <th>Clean_Location_Area</th>\n",
       "      <th>Business Partner</th>\n",
       "      <th>Partner Type</th>\n",
       "      <th>Data Origin</th>\n",
       "      <th>DBM Order</th>\n",
       "      <th>Item Category</th>\n",
       "      <th>Net value</th>\n",
       "      <th>Order Quantity</th>\n",
       "      <th>Regn No</th>\n",
       "    </tr>\n",
       "  </thead>\n",
       "  <tbody>\n",
       "    <tr>\n",
       "      <td>0</td>\n",
       "      <td>0</td>\n",
       "      <td>Retail</td>\n",
       "      <td>67849</td>\n",
       "      <td>00:00:00</td>\n",
       "      <td>7005200002</td>\n",
       "      <td>168303</td>\n",
       "      <td>49317</td>\n",
       "      <td>1203.14</td>\n",
       "      <td>GENERAL MOTORS</td>\n",
       "      <td>0.00</td>\n",
       "      <td>...</td>\n",
       "      <td>Maharashtra</td>\n",
       "      <td>Thane Bazar, Thane H.O, Thane R.S.</td>\n",
       "      <td>NaN</td>\n",
       "      <td>NaN</td>\n",
       "      <td>NaN</td>\n",
       "      <td>168303.0</td>\n",
       "      <td>P001</td>\n",
       "      <td>1203.14</td>\n",
       "      <td>73.0</td>\n",
       "      <td>KA19MA1291</td>\n",
       "    </tr>\n",
       "    <tr>\n",
       "      <td>1</td>\n",
       "      <td>1</td>\n",
       "      <td>Retail</td>\n",
       "      <td>67849</td>\n",
       "      <td>00:00:00</td>\n",
       "      <td>7005200002</td>\n",
       "      <td>168303</td>\n",
       "      <td>49317</td>\n",
       "      <td>1203.14</td>\n",
       "      <td>GENERAL MOTORS</td>\n",
       "      <td>0.00</td>\n",
       "      <td>...</td>\n",
       "      <td>Maharashtra</td>\n",
       "      <td>Thane Bazar, Thane H.O, Thane R.S.</td>\n",
       "      <td>NaN</td>\n",
       "      <td>NaN</td>\n",
       "      <td>NaN</td>\n",
       "      <td>168303.0</td>\n",
       "      <td>P002</td>\n",
       "      <td>2348.75</td>\n",
       "      <td>6.5</td>\n",
       "      <td>MH43R3046</td>\n",
       "    </tr>\n",
       "    <tr>\n",
       "      <td>2</td>\n",
       "      <td>2</td>\n",
       "      <td>Retail</td>\n",
       "      <td>67849</td>\n",
       "      <td>00:00:00</td>\n",
       "      <td>7005200002</td>\n",
       "      <td>168303</td>\n",
       "      <td>49317</td>\n",
       "      <td>1203.14</td>\n",
       "      <td>GENERAL MOTORS</td>\n",
       "      <td>0.00</td>\n",
       "      <td>...</td>\n",
       "      <td>Maharashtra</td>\n",
       "      <td>Thane Bazar, Thane H.O, Thane R.S.</td>\n",
       "      <td>NaN</td>\n",
       "      <td>NaN</td>\n",
       "      <td>NaN</td>\n",
       "      <td>168303.0</td>\n",
       "      <td>P010</td>\n",
       "      <td>500.06</td>\n",
       "      <td>1.0</td>\n",
       "      <td>AP09AX0582</td>\n",
       "    </tr>\n",
       "    <tr>\n",
       "      <td>3</td>\n",
       "      <td>3</td>\n",
       "      <td>Retail</td>\n",
       "      <td>84419</td>\n",
       "      <td>00:00:00</td>\n",
       "      <td>7005200003</td>\n",
       "      <td>173997</td>\n",
       "      <td>78584</td>\n",
       "      <td>804.26</td>\n",
       "      <td>TATA MOTORS</td>\n",
       "      <td>197.03</td>\n",
       "      <td>...</td>\n",
       "      <td>Maharashtra</td>\n",
       "      <td>Thane East, Kopri Colony</td>\n",
       "      <td>NaN</td>\n",
       "      <td>NaN</td>\n",
       "      <td>NaN</td>\n",
       "      <td>173997.0</td>\n",
       "      <td>P001</td>\n",
       "      <td>804.26</td>\n",
       "      <td>170.0</td>\n",
       "      <td>MH43R3046</td>\n",
       "    </tr>\n",
       "    <tr>\n",
       "      <td>4</td>\n",
       "      <td>4</td>\n",
       "      <td>Retail</td>\n",
       "      <td>84419</td>\n",
       "      <td>00:00:00</td>\n",
       "      <td>7005200003</td>\n",
       "      <td>173997</td>\n",
       "      <td>78584</td>\n",
       "      <td>804.26</td>\n",
       "      <td>TATA MOTORS</td>\n",
       "      <td>197.03</td>\n",
       "      <td>...</td>\n",
       "      <td>Maharashtra</td>\n",
       "      <td>Thane East, Kopri Colony</td>\n",
       "      <td>NaN</td>\n",
       "      <td>NaN</td>\n",
       "      <td>NaN</td>\n",
       "      <td>173997.0</td>\n",
       "      <td>P011</td>\n",
       "      <td>197.03</td>\n",
       "      <td>1.0</td>\n",
       "      <td>MH04CD9768</td>\n",
       "    </tr>\n",
       "  </tbody>\n",
       "</table>\n",
       "<p>5 rows × 35 columns</p>\n",
       "</div>"
      ],
      "text/plain": [
       "   No Cust Type Customer No. Gate Pass Time  Invoice No  Job Card No  \\\n",
       "0   0    Retail        67849       00:00:00  7005200002       168303   \n",
       "1   1    Retail        67849       00:00:00  7005200002       168303   \n",
       "2   2    Retail        67849       00:00:00  7005200002       168303   \n",
       "3   3    Retail        84419       00:00:00  7005200003       173997   \n",
       "4   4    Retail        84419       00:00:00  7005200003       173997   \n",
       "\n",
       "   KMs Reading  Labour Total            Make  Misc Total  ... Clean_District  \\\n",
       "0        49317       1203.14  GENERAL MOTORS        0.00  ...    Maharashtra   \n",
       "1        49317       1203.14  GENERAL MOTORS        0.00  ...    Maharashtra   \n",
       "2        49317       1203.14  GENERAL MOTORS        0.00  ...    Maharashtra   \n",
       "3        78584        804.26     TATA MOTORS      197.03  ...    Maharashtra   \n",
       "4        78584        804.26     TATA MOTORS      197.03  ...    Maharashtra   \n",
       "\n",
       "                  Clean_Location_Area Business Partner  Partner Type  \\\n",
       "0  Thane Bazar, Thane H.O, Thane R.S.              NaN           NaN   \n",
       "1  Thane Bazar, Thane H.O, Thane R.S.              NaN           NaN   \n",
       "2  Thane Bazar, Thane H.O, Thane R.S.              NaN           NaN   \n",
       "3            Thane East, Kopri Colony              NaN           NaN   \n",
       "4            Thane East, Kopri Colony              NaN           NaN   \n",
       "\n",
       "   Data Origin DBM Order Item Category Net value  Order Quantity     Regn No  \n",
       "0          NaN  168303.0          P001   1203.14            73.0  KA19MA1291  \n",
       "1          NaN  168303.0          P002   2348.75             6.5   MH43R3046  \n",
       "2          NaN  168303.0          P010    500.06             1.0  AP09AX0582  \n",
       "3          NaN  173997.0          P001    804.26           170.0   MH43R3046  \n",
       "4          NaN  173997.0          P011    197.03             1.0  MH04CD9768  \n",
       "\n",
       "[5 rows x 35 columns]"
      ]
     },
     "execution_count": 4,
     "metadata": {},
     "output_type": "execute_result"
    }
   ],
   "source": [
    "new_df.head()"
   ]
  },
  {
   "cell_type": "code",
   "execution_count": 5,
   "metadata": {},
   "outputs": [
    {
     "data": {
      "image/png": "[encoded data removed]",
      "text/plain": [
       "<Figure size 432x288 with 1 Axes>"
      ]
     },
     "metadata": {
      "needs_background": "light"
     },
     "output_type": "display_data"
    }
   ],
   "source": [
    "ax=sns.countplot(new_df['Order Type'])\n",
    "ax.set_xticklabels(ax.get_xticklabels(), rotation=40, ha=\"right\")\n",
    "plt.tight_layout()\n",
    "plt.show()"
   ]
  },
  {
   "cell_type": "code",
   "execution_count": 6,
   "metadata": {},
   "outputs": [],
   "source": [
    "jtd_df = pd.read_csv('C:/Users/alams/Desktop/Titanic/Mahindra First Choice Dataset/JTD.csv')"
   ]
  },
  {
   "cell_type": "code",
   "execution_count": 7,
   "metadata": {},
   "outputs": [
    {
     "data": {
      "text/plain": [
       "Unnamed: 0                   0\n",
       "DBM Order                    0\n",
       "Order Item                   0\n",
       "Material                 51629\n",
       "Labor Value Number     3774033\n",
       "Description              51629\n",
       "Item Category                0\n",
       "Order Quantity               0\n",
       "Target quantity UoM      51629\n",
       "Net value                    0\n",
       "dtype: int64"
      ]
     },
     "execution_count": 7,
     "metadata": {},
     "output_type": "execute_result"
    }
   ],
   "source": [
    "jtd_df.isnull().sum()"
   ]
  },
  {
   "cell_type": "code",
   "execution_count": 8,
   "metadata": {},
   "outputs": [
    {
     "data": {
      "text/plain": [
       "<matplotlib.axes._subplots.AxesSubplot at 0x25697f5af48>"
      ]
     },
     "execution_count": 8,
     "metadata": {},
     "output_type": "execute_result"
    },
    {
     "data": {
      "image/png": "[encoded data removed]",
      "text/plain": [
       "<Figure size 432x288 with 1 Axes>"
      ]
     },
     "metadata": {
      "needs_background": "light"
     },
     "output_type": "display_data"
    }
   ],
   "source": [
    "x = jtd_df['Description'].loc[jtd_df['Item Category'] == 'P010']\n",
    "ax1 = x.value_counts()[:5]\n",
    "ax1.plot.bar(x = 'Description', y ='Item Category')"
   ]
  },
  {
   "cell_type": "code",
   "execution_count": 13,
   "metadata": {},
   "outputs": [
    {
     "data": {
      "text/plain": [
       "<matplotlib.axes._subplots.AxesSubplot at 0x21f61b5c708>"
      ]
     },
     "execution_count": 13,
     "metadata": {},
     "output_type": "execute_result"
    },
    {
     "data": {
      "image/png": "[encoded data removed]",
      "text/plain": [
       "<Figure size 432x288 with 1 Axes>"
      ]
     },
     "metadata": {
      "needs_background": "light"
     },
     "output_type": "display_data"
    }
   ],
   "source": [
    "y = jtd_df['Description'].loc[jtd_df['Item Category'] == 'P002']\n",
    "ax2 = y.value_counts()[:5]\n",
    "ax2.plot.bar(x = 'Description', y ='Item Category')"
   ]
  },
  {
   "cell_type": "code",
   "execution_count": 14,
   "metadata": {},
   "outputs": [
    {
     "data": {
      "text/plain": [
       "<matplotlib.axes._subplots.AxesSubplot at 0x21f61ce2908>"
      ]
     },
     "execution_count": 14,
     "metadata": {},
     "output_type": "execute_result"
    },
    {
     "data": {
      "image/png": "[encoded data removed]",
      "text/plain": [
       "<Figure size 432x288 with 1 Axes>"
      ]
     },
     "metadata": {
      "needs_background": "light"
     },
     "output_type": "display_data"
    }
   ],
   "source": [
    "z = jtd_df['Description'].loc[jtd_df['Item Category'] == 'P001']\n",
    "ax3 = y.value_counts()[:5]\n",
    "ax3.plot.bar(x = 'Description', y ='Item Category')"
   ]
  },
  {
   "cell_type": "code",
   "execution_count": 15,
   "metadata": {},
   "outputs": [
    {
     "data": {
      "text/plain": [
       "<matplotlib.axes._subplots.AxesSubplot at 0x21f40e90708>"
      ]
     },
     "execution_count": 15,
     "metadata": {},
     "output_type": "execute_result"
    },
    {
     "data": {
      "image/png": "[encoded data removed]",
      "text/plain": [
       "<Figure size 432x288 with 1 Axes>"
      ]
     },
     "metadata": {
      "needs_background": "light"
     },
     "output_type": "display_data"
    }
   ],
   "source": [
    "a = jtd_df['Description'].loc[jtd_df['Item Category'] == 'P011']\n",
    "ax4 = x.value_counts()[:5]\n",
    "ax4.plot.bar(x = 'Description', y ='Item Category')"
   ]
  },
  {
   "cell_type": "code",
   "execution_count": 16,
   "metadata": {},
   "outputs": [
    {
     "data": {
      "text/plain": [
       "<matplotlib.axes._subplots.AxesSubplot at 0x21f63059f48>"
      ]
     },
     "execution_count": 16,
     "metadata": {},
     "output_type": "execute_result"
    },
    {
     "data": {
      "image/png": "[encoded data removed]",
      "text/plain": [
       "<Figure size 432x288 with 1 Axes>"
      ]
     },
     "metadata": {
      "needs_background": "light"
     },
     "output_type": "display_data"
    }
   ],
   "source": [
    "b = jtd_df['Description'].loc[jtd_df['Item Category'] == 'G2TX']\n",
    "ax5 = x.value_counts()[:5]\n",
    "ax5.plot.bar(x = 'Description', y ='Item Category')"
   ]
  },
  {
   "cell_type": "code",
   "execution_count": 17,
   "metadata": {},
   "outputs": [
    {
     "data": {
      "text/plain": [
       "No                          0\n",
       "Cust Type                   0\n",
       "Customer No.                0\n",
       "Gate Pass Time              0\n",
       "Invoice No                  0\n",
       "Job Card No                 0\n",
       "KMs Reading                 0\n",
       "Labour Total                0\n",
       "Make                        0\n",
       "Misc Total                  0\n",
       "Model                    3185\n",
       "OSL Total                   0\n",
       "Order Type                  0\n",
       "Parts Total                 0\n",
       "Pin code                    0\n",
       "Plant                       0\n",
       "Plant Name1                 0\n",
       "Print Status                0\n",
       "Recovrbl Exp                0\n",
       "Total Amt Wtd Tax.          0\n",
       "User ID                     0\n",
       "Invoice_DateTime            0\n",
       "JobCard_DateTime            0\n",
       "Service_Time                0\n",
       "Clean_CITY              94162\n",
       "Clean_District          94162\n",
       "Clean_Location_Area     94162\n",
       "Business Partner       894749\n",
       "Partner Type           894749\n",
       "Data Origin            894749\n",
       "DBM Order                  39\n",
       "Item Category              39\n",
       "Net value                  39\n",
       "Order Quantity             39\n",
       "Regn No                443977\n",
       "dtype: int64"
      ]
     },
     "execution_count": 17,
     "metadata": {},
     "output_type": "execute_result"
    }
   ],
   "source": [
    "new_df.isnull().sum()"
   ]
  },
  {
   "cell_type": "code",
   "execution_count": 18,
   "metadata": {},
   "outputs": [
    {
     "data": {
      "text/html": [
       "<div>\n",
       "<style scoped>\n",
       "    .dataframe tbody tr th:only-of-type {\n",
       "        vertical-align: middle;\n",
       "    }\n",
       "\n",
       "    .dataframe tbody tr th {\n",
       "        vertical-align: top;\n",
       "    }\n",
       "\n",
       "    .dataframe thead th {\n",
       "        text-align: right;\n",
       "    }\n",
       "</style>\n",
       "<table border=\"1\" class=\"dataframe\">\n",
       "  <thead>\n",
       "    <tr style=\"text-align: right;\">\n",
       "      <th></th>\n",
       "      <th>Cust Type</th>\n",
       "      <th>Customer No.</th>\n",
       "      <th>Gate Pass Time</th>\n",
       "      <th>Make</th>\n",
       "      <th>Model</th>\n",
       "      <th>Order Type</th>\n",
       "      <th>Plant</th>\n",
       "      <th>Plant Name1</th>\n",
       "      <th>Print Status</th>\n",
       "      <th>User ID</th>\n",
       "      <th>Invoice_DateTime</th>\n",
       "      <th>JobCard_DateTime</th>\n",
       "      <th>Service_Time</th>\n",
       "      <th>Clean_CITY</th>\n",
       "      <th>Clean_District</th>\n",
       "      <th>Clean_Location_Area</th>\n",
       "      <th>Business Partner</th>\n",
       "      <th>Data Origin</th>\n",
       "      <th>Item Category</th>\n",
       "      <th>Regn No</th>\n",
       "    </tr>\n",
       "  </thead>\n",
       "  <tbody>\n",
       "    <tr>\n",
       "      <td>0</td>\n",
       "      <td>Retail</td>\n",
       "      <td>67849</td>\n",
       "      <td>00:00:00</td>\n",
       "      <td>GENERAL MOTORS</td>\n",
       "      <td>SPARK</td>\n",
       "      <td>Paid Service</td>\n",
       "      <td>BC01</td>\n",
       "      <td>THANE</td>\n",
       "      <td>NO</td>\n",
       "      <td>BC01FS1</td>\n",
       "      <td>02-01-2015 11:30</td>\n",
       "      <td>13-12-2014 14:29</td>\n",
       "      <td>19 days 21:00:53.000000000</td>\n",
       "      <td>Thane</td>\n",
       "      <td>Maharashtra</td>\n",
       "      <td>Thane Bazar, Thane H.O, Thane R.S.</td>\n",
       "      <td>NaN</td>\n",
       "      <td>NaN</td>\n",
       "      <td>P001</td>\n",
       "      <td>KA19MA1291</td>\n",
       "    </tr>\n",
       "    <tr>\n",
       "      <td>1</td>\n",
       "      <td>Retail</td>\n",
       "      <td>67849</td>\n",
       "      <td>00:00:00</td>\n",
       "      <td>GENERAL MOTORS</td>\n",
       "      <td>SPARK</td>\n",
       "      <td>Paid Service</td>\n",
       "      <td>BC01</td>\n",
       "      <td>THANE</td>\n",
       "      <td>NO</td>\n",
       "      <td>BC01FS1</td>\n",
       "      <td>02-01-2015 11:30</td>\n",
       "      <td>13-12-2014 14:29</td>\n",
       "      <td>19 days 21:00:53.000000000</td>\n",
       "      <td>Thane</td>\n",
       "      <td>Maharashtra</td>\n",
       "      <td>Thane Bazar, Thane H.O, Thane R.S.</td>\n",
       "      <td>NaN</td>\n",
       "      <td>NaN</td>\n",
       "      <td>P002</td>\n",
       "      <td>MH43R3046</td>\n",
       "    </tr>\n",
       "    <tr>\n",
       "      <td>2</td>\n",
       "      <td>Retail</td>\n",
       "      <td>67849</td>\n",
       "      <td>00:00:00</td>\n",
       "      <td>GENERAL MOTORS</td>\n",
       "      <td>SPARK</td>\n",
       "      <td>Paid Service</td>\n",
       "      <td>BC01</td>\n",
       "      <td>THANE</td>\n",
       "      <td>NO</td>\n",
       "      <td>BC01FS1</td>\n",
       "      <td>02-01-2015 11:30</td>\n",
       "      <td>13-12-2014 14:29</td>\n",
       "      <td>19 days 21:00:53.000000000</td>\n",
       "      <td>Thane</td>\n",
       "      <td>Maharashtra</td>\n",
       "      <td>Thane Bazar, Thane H.O, Thane R.S.</td>\n",
       "      <td>NaN</td>\n",
       "      <td>NaN</td>\n",
       "      <td>P010</td>\n",
       "      <td>AP09AX0582</td>\n",
       "    </tr>\n",
       "    <tr>\n",
       "      <td>3</td>\n",
       "      <td>Retail</td>\n",
       "      <td>84419</td>\n",
       "      <td>00:00:00</td>\n",
       "      <td>TATA MOTORS</td>\n",
       "      <td>INDICA</td>\n",
       "      <td>SMC Value Package</td>\n",
       "      <td>BC01</td>\n",
       "      <td>THANE</td>\n",
       "      <td>NO</td>\n",
       "      <td>BC01SA2</td>\n",
       "      <td>03-01-2015 10:07</td>\n",
       "      <td>02-01-2015 14:12</td>\n",
       "      <td>0 days 19:55:14.000000000</td>\n",
       "      <td>Thane</td>\n",
       "      <td>Maharashtra</td>\n",
       "      <td>Thane East, Kopri Colony</td>\n",
       "      <td>NaN</td>\n",
       "      <td>NaN</td>\n",
       "      <td>P001</td>\n",
       "      <td>MH43R3046</td>\n",
       "    </tr>\n",
       "    <tr>\n",
       "      <td>4</td>\n",
       "      <td>Retail</td>\n",
       "      <td>84419</td>\n",
       "      <td>00:00:00</td>\n",
       "      <td>TATA MOTORS</td>\n",
       "      <td>INDICA</td>\n",
       "      <td>SMC Value Package</td>\n",
       "      <td>BC01</td>\n",
       "      <td>THANE</td>\n",
       "      <td>NO</td>\n",
       "      <td>BC01SA2</td>\n",
       "      <td>03-01-2015 10:07</td>\n",
       "      <td>02-01-2015 14:12</td>\n",
       "      <td>0 days 19:55:14.000000000</td>\n",
       "      <td>Thane</td>\n",
       "      <td>Maharashtra</td>\n",
       "      <td>Thane East, Kopri Colony</td>\n",
       "      <td>NaN</td>\n",
       "      <td>NaN</td>\n",
       "      <td>P011</td>\n",
       "      <td>MH04CD9768</td>\n",
       "    </tr>\n",
       "    <tr>\n",
       "      <td>...</td>\n",
       "      <td>...</td>\n",
       "      <td>...</td>\n",
       "      <td>...</td>\n",
       "      <td>...</td>\n",
       "      <td>...</td>\n",
       "      <td>...</td>\n",
       "      <td>...</td>\n",
       "      <td>...</td>\n",
       "      <td>...</td>\n",
       "      <td>...</td>\n",
       "      <td>...</td>\n",
       "      <td>...</td>\n",
       "      <td>...</td>\n",
       "      <td>...</td>\n",
       "      <td>...</td>\n",
       "      <td>...</td>\n",
       "      <td>...</td>\n",
       "      <td>...</td>\n",
       "      <td>...</td>\n",
       "      <td>...</td>\n",
       "    </tr>\n",
       "    <tr>\n",
       "      <td>936270</td>\n",
       "      <td>Retail</td>\n",
       "      <td>48811</td>\n",
       "      <td>00:00:00</td>\n",
       "      <td>MAHINDRA &amp;  MAHINDRA</td>\n",
       "      <td>SCORPIO CRDE</td>\n",
       "      <td>Paid Service</td>\n",
       "      <td>X405</td>\n",
       "      <td>X405 - NANGAN MOTORS PVT. LTD.</td>\n",
       "      <td>NO</td>\n",
       "      <td>X405SA1</td>\n",
       "      <td>30-06-2016 15:43</td>\n",
       "      <td>30-06-2016 08:27</td>\n",
       "      <td>0 days 07:16:05.000000000</td>\n",
       "      <td>Kanchipuram</td>\n",
       "      <td>Tamil Nadu</td>\n",
       "      <td>Lakshmipuram, Chromepet, Nehrunagar, Nagalkeni...</td>\n",
       "      <td>NaN</td>\n",
       "      <td>NaN</td>\n",
       "      <td>P001</td>\n",
       "      <td>NaN</td>\n",
       "    </tr>\n",
       "    <tr>\n",
       "      <td>936271</td>\n",
       "      <td>Retail</td>\n",
       "      <td>48811</td>\n",
       "      <td>00:00:00</td>\n",
       "      <td>MAHINDRA &amp;  MAHINDRA</td>\n",
       "      <td>SCORPIO CRDE</td>\n",
       "      <td>Paid Service</td>\n",
       "      <td>X405</td>\n",
       "      <td>X405 - NANGAN MOTORS PVT. LTD.</td>\n",
       "      <td>NO</td>\n",
       "      <td>X405SA1</td>\n",
       "      <td>30-06-2016 15:43</td>\n",
       "      <td>30-06-2016 08:27</td>\n",
       "      <td>0 days 07:16:05.000000000</td>\n",
       "      <td>Kanchipuram</td>\n",
       "      <td>Tamil Nadu</td>\n",
       "      <td>Lakshmipuram, Chromepet, Nehrunagar, Nagalkeni...</td>\n",
       "      <td>NaN</td>\n",
       "      <td>NaN</td>\n",
       "      <td>P002</td>\n",
       "      <td>NaN</td>\n",
       "    </tr>\n",
       "    <tr>\n",
       "      <td>936272</td>\n",
       "      <td>Retail</td>\n",
       "      <td>204067</td>\n",
       "      <td>00:00:00</td>\n",
       "      <td>HONDA</td>\n",
       "      <td>AMAZE</td>\n",
       "      <td>Accidental</td>\n",
       "      <td>X405</td>\n",
       "      <td>X405 - NANGAN MOTORS PVT. LTD.</td>\n",
       "      <td>NO</td>\n",
       "      <td>X405SA1</td>\n",
       "      <td>30-06-2016 15:58</td>\n",
       "      <td>30-06-2016 12:53</td>\n",
       "      <td>0 days 03:05:11.000000000</td>\n",
       "      <td>Chennai</td>\n",
       "      <td>Tamil Nadu</td>\n",
       "      <td>Velacheri</td>\n",
       "      <td>NaN</td>\n",
       "      <td>NaN</td>\n",
       "      <td>P001</td>\n",
       "      <td>NaN</td>\n",
       "    </tr>\n",
       "    <tr>\n",
       "      <td>936273</td>\n",
       "      <td>Retail</td>\n",
       "      <td>204067</td>\n",
       "      <td>00:00:00</td>\n",
       "      <td>HONDA</td>\n",
       "      <td>AMAZE</td>\n",
       "      <td>Accidental</td>\n",
       "      <td>X405</td>\n",
       "      <td>X405 - NANGAN MOTORS PVT. LTD.</td>\n",
       "      <td>NO</td>\n",
       "      <td>X405SA1</td>\n",
       "      <td>30-06-2016 15:58</td>\n",
       "      <td>30-06-2016 12:53</td>\n",
       "      <td>0 days 03:05:11.000000000</td>\n",
       "      <td>Chennai</td>\n",
       "      <td>Tamil Nadu</td>\n",
       "      <td>Velacheri</td>\n",
       "      <td>NaN</td>\n",
       "      <td>NaN</td>\n",
       "      <td>P011</td>\n",
       "      <td>NaN</td>\n",
       "    </tr>\n",
       "    <tr>\n",
       "      <td>936274</td>\n",
       "      <td>Retail</td>\n",
       "      <td>204288</td>\n",
       "      <td>00:00:00</td>\n",
       "      <td>MARUTI SUZUKI</td>\n",
       "      <td>WAGONR</td>\n",
       "      <td>Running Repairs</td>\n",
       "      <td>X405</td>\n",
       "      <td>X405 - NANGAN MOTORS PVT. LTD.</td>\n",
       "      <td>NO</td>\n",
       "      <td>X405WM1</td>\n",
       "      <td>30-06-2016 17:09</td>\n",
       "      <td>30-06-2016 16:54</td>\n",
       "      <td>0 days 00:15:13.000000000</td>\n",
       "      <td>Kanchipuram</td>\n",
       "      <td>Tamil Nadu</td>\n",
       "      <td>Chennai Airport, Meenambakkam, St.Thomas Mount...</td>\n",
       "      <td>NaN</td>\n",
       "      <td>NaN</td>\n",
       "      <td>P001</td>\n",
       "      <td>NaN</td>\n",
       "    </tr>\n",
       "  </tbody>\n",
       "</table>\n",
       "<p>936275 rows × 20 columns</p>\n",
       "</div>"
      ],
      "text/plain": [
       "       Cust Type Customer No. Gate Pass Time                  Make  \\\n",
       "0         Retail        67849       00:00:00        GENERAL MOTORS   \n",
       "1         Retail        67849       00:00:00        GENERAL MOTORS   \n",
       "2         Retail        67849       00:00:00        GENERAL MOTORS   \n",
       "3         Retail        84419       00:00:00           TATA MOTORS   \n",
       "4         Retail        84419       00:00:00           TATA MOTORS   \n",
       "...          ...          ...            ...                   ...   \n",
       "936270    Retail        48811       00:00:00  MAHINDRA &  MAHINDRA   \n",
       "936271    Retail        48811       00:00:00  MAHINDRA &  MAHINDRA   \n",
       "936272    Retail       204067       00:00:00                 HONDA   \n",
       "936273    Retail       204067       00:00:00                 HONDA   \n",
       "936274    Retail       204288       00:00:00         MARUTI SUZUKI   \n",
       "\n",
       "               Model         Order Type Plant                     Plant Name1  \\\n",
       "0              SPARK       Paid Service  BC01                           THANE   \n",
       "1              SPARK       Paid Service  BC01                           THANE   \n",
       "2              SPARK       Paid Service  BC01                           THANE   \n",
       "3             INDICA  SMC Value Package  BC01                           THANE   \n",
       "4             INDICA  SMC Value Package  BC01                           THANE   \n",
       "...              ...                ...   ...                             ...   \n",
       "936270  SCORPIO CRDE       Paid Service  X405  X405 - NANGAN MOTORS PVT. LTD.   \n",
       "936271  SCORPIO CRDE       Paid Service  X405  X405 - NANGAN MOTORS PVT. LTD.   \n",
       "936272         AMAZE         Accidental  X405  X405 - NANGAN MOTORS PVT. LTD.   \n",
       "936273         AMAZE         Accidental  X405  X405 - NANGAN MOTORS PVT. LTD.   \n",
       "936274        WAGONR    Running Repairs  X405  X405 - NANGAN MOTORS PVT. LTD.   \n",
       "\n",
       "       Print Status  User ID  Invoice_DateTime  JobCard_DateTime  \\\n",
       "0                NO  BC01FS1  02-01-2015 11:30  13-12-2014 14:29   \n",
       "1                NO  BC01FS1  02-01-2015 11:30  13-12-2014 14:29   \n",
       "2                NO  BC01FS1  02-01-2015 11:30  13-12-2014 14:29   \n",
       "3                NO  BC01SA2  03-01-2015 10:07  02-01-2015 14:12   \n",
       "4                NO  BC01SA2  03-01-2015 10:07  02-01-2015 14:12   \n",
       "...             ...      ...               ...               ...   \n",
       "936270           NO  X405SA1  30-06-2016 15:43  30-06-2016 08:27   \n",
       "936271           NO  X405SA1  30-06-2016 15:43  30-06-2016 08:27   \n",
       "936272           NO  X405SA1  30-06-2016 15:58  30-06-2016 12:53   \n",
       "936273           NO  X405SA1  30-06-2016 15:58  30-06-2016 12:53   \n",
       "936274           NO  X405WM1  30-06-2016 17:09  30-06-2016 16:54   \n",
       "\n",
       "                      Service_Time   Clean_CITY Clean_District  \\\n",
       "0       19 days 21:00:53.000000000        Thane    Maharashtra   \n",
       "1       19 days 21:00:53.000000000        Thane    Maharashtra   \n",
       "2       19 days 21:00:53.000000000        Thane    Maharashtra   \n",
       "3        0 days 19:55:14.000000000        Thane    Maharashtra   \n",
       "4        0 days 19:55:14.000000000        Thane    Maharashtra   \n",
       "...                            ...          ...            ...   \n",
       "936270   0 days 07:16:05.000000000  Kanchipuram     Tamil Nadu   \n",
       "936271   0 days 07:16:05.000000000  Kanchipuram     Tamil Nadu   \n",
       "936272   0 days 03:05:11.000000000      Chennai     Tamil Nadu   \n",
       "936273   0 days 03:05:11.000000000      Chennai     Tamil Nadu   \n",
       "936274   0 days 00:15:13.000000000  Kanchipuram     Tamil Nadu   \n",
       "\n",
       "                                      Clean_Location_Area Business Partner  \\\n",
       "0                      Thane Bazar, Thane H.O, Thane R.S.              NaN   \n",
       "1                      Thane Bazar, Thane H.O, Thane R.S.              NaN   \n",
       "2                      Thane Bazar, Thane H.O, Thane R.S.              NaN   \n",
       "3                                Thane East, Kopri Colony              NaN   \n",
       "4                                Thane East, Kopri Colony              NaN   \n",
       "...                                                   ...              ...   \n",
       "936270  Lakshmipuram, Chromepet, Nehrunagar, Nagalkeni...              NaN   \n",
       "936271  Lakshmipuram, Chromepet, Nehrunagar, Nagalkeni...              NaN   \n",
       "936272                                          Velacheri              NaN   \n",
       "936273                                          Velacheri              NaN   \n",
       "936274  Chennai Airport, Meenambakkam, St.Thomas Mount...              NaN   \n",
       "\n",
       "       Data Origin Item Category     Regn No  \n",
       "0              NaN          P001  KA19MA1291  \n",
       "1              NaN          P002   MH43R3046  \n",
       "2              NaN          P010  AP09AX0582  \n",
       "3              NaN          P001   MH43R3046  \n",
       "4              NaN          P011  MH04CD9768  \n",
       "...            ...           ...         ...  \n",
       "936270         NaN          P001         NaN  \n",
       "936271         NaN          P002         NaN  \n",
       "936272         NaN          P001         NaN  \n",
       "936273         NaN          P011         NaN  \n",
       "936274         NaN          P001         NaN  \n",
       "\n",
       "[936275 rows x 20 columns]"
      ]
     },
     "execution_count": 18,
     "metadata": {},
     "output_type": "execute_result"
    }
   ],
   "source": [
    "new_df.select_dtypes(include=['object'])"
   ]
  },
  {
   "cell_type": "code",
   "execution_count": 19,
   "metadata": {},
   "outputs": [],
   "source": [
    "# new_df['Clean_CITY']=new_df['Clean_CITY'].fillna(new_df['Clean_CITY'].mode)\n",
    "# new_df['Model']=new_df['Model'].fillna(new_df['Model'].mode)\n",
    "# new_df['Clean_District']=new_df['Clean_District'].fillna(new_df['Clean_District'].mode)\n",
    "# new_df['Clean_Location_Area']=new_df['Clean_Location_Area'].fillna(new_df['Clean_Location_Area'].mode)\n",
    "# new_df['Data Origin']=new_df['Data Origin'].fillna(new_df['Data Origin'].mode)"
   ]
  },
  {
   "cell_type": "code",
   "execution_count": 20,
   "metadata": {},
   "outputs": [
    {
     "data": {
      "text/plain": [
       "No                          0\n",
       "Cust Type                   0\n",
       "Customer No.                0\n",
       "Gate Pass Time              0\n",
       "Invoice No                  0\n",
       "Job Card No                 0\n",
       "KMs Reading                 0\n",
       "Labour Total                0\n",
       "Make                        0\n",
       "Misc Total                  0\n",
       "Model                    3185\n",
       "OSL Total                   0\n",
       "Order Type                  0\n",
       "Parts Total                 0\n",
       "Pin code                    0\n",
       "Plant                       0\n",
       "Plant Name1                 0\n",
       "Print Status                0\n",
       "Recovrbl Exp                0\n",
       "Total Amt Wtd Tax.          0\n",
       "User ID                     0\n",
       "Invoice_DateTime            0\n",
       "JobCard_DateTime            0\n",
       "Service_Time                0\n",
       "Clean_CITY              94162\n",
       "Clean_District          94162\n",
       "Clean_Location_Area     94162\n",
       "Business Partner       894749\n",
       "Partner Type           894749\n",
       "Data Origin            894749\n",
       "DBM Order                  39\n",
       "Item Category              39\n",
       "Net value                  39\n",
       "Order Quantity             39\n",
       "Regn No                443977\n",
       "dtype: int64"
      ]
     },
     "execution_count": 20,
     "metadata": {},
     "output_type": "execute_result"
    }
   ],
   "source": [
    "new_df.isnull().sum()"
   ]
  },
  {
   "cell_type": "code",
   "execution_count": 21,
   "metadata": {},
   "outputs": [],
   "source": [
    "new_df['Partner Type'] = new_df['Partner Type'].fillna(new_df['Partner Type'].mode()[0])"
   ]
  },
  {
   "cell_type": "code",
   "execution_count": 22,
   "metadata": {
    "scrolled": true
   },
   "outputs": [
    {
     "data": {
      "text/plain": [
       "No                          0\n",
       "Cust Type                   0\n",
       "Customer No.                0\n",
       "Gate Pass Time              0\n",
       "Invoice No                  0\n",
       "Job Card No                 0\n",
       "KMs Reading                 0\n",
       "Labour Total                0\n",
       "Make                        0\n",
       "Misc Total                  0\n",
       "Model                    3185\n",
       "OSL Total                   0\n",
       "Order Type                  0\n",
       "Parts Total                 0\n",
       "Pin code                    0\n",
       "Plant                       0\n",
       "Plant Name1                 0\n",
       "Print Status                0\n",
       "Recovrbl Exp                0\n",
       "Total Amt Wtd Tax.          0\n",
       "User ID                     0\n",
       "Invoice_DateTime            0\n",
       "JobCard_DateTime            0\n",
       "Service_Time                0\n",
       "Clean_CITY              94162\n",
       "Clean_District          94162\n",
       "Clean_Location_Area     94162\n",
       "Business Partner       894749\n",
       "Partner Type                0\n",
       "Data Origin            894749\n",
       "DBM Order                  39\n",
       "Item Category              39\n",
       "Net value                  39\n",
       "Order Quantity             39\n",
       "Regn No                443977\n",
       "dtype: int64"
      ]
     },
     "execution_count": 22,
     "metadata": {},
     "output_type": "execute_result"
    }
   ],
   "source": [
    "new_df.isnull().sum()"
   ]
  },
  {
   "cell_type": "code",
   "execution_count": 23,
   "metadata": {},
   "outputs": [
    {
     "data": {
      "text/plain": [
       "E4981      5606\n",
       "E11206      945\n",
       "E1205       788\n",
       "MFCWP01     768\n",
       "MFCCM03     687\n",
       "           ... \n",
       "E24272        1\n",
       "E11586        1\n",
       "E21845        1\n",
       "E24966        1\n",
       "E14808        1\n",
       "Name: Business Partner, Length: 3649, dtype: int64"
      ]
     },
     "execution_count": 23,
     "metadata": {},
     "output_type": "execute_result"
    }
   ],
   "source": [
    "new_df['Business Partner'].value_counts()"
   ]
  },
  {
   "cell_type": "code",
   "execution_count": 24,
   "metadata": {},
   "outputs": [],
   "source": [
    "x = new_df['Clean_CITY'].value_counts()[:10]"
   ]
  },
  {
   "cell_type": "code",
   "execution_count": 25,
   "metadata": {},
   "outputs": [
    {
     "data": {
      "text/plain": [
       "<matplotlib.axes._subplots.AxesSubplot at 0x21f4c07a2c8>"
      ]
     },
     "execution_count": 25,
     "metadata": {},
     "output_type": "execute_result"
    },
    {
     "data": {
      "image/png": "[encoded data removed]",
      "text/plain": [
       "<Figure size 432x288 with 1 Axes>"
      ]
     },
     "metadata": {
      "needs_background": "light"
     },
     "output_type": "display_data"
    }
   ],
   "source": [
    "#Top 10 Cities with more visits\n",
    "x.plot(kind = 'bar')"
   ]
  },
  {
   "cell_type": "code",
   "execution_count": 26,
   "metadata": {},
   "outputs": [
    {
     "data": {
      "text/plain": [
       "<matplotlib.axes._subplots.AxesSubplot at 0x21f4c5bf908>"
      ]
     },
     "execution_count": 26,
     "metadata": {},
     "output_type": "execute_result"
    },
    {
     "data": {
      "image/png": "[encoded data removed]",
      "text/plain": [
       "<Figure size 432x288 with 1 Axes>"
      ]
     },
     "metadata": {
      "needs_background": "light"
     },
     "output_type": "display_data"
    }
   ],
   "source": [
    "#Top 10 brands\n",
    "a = new_df['Make'].value_counts()[:10]\n",
    "a.plot(kind = 'bar')"
   ]
  },
  {
   "cell_type": "code",
   "execution_count": 27,
   "metadata": {},
   "outputs": [
    {
     "data": {
      "text/plain": [
       "MARUTI SUZUKI           279627\n",
       "MAHINDRA &  MAHINDRA    176101\n",
       "HYUNDAI                 168912\n",
       "TATA MOTORS             106569\n",
       "GENERAL MOTORS           54158\n",
       "FORD                     39999\n",
       "TOYOTA                   33424\n",
       "HONDA                    28294\n",
       "FIAT                     12110\n",
       "SKODA                    11173\n",
       "Name: Make, dtype: int64"
      ]
     },
     "execution_count": 27,
     "metadata": {},
     "output_type": "execute_result"
    }
   ],
   "source": [
    "a = new_df['Make'].value_counts()[:10]\n",
    "a"
   ]
  },
  {
   "cell_type": "code",
   "execution_count": 28,
   "metadata": {},
   "outputs": [
    {
     "data": {
      "text/plain": [
       "<matplotlib.axes._subplots.AxesSubplot at 0x21f42469ac8>"
      ]
     },
     "execution_count": 28,
     "metadata": {},
     "output_type": "execute_result"
    },
    {
     "data": {
      "image/png": "[encoded data removed]",
      "text/plain": [
       "<Figure size 432x288 with 1 Axes>"
      ]
     },
     "metadata": {
      "needs_background": "light"
     },
     "output_type": "display_data"
    }
   ],
   "source": [
    "# Top 5 Services in MAHINDRA &  MAHINDRA\n",
    "ax1 = new_df['Order Type'].loc[new_df['Make'] == 'MAHINDRA &  MAHINDRA'].value_counts()[:5]\n",
    "ax1.plot(kind = 'bar')"
   ]
  },
  {
   "cell_type": "code",
   "execution_count": 29,
   "metadata": {},
   "outputs": [
    {
     "data": {
      "text/plain": [
       "<matplotlib.axes._subplots.AxesSubplot at 0x21f41575d48>"
      ]
     },
     "execution_count": 29,
     "metadata": {},
     "output_type": "execute_result"
    },
    {
     "data": {
      "image/png": "[encoded data removed]",
      "text/plain": [
       "<Figure size 432x288 with 1 Axes>"
      ]
     },
     "metadata": {
      "needs_background": "light"
     },
     "output_type": "display_data"
    }
   ],
   "source": [
    "# Top 5 Services in MARUTI SUZUKI\n",
    "ax2 = new_df['Order Type'].loc[new_df['Make'] == 'MARUTI SUZUKI'].value_counts()[:5]\n",
    "ax2.plot(kind = 'bar')"
   ]
  },
  {
   "cell_type": "code",
   "execution_count": 30,
   "metadata": {},
   "outputs": [
    {
     "data": {
      "text/plain": [
       "<matplotlib.axes._subplots.AxesSubplot at 0x21f40bfc2c8>"
      ]
     },
     "execution_count": 30,
     "metadata": {},
     "output_type": "execute_result"
    },
    {
     "data": {
      "image/png": "[encoded data removed]",
      "text/plain": [
       "<Figure size 432x288 with 1 Axes>"
      ]
     },
     "metadata": {
      "needs_background": "light"
     },
     "output_type": "display_data"
    }
   ],
   "source": [
    "# Top 5 Services in MARUTI HYUNDAI\n",
    "ax3 = new_df['Order Type'].loc[new_df['Make'] == 'HYUNDAI'].value_counts()[:5]\n",
    "ax3.plot(kind = 'bar')"
   ]
  },
  {
   "cell_type": "code",
   "execution_count": 31,
   "metadata": {},
   "outputs": [
    {
     "data": {
      "text/plain": [
       "1502497002.5900002"
      ]
     },
     "execution_count": 31,
     "metadata": {},
     "output_type": "execute_result"
    }
   ],
   "source": [
    "# ay1 = new_df[['Make'] == 'MAHINDRA &  MAHINDRA'].loc[new_df['Total Amt Wtd Tax.'].sum()]\n",
    "# ay1.plot(kind = 'bar')\n",
    "ax4 = new_df['Total Amt Wtd Tax.'].loc[new_df['Make'] == 'MAHINDRA &  MAHINDRA'].sum()\n",
    "ax4"
   ]
  },
  {
   "cell_type": "code",
   "execution_count": 32,
   "metadata": {},
   "outputs": [
    {
     "data": {
      "text/plain": [
       "1169154509.04"
      ]
     },
     "execution_count": 32,
     "metadata": {},
     "output_type": "execute_result"
    }
   ],
   "source": [
    "ax5 = new_df['Total Amt Wtd Tax.'].loc[new_df['Make'] == 'MARUTI SUZUKI'].sum()\n",
    "ax5"
   ]
  },
  {
   "cell_type": "code",
   "execution_count": 33,
   "metadata": {},
   "outputs": [
    {
     "data": {
      "text/plain": [
       "798748616.79"
      ]
     },
     "execution_count": 33,
     "metadata": {},
     "output_type": "execute_result"
    }
   ],
   "source": [
    "ax6 = new_df['Total Amt Wtd Tax.'].loc[new_df['Make'] == 'HYUNDAI'].sum()\n",
    "ax6"
   ]
  },
  {
   "cell_type": "code",
   "execution_count": 34,
   "metadata": {},
   "outputs": [
    {
     "data": {
      "text/plain": [
       "618759259.27"
      ]
     },
     "execution_count": 34,
     "metadata": {},
     "output_type": "execute_result"
    }
   ],
   "source": [
    "ax7 = new_df['Total Amt Wtd Tax.'].loc[new_df['Make'] == 'TATA MOTORS'].sum()\n",
    "ax7"
   ]
  },
  {
   "cell_type": "code",
   "execution_count": 35,
   "metadata": {},
   "outputs": [
    {
     "data": {
      "text/plain": [
       "313964620.96"
      ]
     },
     "execution_count": 35,
     "metadata": {},
     "output_type": "execute_result"
    }
   ],
   "source": [
    "ax8 = new_df['Total Amt Wtd Tax.'].loc[new_df['Make'] == 'GENERAL MOTORS'].sum()\n",
    "ax8"
   ]
  },
  {
   "cell_type": "code",
   "execution_count": 36,
   "metadata": {
    "scrolled": true
   },
   "outputs": [
    {
     "data": {
      "text/plain": [
       "Running Repairs      454904\n",
       "Paid Service         304691\n",
       "Accidental            87440\n",
       "SMC Redemption        33553\n",
       "Mechanical            26850\n",
       "SMC Value Package     25715\n",
       "Repeat Order           3070\n",
       "WBW Order                35\n",
       "Workshop Damage          17\n",
       "Name: Order Type, dtype: int64"
      ]
     },
     "execution_count": 36,
     "metadata": {},
     "output_type": "execute_result"
    }
   ],
   "source": [
    "new_df['Order Type'].value_counts()"
   ]
  },
  {
   "cell_type": "code",
   "execution_count": 37,
   "metadata": {},
   "outputs": [
    {
     "data": {
      "image/png": "[encoded data removed]",
      "text/plain": [
       "<Figure size 720x360 with 1 Axes>"
      ]
     },
     "metadata": {
      "needs_background": "light"
     },
     "output_type": "display_data"
    }
   ],
   "source": [
    "x = {ax4:'MAHINDRA &  MAHINDRA',ax5:'MARUTI SUZUKI',ax6: 'HYUNDAI', ax7: 'TATA MOTORS', ax8: 'GENERAL MOTOR'}\n",
    "courses = list(x.values()) \n",
    "values = list(x.keys()) \n",
    "   \n",
    "fig = plt.figure(figsize = (10, 5)) \n",
    "  \n",
    "# creating the bar plot \n",
    "plt.bar(courses, values, color ='mediumaquamarine',  \n",
    "        width = 0.4) \n",
    "  \n",
    "plt.xlabel(\"Brand\") \n",
    "plt.ylabel(\"Revenue\")\n",
    "plt.title(\"Revenue for specific Brands\") \n",
    "plt.show()"
   ]
  },
  {
   "cell_type": "code",
   "execution_count": 38,
   "metadata": {},
   "outputs": [
    {
     "data": {
      "text/plain": [
       "28"
      ]
     },
     "execution_count": 38,
     "metadata": {},
     "output_type": "execute_result"
    }
   ],
   "source": [
    "new_df['Clean_District'].nunique()"
   ]
  },
  {
   "cell_type": "code",
   "execution_count": 39,
   "metadata": {},
   "outputs": [
    {
     "data": {
      "text/plain": [
       "Maharashtra       228496\n",
       "Tamil Nadu        197669\n",
       "Karnataka          74881\n",
       "Telangana          59555\n",
       "Uttar Pradesh      56391\n",
       "Gujarat            41933\n",
       "Punjab             38255\n",
       "Haryana            29863\n",
       "Andhra Pradesh     26812\n",
       "Rajasthan          20563\n",
       "Name: Clean_District, dtype: int64"
      ]
     },
     "execution_count": 39,
     "metadata": {},
     "output_type": "execute_result"
    }
   ],
   "source": [
    "#top 10 STATES with customer distribution\n",
    "new_df['Clean_District'].value_counts()[:10]"
   ]
  },
  {
   "cell_type": "code",
   "execution_count": 40,
   "metadata": {},
   "outputs": [
    {
     "data": {
      "text/plain": [
       "1141556792.0600002"
      ]
     },
     "execution_count": 40,
     "metadata": {},
     "output_type": "execute_result"
    }
   ],
   "source": [
    "bx1 = new_df['Total Amt Wtd Tax.'].loc[new_df['Clean_District'] == 'Maharashtra'].sum()\n",
    "bx1"
   ]
  },
  {
   "cell_type": "code",
   "execution_count": 41,
   "metadata": {},
   "outputs": [
    {
     "data": {
      "text/plain": [
       "1141556792.0600002"
      ]
     },
     "execution_count": 41,
     "metadata": {},
     "output_type": "execute_result"
    }
   ],
   "source": [
    "bx1 = new_df['Total Amt Wtd Tax.'].loc[new_df['Clean_District'] == 'Maharashtra'].sum()\n",
    "bx1"
   ]
  },
  {
   "cell_type": "code",
   "execution_count": 42,
   "metadata": {},
   "outputs": [],
   "source": [
    "dis={'P002':{'OIL FILTER':154387,'URANIA SUPREMO CI 4 15W 40':122218,'MFC PROLEUM CI4/SL 15W40':92091,'AIR FILTER':80211,'WINDSHIELD LIQUID WASHER':55352},\n",
    "'P001':{'Paid Service-Minor':201857,'WASHING':198483,'Wheel Alignment':191209,'Wheel Balancing 5 Wheels':79969,'MISC LABOR 0.5 HOURS':62982}}"
   ]
  },
  {
   "cell_type": "code",
   "execution_count": 45,
   "metadata": {},
   "outputs": [],
   "source": [
    "# # x = {ax4:'MAHINDRA &  MAHINDRA',ax5:'MARUTI SUZUKI',ax6: 'HYUNDAI', ax7: 'TATA MOTORS', ax8: 'GENERAL MOTOR'}\n",
    "# x = {'P002':{'OIL FILTER':154387,'URANIA SUPREMO CI 4 15W 40':122218,'MFC PROLEUM CI4/SL 15W40':92091,'AIR FILTER':80211,'WINDSHIELD LIQUID WASHER':55352},\n",
    "# 'P001':{'Paid Service-Minor':201857,'WASHING':198483,'Wheel Alignment':191209,'Wheel Balancing 5 Wheels':79969,'MISC LABOR 0.5 HOURS':62982}}\n",
    "# courses = list(x.values()) \n",
    "# values = list(x.keys()) \n",
    "   \n",
    "# fig = plt.figure(figsize = (10, 5)) \n",
    "  \n",
    "# # creating the bar plot \n",
    "# plt.bar(courses, values, color ='green',  \n",
    "#         width = 0.4) \n",
    "  \n",
    "# plt.xlabel(\"Brand\") \n",
    "# plt.ylabel(\"Revenue\")\n",
    "# plt.title(\"Revenue for specific Brands\") \n",
    "# plt.show()"
   ]
  },
  {
   "cell_type": "code",
   "execution_count": 46,
   "metadata": {},
   "outputs": [],
   "source": [
    "NG1={'P002': {'OIL FILTER':154387,'URANIA SUPREMO CI 4 15W 40':122218}, 'P001': {'Paid Service-Minor':201857,'WASHING':198483,'Wheel Alignment':191209}}\n",
    "NG2={'need1': {'good1': 13, 'good2': 23}, 'need2': {'good2': 8, 'good3': 14}}"
   ]
  },
  {
   "cell_type": "code",
   "execution_count": 47,
   "metadata": {},
   "outputs": [],
   "source": [
    "NG1={'P002': {'OIL FILTER': 154387, 'URANIA SUPREMO CI 4 15W 40':122218}, 'need2': {'good2': 2, 'good3': 2}}\n",
    "NG2={'need1': {'good1': 13, 'good2': 23}, 'need2': {'good2': 8, 'good3': 14}}"
   ]
  },
  {
   "cell_type": "code",
   "execution_count": 48,
   "metadata": {},
   "outputs": [],
   "source": [
    "combined_df = pd.concat({'ng1': pd.DataFrame(NG1), 'ng2': pd.DataFrame(NG2)}).unstack(0)"
   ]
  },
  {
   "cell_type": "code",
   "execution_count": 49,
   "metadata": {},
   "outputs": [
    {
     "data": {
      "text/html": [
       "<div>\n",
       "<style scoped>\n",
       "    .dataframe tbody tr th:only-of-type {\n",
       "        vertical-align: middle;\n",
       "    }\n",
       "\n",
       "    .dataframe tbody tr th {\n",
       "        vertical-align: top;\n",
       "    }\n",
       "\n",
       "    .dataframe thead tr th {\n",
       "        text-align: left;\n",
       "    }\n",
       "</style>\n",
       "<table border=\"1\" class=\"dataframe\">\n",
       "  <thead>\n",
       "    <tr>\n",
       "      <th></th>\n",
       "      <th colspan=\"2\" halign=\"left\">P002</th>\n",
       "      <th colspan=\"2\" halign=\"left\">need1</th>\n",
       "      <th colspan=\"2\" halign=\"left\">need2</th>\n",
       "    </tr>\n",
       "    <tr>\n",
       "      <th></th>\n",
       "      <th>ng1</th>\n",
       "      <th>ng2</th>\n",
       "      <th>ng1</th>\n",
       "      <th>ng2</th>\n",
       "      <th>ng1</th>\n",
       "      <th>ng2</th>\n",
       "    </tr>\n",
       "  </thead>\n",
       "  <tbody>\n",
       "    <tr>\n",
       "      <td>OIL FILTER</td>\n",
       "      <td>154387.0</td>\n",
       "      <td>NaN</td>\n",
       "      <td>NaN</td>\n",
       "      <td>NaN</td>\n",
       "      <td>NaN</td>\n",
       "      <td>NaN</td>\n",
       "    </tr>\n",
       "    <tr>\n",
       "      <td>URANIA SUPREMO CI 4 15W 40</td>\n",
       "      <td>122218.0</td>\n",
       "      <td>NaN</td>\n",
       "      <td>NaN</td>\n",
       "      <td>NaN</td>\n",
       "      <td>NaN</td>\n",
       "      <td>NaN</td>\n",
       "    </tr>\n",
       "    <tr>\n",
       "      <td>good1</td>\n",
       "      <td>NaN</td>\n",
       "      <td>NaN</td>\n",
       "      <td>NaN</td>\n",
       "      <td>13.0</td>\n",
       "      <td>NaN</td>\n",
       "      <td>NaN</td>\n",
       "    </tr>\n",
       "    <tr>\n",
       "      <td>good2</td>\n",
       "      <td>NaN</td>\n",
       "      <td>NaN</td>\n",
       "      <td>NaN</td>\n",
       "      <td>23.0</td>\n",
       "      <td>2.0</td>\n",
       "      <td>8.0</td>\n",
       "    </tr>\n",
       "    <tr>\n",
       "      <td>good3</td>\n",
       "      <td>NaN</td>\n",
       "      <td>NaN</td>\n",
       "      <td>NaN</td>\n",
       "      <td>NaN</td>\n",
       "      <td>2.0</td>\n",
       "      <td>14.0</td>\n",
       "    </tr>\n",
       "  </tbody>\n",
       "</table>\n",
       "</div>"
      ],
      "text/plain": [
       "                                P002     need1       need2      \n",
       "                                 ng1 ng2   ng1   ng2   ng1   ng2\n",
       "OIL FILTER                  154387.0 NaN   NaN   NaN   NaN   NaN\n",
       "URANIA SUPREMO CI 4 15W 40  122218.0 NaN   NaN   NaN   NaN   NaN\n",
       "good1                            NaN NaN   NaN  13.0   NaN   NaN\n",
       "good2                            NaN NaN   NaN  23.0   2.0   8.0\n",
       "good3                            NaN NaN   NaN   NaN   2.0  14.0"
      ]
     },
     "execution_count": 49,
     "metadata": {},
     "output_type": "execute_result"
    }
   ],
   "source": [
    "combined_df"
   ]
  },
  {
   "cell_type": "code",
   "execution_count": 50,
   "metadata": {},
   "outputs": [
    {
     "data": {
      "text/plain": [
       "<matplotlib.axes._subplots.AxesSubplot at 0x21f444a4b48>"
      ]
     },
     "execution_count": 50,
     "metadata": {},
     "output_type": "execute_result"
    },
    {
     "data": {
      "image/png": "[encoded data removed]",
      "text/plain": [
       "<Figure size 432x288 with 1 Axes>"
      ]
     },
     "metadata": {
      "needs_background": "light"
     },
     "output_type": "display_data"
    }
   ],
   "source": [
    "combined_df.plot.bar()"
   ]
  },
  {
   "cell_type": "code",
   "execution_count": 51,
   "metadata": {},
   "outputs": [
    {
     "data": {
      "text/plain": [
       "94162"
      ]
     },
     "execution_count": 51,
     "metadata": {},
     "output_type": "execute_result"
    }
   ],
   "source": [
    "new_df['Clean_District'].isnull().sum()"
   ]
  },
  {
   "cell_type": "code",
   "execution_count": 52,
   "metadata": {},
   "outputs": [
    {
     "data": {
      "text/plain": [
       "7223.38"
      ]
     },
     "execution_count": 52,
     "metadata": {},
     "output_type": "execute_result"
    }
   ],
   "source": [
    "bx1 = new_df['Total Amt Wtd Tax.'].loc[new_df['Clean_District'].value_counts().sum()]\n",
    "bx1"
   ]
  },
  {
   "cell_type": "code",
   "execution_count": 53,
   "metadata": {},
   "outputs": [
    {
     "data": {
      "text/plain": [
       "<matplotlib.axes._subplots.AxesSubplot at 0x21f41d8dd48>"
      ]
     },
     "execution_count": 53,
     "metadata": {},
     "output_type": "execute_result"
    },
    {
     "data": {
      "image/png": "[encoded data removed]",
      "text/plain": [
       "<Figure size 432x288 with 1 Axes>"
      ]
     },
     "metadata": {
      "needs_background": "light"
     },
     "output_type": "display_data"
    }
   ],
   "source": [
    "new_df.boxplot(column=['KMs Reading'])"
   ]
  },
  {
   "cell_type": "code",
   "execution_count": 14,
   "metadata": {},
   "outputs": [
    {
     "data": {
      "text/plain": [
       "<matplotlib.axes._subplots.AxesSubplot at 0x25681463608>"
      ]
     },
     "execution_count": 14,
     "metadata": {},
     "output_type": "execute_result"
    },
    {
     "data": {
      "image/png": "[encoded data removed]",
      "text/plain": [
       "<Figure size 432x288 with 1 Axes>"
      ]
     },
     "metadata": {
      "needs_background": "light"
     },
     "output_type": "display_data"
    }
   ],
   "source": [
    "a = new_df['KMs Reading']\n",
    "a.plot(kind = 'hist', color = '#44CAD8')"
   ]
  },
  {
   "cell_type": "code",
   "execution_count": 55,
   "metadata": {},
   "outputs": [],
   "source": [
    "# super fast service (less than 0.50 quantile)\n",
    "New = new_df[new_df['KMs Reading']< new_df['KMs Reading'].quantile(0.1)]\n",
    "\n",
    "# fast service (between 0.50 to 0.75 quantile)\n",
    "New_Mid = new_df[\n",
    "                (new_df['KMs Reading']> new_df['KMs Reading'].quantile(0.1)) & \n",
    "                (new_df['KMs Reading']< new_df['KMs Reading'].quantile(0.2))\n",
    "                ]\n",
    "\n",
    "# slow service (between 0.75 to 0.95 quantile)\n",
    "Mid_Old = new_df[\n",
    "                (new_df['KMs Reading'] > new_df['KMs Reading'].quantile(0.2)) & \n",
    "                (new_df['KMs Reading'] < new_df['KMs Reading'].quantile(0.5))\n",
    "                ]\n",
    "\n",
    "# super fast service (more than 0.95 quantile)\n",
    "Old = new_df[new_df['KMs Reading'] > new_df['KMs Reading'].quantile(0.5)]"
   ]
  },
  {
   "cell_type": "code",
   "execution_count": 56,
   "metadata": {},
   "outputs": [],
   "source": [
    "ax1 = len(New)\n",
    "ax2 = len(New_Mid)\n",
    "ax3 = len(Mid_Old)\n",
    "ax4 = len(Old)"
   ]
  },
  {
   "cell_type": "code",
   "execution_count": 57,
   "metadata": {},
   "outputs": [
    {
     "data": {
      "image/png": "[encoded data removed]",
      "text/plain": [
       "<Figure size 720x360 with 1 Axes>"
      ]
     },
     "metadata": {
      "needs_background": "light"
     },
     "output_type": "display_data"
    }
   ],
   "source": [
    "x = {ax1:'New',ax2:'New_Mid',ax3: 'Average',ax4: 'Too_Old'}\n",
    "courses = list(x.values()) \n",
    "values = list(x.keys()) \n",
    "   \n",
    "fig = plt.figure(figsize = (10, 5)) \n",
    "  \n",
    "# creating the bar plot \n",
    "plt.bar(courses, values, color ='turquoise',  \n",
    "        width = 0.4) \n",
    "  \n",
    "plt.xlabel(\"Usage\") \n",
    "plt.ylabel(\"Distance Travelled\")\n",
    "plt.title(\"Visited Car Category\") \n",
    "plt.show()"
   ]
  },
  {
   "cell_type": "code",
   "execution_count": null,
   "metadata": {},
   "outputs": [],
   "source": []
  },
  {
   "cell_type": "code",
   "execution_count": 59,
   "metadata": {},
   "outputs": [],
   "source": [
    "ax = New.loc[New['Clean_District'] == 'Tamil Nadu']\n",
    "bx = len(ax)"
   ]
  },
  {
   "cell_type": "code",
   "execution_count": 60,
   "metadata": {},
   "outputs": [],
   "source": [
    "ax1 = New_Mid.loc[New_Mid['Clean_District'] == 'Tamil Nadu']\n",
    "bx1 = len(ax1)"
   ]
  },
  {
   "cell_type": "code",
   "execution_count": 61,
   "metadata": {},
   "outputs": [],
   "source": [
    "ax2 = Mid_Old.loc[Mid_Old['Clean_District'] == 'Tamil Nadu']\n",
    "bx2 = len(ax2)"
   ]
  },
  {
   "cell_type": "code",
   "execution_count": 62,
   "metadata": {},
   "outputs": [],
   "source": [
    "ax3 = Old.loc[Old['Clean_District'] == 'Tamil Nadu']\n",
    "bx3 = len(ax3)"
   ]
  },
  {
   "cell_type": "code",
   "execution_count": 63,
   "metadata": {},
   "outputs": [
    {
     "data": {
      "image/png": "[encoded data removed]",
      "text/plain": [
       "<Figure size 720x360 with 1 Axes>"
      ]
     },
     "metadata": {
      "needs_background": "light"
     },
     "output_type": "display_data"
    }
   ],
   "source": [
    "x = {bx:'New',bx1:'New_Mid',bx2: 'Average',bx3: 'Too_Old'}\n",
    "courses = list(x.values()) \n",
    "values = list(x.keys()) \n",
    "   \n",
    "fig = plt.figure(figsize = (10, 5)) \n",
    "  \n",
    "# creating the bar plot \n",
    "plt.bar(courses, values, color ='turquoise',  \n",
    "        width = 0.4) \n",
    "  \n",
    "plt.xlabel(\"Usage\") \n",
    "plt.ylabel(\"Distance Travelled\")\n",
    "plt.title(\"Visited Car Category\") \n",
    "plt.show()"
   ]
  },
  {
   "cell_type": "markdown",
   "metadata": {},
   "source": [
    "# New Data"
   ]
  },
  {
   "cell_type": "code",
   "execution_count": 3,
   "metadata": {},
   "outputs": [
    {
     "data": {
      "text/plain": [
       "Index(['No', 'Cust Type', 'Customer No.', 'Gate Pass Time', 'Invoice No',\n",
       "       'Job Card No', 'KMs Reading', 'Labour Total', 'Make', 'Misc Total',\n",
       "       'Model', 'OSL Total', 'Order Type', 'Parts Total', 'Pin code', 'Plant',\n",
       "       'Plant Name1', 'Print Status', 'Recovrbl Exp', 'Total Amt Wtd Tax.',\n",
       "       'User ID', 'Invoice_DateTime', 'JobCard_DateTime', 'Service_Time',\n",
       "       'Clean_CITY', 'Clean_District', 'Clean_Location_Area',\n",
       "       'Business Partner', 'Partner Type', 'Data Origin', 'DBM Order',\n",
       "       'Item Category', 'Net value', 'Order Quantity', 'Regn No'],\n",
       "      dtype='object')"
      ]
     },
     "execution_count": 3,
     "metadata": {},
     "output_type": "execute_result"
    }
   ],
   "source": [
    "df2 = new_df\n",
    "df2.columns"
   ]
  },
  {
   "cell_type": "code",
   "execution_count": 4,
   "metadata": {},
   "outputs": [],
   "source": [
    "df2['year'] = pd.DatetimeIndex(df2['Invoice_DateTime']).year"
   ]
  },
  {
   "cell_type": "code",
   "execution_count": 5,
   "metadata": {},
   "outputs": [],
   "source": [
    "df2['month'] = pd.DatetimeIndex(df2['Invoice_DateTime']).month"
   ]
  },
  {
   "cell_type": "code",
   "execution_count": 98,
   "metadata": {},
   "outputs": [
    {
     "data": {
      "text/plain": [
       "No                     23070\n",
       "Cust Type              23070\n",
       "Customer No.           23070\n",
       "Gate Pass Time         23070\n",
       "Invoice No             23070\n",
       "Job Card No            23070\n",
       "KMs Reading            23070\n",
       "Labour Total           23070\n",
       "Make                   23070\n",
       "Misc Total             23070\n",
       "Model                  23058\n",
       "OSL Total              23070\n",
       "Order Type             23070\n",
       "Parts Total            23070\n",
       "Pin code               23070\n",
       "Plant                  23070\n",
       "Plant Name1            23070\n",
       "Print Status           23070\n",
       "Recovrbl Exp           23070\n",
       "Total Amt Wtd Tax.     23070\n",
       "User ID                23070\n",
       "Invoice_DateTime       23070\n",
       "JobCard_DateTime       23070\n",
       "Service_Time           23070\n",
       "Clean_CITY             21142\n",
       "Clean_District         21142\n",
       "Clean_Location_Area    21142\n",
       "Business Partner         297\n",
       "Partner Type           23070\n",
       "Data Origin              297\n",
       "DBM Order              23070\n",
       "Item Category          23070\n",
       "Net value              23070\n",
       "Order Quantity         23070\n",
       "Regn No                    0\n",
       "year                   23070\n",
       "month                  23070\n",
       "dtype: int64"
      ]
     },
     "execution_count": 98,
     "metadata": {},
     "output_type": "execute_result"
    }
   ],
   "source": [
    "df2[(df2['year']== 2016) & (df2['month'] == 3)].count()"
   ]
  },
  {
   "cell_type": "code",
   "execution_count": 12,
   "metadata": {},
   "outputs": [],
   "source": [
    "df2['Invoice_DateTime'] = pd.to_datetime(df2['Invoice_DateTime'],errors='ignore')"
   ]
  },
  {
   "cell_type": "code",
   "execution_count": 19,
   "metadata": {},
   "outputs": [
    {
     "data": {
      "text/plain": [
       "datetime.date(2020, 7, 8)"
      ]
     },
     "execution_count": 19,
     "metadata": {},
     "output_type": "execute_result"
    }
   ],
   "source": [
    "import datetime\n",
    "date = datetime.date.today()\n",
    "date"
   ]
  },
  {
   "cell_type": "code",
   "execution_count": 30,
   "metadata": {
    "scrolled": true
   },
   "outputs": [
    {
     "data": {
      "text/plain": [
       "21348"
      ]
     },
     "execution_count": 30,
     "metadata": {},
     "output_type": "execute_result"
    }
   ],
   "source": [
    "x=df2[(df2.Invoice_DateTime < datetime.date(2013,6,1)) & (df2.Invoice_DateTime >= datetime.date(2013,3,1))].reset_index(drop=True)\n",
    "len(x['Invoice No'])"
   ]
  },
  {
   "cell_type": "code",
   "execution_count": 28,
   "metadata": {},
   "outputs": [
    {
     "data": {
      "text/plain": [
       "21348"
      ]
     },
     "execution_count": 28,
     "metadata": {},
     "output_type": "execute_result"
    }
   ],
   "source": [
    "len(x['Net value'])"
   ]
  },
  {
   "cell_type": "code",
   "execution_count": 99,
   "metadata": {},
   "outputs": [
    {
     "data": {
      "text/plain": [
       "'31-12-2015 22:19'"
      ]
     },
     "execution_count": 99,
     "metadata": {},
     "output_type": "execute_result"
    }
   ],
   "source": [
    "df2['JobCard_DateTime'].max()"
   ]
  },
  {
   "cell_type": "code",
   "execution_count": null,
   "metadata": {},
   "outputs": [],
   "source": []
  },
  {
   "cell_type": "code",
   "execution_count": null,
   "metadata": {},
   "outputs": [],
   "source": []
  },
  {
   "cell_type": "code",
   "execution_count": 8,
   "metadata": {},
   "outputs": [],
   "source": [
    "df2 = df2\n",
    "df2.to_csv('new_excel.csv')"
   ]
  },
  {
   "cell_type": "code",
   "execution_count": 158,
   "metadata": {},
   "outputs": [
    {
     "data": {
      "text/plain": [
       "206666438.8"
      ]
     },
     "execution_count": 158,
     "metadata": {},
     "output_type": "execute_result"
    }
   ],
   "source": [
    "ax = df2['Total Amt Wtd Tax.'].loc[df2['year'] == 2012].sum()\n",
    "ax"
   ]
  },
  {
   "cell_type": "code",
   "execution_count": 159,
   "metadata": {},
   "outputs": [
    {
     "data": {
      "text/plain": [
       "607314114.89"
      ]
     },
     "execution_count": 159,
     "metadata": {},
     "output_type": "execute_result"
    }
   ],
   "source": [
    "ax1 = df2['Total Amt Wtd Tax.'].loc[df2['year'] == 2013].sum()\n",
    "ax1"
   ]
  },
  {
   "cell_type": "code",
   "execution_count": 160,
   "metadata": {},
   "outputs": [
    {
     "data": {
      "text/plain": [
       "1146333423.49"
      ]
     },
     "execution_count": 160,
     "metadata": {},
     "output_type": "execute_result"
    }
   ],
   "source": [
    "ax2 = df2['Total Amt Wtd Tax.'].loc[df2['year'] == 2014].sum()\n",
    "ax2"
   ]
  },
  {
   "cell_type": "code",
   "execution_count": 161,
   "metadata": {},
   "outputs": [
    {
     "data": {
      "text/plain": [
       "1556480679.7700002"
      ]
     },
     "execution_count": 161,
     "metadata": {},
     "output_type": "execute_result"
    }
   ],
   "source": [
    "ax3 = df2['Total Amt Wtd Tax.'].loc[df2['year'] == 2015].sum()\n",
    "ax3"
   ]
  },
  {
   "cell_type": "code",
   "execution_count": 162,
   "metadata": {},
   "outputs": [
    {
     "data": {
      "text/plain": [
       "1893946732.740001"
      ]
     },
     "execution_count": 162,
     "metadata": {},
     "output_type": "execute_result"
    }
   ],
   "source": [
    "ax4 = df2['Total Amt Wtd Tax.'].loc[df2['year'] == 2016].sum()\n",
    "ax4"
   ]
  },
  {
   "cell_type": "code",
   "execution_count": 172,
   "metadata": {},
   "outputs": [
    {
     "data": {
      "image/png": "[encoded data removed]",
      "text/plain": [
       "<Figure size 720x360 with 1 Axes>"
      ]
     },
     "metadata": {
      "needs_background": "light"
     },
     "output_type": "display_data"
    }
   ],
   "source": [
    "#Revenue By Year\n",
    "x = {ax:'2012',ax1:'2013',ax2:'2014',ax3: '2015',ax4: '2016'}\n",
    "courses = list(x.values()) \n",
    "values = list(x.keys()) \n",
    "   \n",
    "fig = plt.figure(figsize = (10, 5)) \n",
    "color = ['turquoise','aquamarine', 'paleturquoise', 'mediumaquamarine', 'lightseagreen']\n",
    "# creating the bar plot \n",
    "plt.bar(courses, values, color = color,  \n",
    "        width = 0.4) \n",
    "  \n",
    "plt.xlabel(\"Year\") \n",
    "plt.ylabel(\"Revenue\")\n",
    "plt.title(\"Revenue By Year\") \n",
    "plt.show()"
   ]
  },
  {
   "cell_type": "code",
   "execution_count": 177,
   "metadata": {},
   "outputs": [
    {
     "data": {
      "image/png": "[encoded data removed]",
      "text/plain": [
       "<Figure size 720x360 with 1 Axes>"
      ]
     },
     "metadata": {
      "needs_background": "light"
     },
     "output_type": "display_data"
    }
   ],
   "source": [
    "#Revenue By Year\n",
    "x = {ax:'2012',ax1:'2013',ax2:'2014',ax3: '2015',ax4: '2016'}\n",
    "\n",
    "   \n",
    "fig = plt.figure(figsize = (10, 5)) \n",
    "\n",
    "# creating the bar plot \n",
    "plt.plot(kind = 'line',marker='o') \n",
    "  \n",
    "plt.xlabel(\"Year\") \n",
    "plt.ylabel(\"Revenue\")\n",
    "plt.title(\"Revenue By Year\") \n",
    "plt.show()"
   ]
  },
  {
   "cell_type": "code",
   "execution_count": null,
   "metadata": {},
   "outputs": [],
   "source": [
    "january february march arpil may june july august september october novemeber december"
   ]
  },
  {
   "cell_type": "code",
   "execution_count": null,
   "metadata": {},
   "outputs": [],
   "source": [
    "Summer = [march arpil may]\n",
    "Post Monsoon = [october novemeber]\n",
    "Rainy = [june july august september]\n",
    "Winter = [ december january february]"
   ]
  },
  {
   "cell_type": "code",
   "execution_count": 23,
   "metadata": {},
   "outputs": [],
   "source": [
    "Summer = [3,4,5]\n",
    "Post_Monsoon = [10,11]\n",
    "Rainy = [6,7,8,9]\n",
    "Winter = [12,1,2]"
   ]
  },
  {
   "cell_type": "code",
   "execution_count": 42,
   "metadata": {},
   "outputs": [],
   "source": [
    "ax = df2['Customer No.'].loc[df2['month'] == 3]+df2['Customer No.'].loc[df2['month'] == 4]+df2['Customer No.'].loc[df2['month'] == 5]\n",
    "Summer_x = len(ax)"
   ]
  },
  {
   "cell_type": "code",
   "execution_count": 32,
   "metadata": {},
   "outputs": [],
   "source": [
    "ax1 = df2['Customer No.'].loc[df2['month'] == 10]+df2['Customer No.'].loc[df2['month'] == 11]\n",
    "Post_Monsoon_x = len(ax1)"
   ]
  },
  {
   "cell_type": "code",
   "execution_count": 39,
   "metadata": {},
   "outputs": [],
   "source": [
    "ax2 = df2['Customer No.'].loc[df2['month'] == 6]+df2['Customer No.'].loc[df2['month'] == 7]+df2['Customer No.'].loc[df2['month'] == 8]+df2['Customer No.'].loc[df2['month'] == 9]\n",
    "Rainy_x = len(ax2)"
   ]
  },
  {
   "cell_type": "code",
   "execution_count": 43,
   "metadata": {},
   "outputs": [],
   "source": [
    "ax3 = df2['Customer No.'].loc[df2['month'] == 12]+df2['Customer No.'].loc[df2['month'] == 1]+df2['Customer No.'].loc[df2['month'] == 2]\n",
    "Winter_x = len(ax3)"
   ]
  },
  {
   "cell_type": "code",
   "execution_count": 63,
   "metadata": {},
   "outputs": [
    {
     "data": {
      "image/png": "[encoded data removed]",
      "text/plain": [
       "<Figure size 720x360 with 1 Axes>"
      ]
     },
     "metadata": {
      "needs_background": "light"
     },
     "output_type": "display_data"
    }
   ],
   "source": [
    "#Customer No every month\n",
    "x = {Summer_x:'Summer',Post_Monsoon_x:'Post_Monsoon',Rainy_x:'Rainy',Winter_x: 'Winter'}\n",
    "courses = list(x.values()) \n",
    "values = list(x.keys()) \n",
    "   \n",
    "fig = plt.figure(figsize = (10, 5)) \n",
    "  \n",
    "# creating the bar plot \n",
    "plt.bar(courses, values, color ='green',  \n",
    "        width = 0.4) \n",
    "  \n",
    "plt.xlabel(\"Season\") \n",
    "plt.ylabel(\"Customer Visit\")\n",
    "plt.title(\"Customer No every month\") \n",
    "plt.show()"
   ]
  },
  {
   "cell_type": "code",
   "execution_count": 64,
   "metadata": {},
   "outputs": [
    {
     "data": {
      "image/png": "[encoded data removed]",
      "text/plain": [
       "<Figure size 432x288 with 1 Axes>"
      ]
     },
     "metadata": {},
     "output_type": "display_data"
    }
   ],
   "source": [
    "# #Revenue By Year\n",
    "# x = [Summer_x, Post_Monsoon_x, Rainy_x, Winter_x]\n",
    " \n",
    "  \n",
    "# # creating the bar plot \n",
    "# x.plot(kind = 'pie')\n",
    "\n",
    "fig = plt.figure()\n",
    "ax = fig.add_axes([0,0,1,1])\n",
    "ax.axis('equal')\n",
    "colors = ['orange', 'aqua', 'lightgreen', 'grey']\n",
    "langs = ['Summer', 'Post_Monsoon', 'Rainy', 'Winter']\n",
    "students = [Summer_x, Post_Monsoon_x, Rainy_x, Winter_x]\n",
    "ax.pie(students, labels = langs,autopct='%1.2f%%',colors=colors)\n",
    "plt.title('Season Wise Customer Visits to service center')\n",
    "plt.show()"
   ]
  },
  {
   "cell_type": "code",
   "execution_count": 107,
   "metadata": {},
   "outputs": [],
   "source": [
    "jan = df2['Customer No.'].loc[((df2['month'] == 1) & (df2['Item Category'] == 'P001'))]\n",
    "\n",
    "feb = df2['Customer No.'].loc[((df2['month'] == 2) & (df2['Item Category'] == 'P001'))]\n",
    "\n",
    "mar = df2['Customer No.'].loc[((df2['month'] == 3) & (df2['Item Category'] == 'P001'))]\n",
    "\n",
    "apr = df2['Customer No.'].loc[((df2['month'] == 4) & (df2['Item Category'] == 'P001'))]\n",
    "\n",
    "may = df2['Customer No.'].loc[((df2['month'] == 5) & (df2['Item Category'] == 'P001'))]\n",
    "\n",
    "jun = df2['Customer No.'].loc[((df2['month'] == 6) & (df2['Item Category'] == 'P001'))]\n",
    "\n",
    "jul = df2['Customer No.'].loc[((df2['month'] == 7) & (df2['Item Category'] == 'P001'))]\n",
    "\n",
    "aug = df2['Customer No.'].loc[((df2['month'] == 8) & (df2['Item Category'] == 'P001'))]\n",
    "\n",
    "sep = df2['Customer No.'].loc[((df2['month'] == 9) & (df2['Item Category'] == 'P001'))]\n",
    "\n",
    "oct = df2['Customer No.'].loc[((df2['month'] == 10) & (df2['Item Category'] == 'P001'))]\n",
    "\n",
    "nov = df2['Customer No.'].loc[((df2['month'] == 11) & (df2['Item Category'] == 'P001'))]\n",
    "\n",
    "dec = df2['Customer No.'].loc[((df2['month'] == 12) & (df2['Item Category'] == 'P001'))]\n",
    "\n",
    "jan_p1 = len(jan)\n",
    "feb_p1 = len(feb)\n",
    "mar_p1 = len(mar)\n",
    "apr_p1 = len(apr)\n",
    "may_p1 = len(may)\n",
    "jun_p1 = len(jun)\n",
    "jul_p1 = len(jul)\n",
    "aug_p1 = len(aug)\n",
    "sep_p1 = len(sep)\n",
    "oct_p1 = len(oct)\n",
    "nov_p1 = len(nov)\n",
    "dec_p1 = len(dec)\n"
   ]
  },
  {
   "cell_type": "code",
   "execution_count": 122,
   "metadata": {},
   "outputs": [],
   "source": [
    "Summer_p1 = mar_p1+apr_p1+may_p1\n",
    "Post_Monsoon_p1 = oct_p1+nov_p1\n",
    "Rainy_p1 = jun_p1+jul_p1+aug_p1+sep_p1\n",
    "Winter_p1 = dec_p1+jan_p1+feb_p1\n"
   ]
  },
  {
   "cell_type": "code",
   "execution_count": 134,
   "metadata": {},
   "outputs": [
    {
     "data": {
      "image/png": "[encoded data removed]",
      "text/plain": [
       "<Figure size 720x360 with 1 Axes>"
      ]
     },
     "metadata": {
      "needs_background": "light"
     },
     "output_type": "display_data"
    }
   ],
   "source": [
    "x = {Summer_p1:'Summer',Post_Monsoon_p1:'Post_Monsoon',Rainy_p1:'Rainy',Winter_p1: 'Winter'}\n",
    "courses = list(x.values()) \n",
    "values = list(x.keys()) \n",
    "   \n",
    "fig = plt.figure(figsize = (10, 5)) \n",
    "  \n",
    "# creating the bar plot \n",
    "plt.bar(courses, values, color ='green',  \n",
    "        width = 0.4) \n",
    "  \n",
    "plt.xlabel(\"Season\") \n",
    "plt.ylabel(\"Item Category Count\")\n",
    "plt.title(\"Season- Item - P001\") \n",
    "plt.show()"
   ]
  },
  {
   "cell_type": "code",
   "execution_count": 66,
   "metadata": {},
   "outputs": [
    {
     "data": {
      "text/plain": [
       "P001    416185\n",
       "P002    299213\n",
       "P011    133132\n",
       "P010     67710\n",
       "G2TX     19996\n",
       "Name: Item Category, dtype: int64"
      ]
     },
     "execution_count": 66,
     "metadata": {},
     "output_type": "execute_result"
    }
   ],
   "source": [
    "df2['Item Category'].value_counts()"
   ]
  },
  {
   "cell_type": "code",
   "execution_count": 113,
   "metadata": {},
   "outputs": [],
   "source": [
    "jan = df2['Customer No.'].loc[((df2['month'] == 1) & (df2['Item Category'] == 'P002'))]\n",
    "\n",
    "feb = df2['Customer No.'].loc[((df2['month'] == 2) & (df2['Item Category'] == 'P002'))]\n",
    "\n",
    "mar = df2['Customer No.'].loc[((df2['month'] == 3) & (df2['Item Category'] == 'P002'))]\n",
    "\n",
    "apr = df2['Customer No.'].loc[((df2['month'] == 4) & (df2['Item Category'] == 'P002'))]\n",
    "\n",
    "may = df2['Customer No.'].loc[((df2['month'] == 5) & (df2['Item Category'] == 'P002'))]\n",
    "\n",
    "jun = df2['Customer No.'].loc[((df2['month'] == 6) & (df2['Item Category'] == 'P002'))]\n",
    "\n",
    "jul = df2['Customer No.'].loc[((df2['month'] == 7) & (df2['Item Category'] == 'P002'))]\n",
    "\n",
    "aug = df2['Customer No.'].loc[((df2['month'] == 8) & (df2['Item Category'] == 'P002'))]\n",
    "\n",
    "sep = df2['Customer No.'].loc[((df2['month'] == 9) & (df2['Item Category'] == 'P002'))]\n",
    "\n",
    "oct = df2['Customer No.'].loc[((df2['month'] == 10) & (df2['Item Category'] == 'P002'))]\n",
    "\n",
    "nov = df2['Customer No.'].loc[((df2['month'] == 11) & (df2['Item Category'] == 'P002'))]\n",
    "\n",
    "dec = df2['Customer No.'].loc[((df2['month'] == 12) & (df2['Item Category'] == 'P002'))]\n",
    "\n",
    "jan_p2 = len(jan)\n",
    "feb_p2 = len(feb)\n",
    "mar_p2 = len(mar)\n",
    "apr_p2 = len(apr)\n",
    "may_p2 = len(may)\n",
    "jun_p2 = len(jun)\n",
    "jul_p2 = len(jul)\n",
    "aug_p2 = len(aug)\n",
    "sep_p2 = len(sep)\n",
    "oct_p2 = len(oct)\n",
    "nov_p2 = len(nov)\n",
    "dec_p2 = len(dec)"
   ]
  },
  {
   "cell_type": "code",
   "execution_count": 115,
   "metadata": {},
   "outputs": [],
   "source": [
    "Summer_p2 = mar_p2+apr_p2+may_p2\n",
    "Post_Monsoon_p2 = oct_p2+nov_p2\n",
    "Rainy_p2= jun_p2+jul_p2+aug_p2+sep_p2\n",
    "Winter_p2 = dec_p2+jan_p2+feb_p2"
   ]
  },
  {
   "cell_type": "code",
   "execution_count": 146,
   "metadata": {},
   "outputs": [
    {
     "data": {
      "image/png": "[encoded data removed]",
      "text/plain": [
       "<Figure size 720x360 with 1 Axes>"
      ]
     },
     "metadata": {
      "needs_background": "light"
     },
     "output_type": "display_data"
    }
   ],
   "source": [
    "x = {Summer_p2:'Summer',Post_Monsoon_p2:'Post_Monsoon',Rainy_p2:'Rainy',Winter_p2: 'Winter'}\n",
    "courses = list(x.values()) \n",
    "values = list(x.keys()) \n",
    "   \n",
    "fig = plt.figure(figsize = (10, 5)) \n",
    "  \n",
    "# creating the bar plot \n",
    "plt.bar(courses, values, color ='lightcoral',  \n",
    "        width = 0.4) \n",
    "  \n",
    "plt.xlabel(\"Season\") \n",
    "plt.ylabel(\"Item Category Count\")\n",
    "plt.title(\"Season- Item - P002\")  \n",
    "plt.show()"
   ]
  },
  {
   "cell_type": "code",
   "execution_count": 116,
   "metadata": {},
   "outputs": [],
   "source": [
    "jan = df2['Customer No.'].loc[((df2['month'] == 1) & (df2['Item Category'] == 'P011'))]\n",
    "\n",
    "feb = df2['Customer No.'].loc[((df2['month'] == 2) & (df2['Item Category'] == 'P011'))]\n",
    "\n",
    "mar = df2['Customer No.'].loc[((df2['month'] == 3) & (df2['Item Category'] == 'P011'))]\n",
    "\n",
    "apr = df2['Customer No.'].loc[((df2['month'] == 4) & (df2['Item Category'] == 'P011'))]\n",
    "\n",
    "may = df2['Customer No.'].loc[((df2['month'] == 5) & (df2['Item Category'] == 'P011'))]\n",
    "\n",
    "jun = df2['Customer No.'].loc[((df2['month'] == 6) & (df2['Item Category'] == 'P011'))]\n",
    "\n",
    "jul = df2['Customer No.'].loc[((df2['month'] == 7) & (df2['Item Category'] == 'P011'))]\n",
    "\n",
    "aug = df2['Customer No.'].loc[((df2['month'] == 8) & (df2['Item Category'] == 'P011'))]\n",
    "\n",
    "sep = df2['Customer No.'].loc[((df2['month'] == 9) & (df2['Item Category'] == 'P011'))]\n",
    "\n",
    "oct = df2['Customer No.'].loc[((df2['month'] == 10) & (df2['Item Category'] == 'P011'))]\n",
    "\n",
    "nov = df2['Customer No.'].loc[((df2['month'] == 11) & (df2['Item Category'] == 'P011'))]\n",
    "\n",
    "dec = df2['Customer No.'].loc[((df2['month'] == 12) & (df2['Item Category'] == 'P011'))]\n",
    "\n",
    "jan_p11 = len(jan)\n",
    "feb_p11= len(feb)\n",
    "mar_p11 = len(mar)\n",
    "apr_p11 = len(apr)\n",
    "may_p11 = len(may)\n",
    "jun_p11 = len(jun)\n",
    "jul_p11 = len(jul)\n",
    "aug_p11 = len(aug)\n",
    "sep_p11 = len(sep)\n",
    "oct_p11 = len(oct)\n",
    "nov_p11 = len(nov)\n",
    "dec_p11 = len(dec)"
   ]
  },
  {
   "cell_type": "code",
   "execution_count": 118,
   "metadata": {},
   "outputs": [],
   "source": [
    "Summer_p11 = mar_p11+apr_p11+may_p11\n",
    "Post_Monsoon_p11 = oct_p11+nov_p11\n",
    "Rainy_p11= jun_p11+jul_p11+aug_p11+sep_p11\n",
    "Winter_p11 = dec_p11+jan_p11+feb_p11"
   ]
  },
  {
   "cell_type": "code",
   "execution_count": 145,
   "metadata": {},
   "outputs": [
    {
     "data": {
      "image/png": "[encoded data removed]",
      "text/plain": [
       "<Figure size 720x360 with 1 Axes>"
      ]
     },
     "metadata": {
      "needs_background": "light"
     },
     "output_type": "display_data"
    }
   ],
   "source": [
    "x = {Summer_p11:'Summer',Post_Monsoon_p11:'Post_Monsoon',Rainy_p11:'Rainy',Winter_p11: 'Winter'}\n",
    "courses = list(x.values()) \n",
    "values = list(x.keys()) \n",
    "   \n",
    "fig = plt.figure(figsize = (10, 5)) \n",
    "  \n",
    "# creating the bar plot \n",
    "plt.bar(courses, values, color ='khaki',  \n",
    "        width = 0.4) \n",
    "  \n",
    "plt.xlabel(\"Season\") \n",
    "plt.ylabel(\"Item Category Count\")\n",
    "plt.title(\"Season- Item - P011\")  \n",
    "plt.show()"
   ]
  },
  {
   "cell_type": "code",
   "execution_count": 112,
   "metadata": {},
   "outputs": [],
   "source": [
    "jan = df2['Customer No.'].loc[((df2['month'] == 1) & (df2['Item Category'] == 'P010'))]\n",
    "\n",
    "feb = df2['Customer No.'].loc[((df2['month'] == 2) & (df2['Item Category'] == 'P010'))]\n",
    "\n",
    "mar = df2['Customer No.'].loc[((df2['month'] == 3) & (df2['Item Category'] == 'P010'))]\n",
    "\n",
    "apr = df2['Customer No.'].loc[((df2['month'] == 4) & (df2['Item Category'] == 'P010'))]\n",
    "\n",
    "may = df2['Customer No.'].loc[((df2['month'] == 5) & (df2['Item Category'] == 'P010'))]\n",
    "\n",
    "jun = df2['Customer No.'].loc[((df2['month'] == 6) & (df2['Item Category'] == 'P010'))]\n",
    "\n",
    "jul = df2['Customer No.'].loc[((df2['month'] == 7) & (df2['Item Category'] == 'P010'))]\n",
    "\n",
    "aug = df2['Customer No.'].loc[((df2['month'] == 8) & (df2['Item Category'] == 'P010'))]\n",
    "\n",
    "sep = df2['Customer No.'].loc[((df2['month'] == 9) & (df2['Item Category'] == 'P010'))]\n",
    "\n",
    "oct = df2['Customer No.'].loc[((df2['month'] == 10) & (df2['Item Category'] == 'P010'))]\n",
    "\n",
    "nov = df2['Customer No.'].loc[((df2['month'] == 11) & (df2['Item Category'] == 'P010'))]\n",
    "\n",
    "dec = df2['Customer No.'].loc[((df2['month'] == 12) & (df2['Item Category'] == 'P010'))]\n",
    "\n",
    "jan_p10 = len(jan)\n",
    "feb_p10 = len(feb)\n",
    "mar_p10 = len(mar)\n",
    "apr_p10 = len(apr)\n",
    "may_p10 = len(may)\n",
    "jun_p10 = len(jun)\n",
    "jul_p10 = len(jul)\n",
    "aug_p10 = len(aug)\n",
    "sep_p10 = len(sep)\n",
    "oct_p10 = len(oct)\n",
    "nov_p10 = len(nov)\n",
    "dec_p10 = len(dec)\n"
   ]
  },
  {
   "cell_type": "code",
   "execution_count": 114,
   "metadata": {},
   "outputs": [],
   "source": [
    "Summer_p10 = mar_p10+apr_p1+may_p10\n",
    "Post_Monsoon_p10 = oct_p10+nov_p10\n",
    "Rainy_p10 = jun_p10+jul_p10+aug_p10+sep_p10\n",
    "Winter_p10 = dec_p10+jan_p10+feb_p10"
   ]
  },
  {
   "cell_type": "code",
   "execution_count": 144,
   "metadata": {},
   "outputs": [
    {
     "data": {
      "image/png": "[encoded data removed]",
      "text/plain": [
       "<Figure size 720x360 with 1 Axes>"
      ]
     },
     "metadata": {
      "needs_background": "light"
     },
     "output_type": "display_data"
    }
   ],
   "source": [
    "x = {Summer_p10:'Summer',Post_Monsoon_p10:'Post_Monsoon',Rainy_p10:'Rainy',Winter_p10: 'Winter'}\n",
    "courses = list(x.values()) \n",
    "values = list(x.keys()) \n",
    "   \n",
    "fig = plt.figure(figsize = (10, 5)) \n",
    "  \n",
    "# creating the bar plot \n",
    "plt.bar(courses, values, color ='palegreen',  \n",
    "        width = 0.4) \n",
    "  \n",
    "plt.xlabel(\"Season\") \n",
    "plt.ylabel(\"Item Category Count\")\n",
    "plt.title(\"Season- Item - P010\")  \n",
    "plt.show()"
   ]
  },
  {
   "cell_type": "code",
   "execution_count": 119,
   "metadata": {},
   "outputs": [],
   "source": [
    "jan = df2['Customer No.'].loc[((df2['month'] == 1) & (df2['Item Category'] == 'G2TX'))]\n",
    "\n",
    "feb = df2['Customer No.'].loc[((df2['month'] == 2) & (df2['Item Category'] == 'G2TX'))]\n",
    "\n",
    "mar = df2['Customer No.'].loc[((df2['month'] == 3) & (df2['Item Category'] == 'G2TX'))]\n",
    "\n",
    "apr = df2['Customer No.'].loc[((df2['month'] == 4) & (df2['Item Category'] == 'G2TX'))]\n",
    "\n",
    "may = df2['Customer No.'].loc[((df2['month'] == 5) & (df2['Item Category'] == 'G2TX'))]\n",
    "\n",
    "jun = df2['Customer No.'].loc[((df2['month'] == 6) & (df2['Item Category'] == 'G2TX'))]\n",
    "\n",
    "jul = df2['Customer No.'].loc[((df2['month'] == 7) & (df2['Item Category'] == 'G2TX'))]\n",
    "\n",
    "aug = df2['Customer No.'].loc[((df2['month'] == 8) & (df2['Item Category'] == 'G2TX'))]\n",
    "\n",
    "sep = df2['Customer No.'].loc[((df2['month'] == 9) & (df2['Item Category'] == 'G2TX'))]\n",
    "\n",
    "oct = df2['Customer No.'].loc[((df2['month'] == 10) & (df2['Item Category'] == 'G2TX'))]\n",
    "\n",
    "nov = df2['Customer No.'].loc[((df2['month'] == 11) & (df2['Item Category'] == 'G2TX'))]\n",
    "\n",
    "dec = df2['Customer No.'].loc[((df2['month'] == 12) & (df2['Item Category'] == 'G2TX'))]\n",
    "\n",
    "jan_G2 = len(jan)\n",
    "feb_G2 = len(feb)\n",
    "mar_G2 = len(mar)\n",
    "apr_G2 = len(apr)\n",
    "may_G2 = len(may)\n",
    "jun_G2 = len(jun)\n",
    "jul_G2 = len(jul)\n",
    "aug_G2 = len(aug)\n",
    "sep_G2 = len(sep)\n",
    "oct_G2 = len(oct)\n",
    "nov_G2 = len(nov)\n",
    "dec_G2 = len(dec)\n"
   ]
  },
  {
   "cell_type": "code",
   "execution_count": 129,
   "metadata": {},
   "outputs": [],
   "source": [
    "Summer_G2 = mar_G2+apr_G2+may_G2\n",
    "Post_Monsoon_G2 = oct_G2+nov_G2\n",
    "Rainy_G2= jun_G2+jul_G2+aug_G2+sep_G2\n",
    "Winter_G2 = dec_G2+jan_G2+feb_G2\n"
   ]
  },
  {
   "cell_type": "code",
   "execution_count": 143,
   "metadata": {},
   "outputs": [
    {
     "data": {
      "image/png": "[encoded data removed]",
      "text/plain": [
       "<Figure size 720x360 with 1 Axes>"
      ]
     },
     "metadata": {
      "needs_background": "light"
     },
     "output_type": "display_data"
    }
   ],
   "source": [
    "x = {Summer_G2:'Summer',Post_Monsoon_G2:'Post_Monsoon',Rainy_G2:'Rainy',Winter_G2: 'Winter'}\n",
    "courses = list(x.values()) \n",
    "values = list(x.keys()) \n",
    "\n",
    "fig = plt.figure(figsize = (10, 5)) \n",
    "  \n",
    "# creating the bar plot \n",
    "plt.bar(courses, values, color ='dodgerblue',  \n",
    "        width = 0.4) \n",
    "  \n",
    "plt.xlabel(\"Season\") \n",
    "plt.ylabel(\"Item Category Count\")\n",
    "plt.title(\"Season- Item - G2TX\")  \n",
    "plt.show()"
   ]
  },
  {
   "cell_type": "code",
   "execution_count": 6,
   "metadata": {},
   "outputs": [],
   "source": [
    "df2.to_csv('New_for_tableau.csv')"
   ]
  },
  {
   "cell_type": "code",
   "execution_count": 20,
   "metadata": {},
   "outputs": [
    {
     "data": {
      "text/plain": [
       "SWIFT           60128\n",
       "ALTO            55536\n",
       "SANTRO          50740\n",
       "SCORPIO CRDE    48565\n",
       "WAGONR          45330\n",
       "I10             44180\n",
       "INDICA          36506\n",
       "BOLERO          31520\n",
       "SWIFT DZIRE     29873\n",
       "XYLO            27256\n",
       "Name: Model, dtype: int64"
      ]
     },
     "execution_count": 20,
     "metadata": {},
     "output_type": "execute_result"
    }
   ],
   "source": [
    "df2['Model'].value_counts()[:10]"
   ]
  },
  {
   "cell_type": "code",
   "execution_count": 7,
   "metadata": {},
   "outputs": [],
   "source": [
    "bx = df2['Clean_District'].loc[df2['Model'] == 'SWIFT']\n",
    "bx1 = df2['Clean_District'].loc[df2['Model'] == 'ALTO']\n",
    "bx2 = df2['Clean_District'].loc[df2['Model'] == 'SANTRO']\n",
    "bx3 = df2['Clean_District'].loc[df2['Model'] == 'SCORPIO CRDE']\n",
    "bx4 = df2['Clean_District'].loc[df2['Model'] == 'WAGONR']\n",
    "# bx5 = df2['Clean_District'].loc[df2['Model'] == 'I10']\n",
    "# bx6 = df2['Clean_District'].loc[df2['Model'] == 'INDICA']\n",
    "# bx7 = df2['Clean_District'].loc[df2['Model'] == 'BOLERO']\n",
    "# bx8 = df2['Clean_District'].loc[df2['Model'] == 'SWIFT DZIRE']\n",
    "# bx9 = df2['Clean_District'].loc[df2['Model'] == 'XYLO']\n"
   ]
  },
  {
   "cell_type": "code",
   "execution_count": 8,
   "metadata": {},
   "outputs": [
    {
     "data": {
      "text/plain": [
       "Maharashtra    15637\n",
       "Tamil Nadu      9738\n",
       "Karnataka       4901\n",
       "Telangana       4060\n",
       "Punjab          3542\n",
       "Name: Clean_District, dtype: int64"
      ]
     },
     "execution_count": 8,
     "metadata": {},
     "output_type": "execute_result"
    }
   ],
   "source": [
    "zx = bx.value_counts()[:5]\n",
    "zx"
   ]
  },
  {
   "cell_type": "code",
   "execution_count": 9,
   "metadata": {},
   "outputs": [
    {
     "data": {
      "image/png": "[encoded data removed]",
      "text/plain": [
       "<Figure size 720x360 with 1 Axes>"
      ]
     },
     "metadata": {
      "needs_background": "light"
     },
     "output_type": "display_data"
    }
   ],
   "source": [
    "x = {15637:'Maharashtra',9738:'Tamil Nadu',4901:'Karnataka',4060: 'Telangana',3542: 'Punjab'}\n",
    "courses = list(x.values()) \n",
    "values = list(x.keys()) \n",
    "\n",
    "fig = plt.figure(figsize = (10, 5)) \n",
    "colors = ['orange', 'aqua', 'lightgreen', 'grey','palegreen'] \n",
    "# creating the bar plot \n",
    "plt.bar(courses, values, color =colors,  \n",
    "        width = 0.4) \n",
    "\n",
    "plt.xlabel(\"States\") \n",
    "plt.ylabel(\"Car Count\")\n",
    "plt.title(\"Swift Distribution in States\")  \n",
    "plt.show()"
   ]
  },
  {
   "cell_type": "code",
   "execution_count": 30,
   "metadata": {},
   "outputs": [
    {
     "data": {
      "text/plain": [
       "Maharashtra      12824\n",
       "Tamil Nadu        7935\n",
       "Telangana         5248\n",
       "Uttar Pradesh     4945\n",
       "Karnataka         3277\n",
       "Name: Clean_District, dtype: int64"
      ]
     },
     "execution_count": 30,
     "metadata": {},
     "output_type": "execute_result"
    }
   ],
   "source": [
    "zx = bx1.value_counts()[:5]\n",
    "zx"
   ]
  },
  {
   "cell_type": "code",
   "execution_count": 10,
   "metadata": {},
   "outputs": [
    {
     "data": {
      "image/png": "[encoded data removed]",
      "text/plain": [
       "<Figure size 720x360 with 1 Axes>"
      ]
     },
     "metadata": {
      "needs_background": "light"
     },
     "output_type": "display_data"
    }
   ],
   "source": [
    "x = {12824:'Maharashtra',7935:'Tamil Nadu',5248:'Telangana',4945: 'Uttar Pradesh',3277: 'Karnataka'}\n",
    "courses = list(x.values()) \n",
    "values = list(x.keys()) \n",
    "\n",
    "fig = plt.figure(figsize = (10, 5)) \n",
    "colors = ['orange', 'aqua', 'lightgreen', 'grey','palegreen'] \n",
    "# creating the bar plot \n",
    "plt.bar(courses, values, color =colors,  \n",
    "        width = 0.4) \n",
    "\n",
    "plt.xlabel(\"States\") \n",
    "plt.ylabel(\"Car Count\")\n",
    "plt.title(\"ALTO Distribution in States\")  \n",
    "plt.show()"
   ]
  },
  {
   "cell_type": "code",
   "execution_count": 32,
   "metadata": {},
   "outputs": [
    {
     "data": {
      "text/plain": [
       "Maharashtra      12577\n",
       "Tamil Nadu       11754\n",
       "Uttar Pradesh     4721\n",
       "Telangana         4089\n",
       "Karnataka         3011\n",
       "Name: Clean_District, dtype: int64"
      ]
     },
     "execution_count": 32,
     "metadata": {},
     "output_type": "execute_result"
    }
   ],
   "source": [
    "zx = bx2.value_counts()[:5]\n",
    "zx"
   ]
  },
  {
   "cell_type": "code",
   "execution_count": 11,
   "metadata": {},
   "outputs": [
    {
     "data": {
      "image/png": "[encoded data removed]",
      "text/plain": [
       "<Figure size 720x360 with 1 Axes>"
      ]
     },
     "metadata": {
      "needs_background": "light"
     },
     "output_type": "display_data"
    }
   ],
   "source": [
    "x = {12577:'Maharashtra',11754:'Tamil Nadu', 4721:'Uttar Pradesh',4089: 'Telangana',3011: 'Karnataka'}\n",
    "courses = list(x.values()) \n",
    "values = list(x.keys()) \n",
    "\n",
    "fig = plt.figure(figsize = (10, 5)) \n",
    "colors = ['orange', 'aqua', 'lightgreen', 'grey','palegreen'] \n",
    "# creating the bar plot \n",
    "plt.bar(courses, values, color =colors,  \n",
    "        width = 0.4) \n",
    "\n",
    "plt.xlabel(\"States\") \n",
    "plt.ylabel(\"Car Count\")\n",
    "plt.title(\"SANTRO Distribution in States\")  \n",
    "plt.show()"
   ]
  },
  {
   "cell_type": "code",
   "execution_count": 38,
   "metadata": {},
   "outputs": [
    {
     "data": {
      "text/plain": [
       "Maharashtra      13318\n",
       "Tamil Nadu       11752\n",
       "Uttar Pradesh     4348\n",
       "Karnataka         3029\n",
       "Telangana         2293\n",
       "Name: Clean_District, dtype: int64"
      ]
     },
     "execution_count": 38,
     "metadata": {},
     "output_type": "execute_result"
    }
   ],
   "source": [
    "zx = bx3.value_counts()[:5]\n",
    "zx"
   ]
  },
  {
   "cell_type": "code",
   "execution_count": 12,
   "metadata": {},
   "outputs": [
    {
     "data": {
      "image/png": "[encoded data removed]",
      "text/plain": [
       "<Figure size 720x360 with 1 Axes>"
      ]
     },
     "metadata": {
      "needs_background": "light"
     },
     "output_type": "display_data"
    }
   ],
   "source": [
    "x = {13318:'Maharashtra',11752:'Tamil Nadu', 4348:'Uttar Pradesh',3029: 'Karnataka',2293: 'Telangana'}\n",
    "courses = list(x.values()) \n",
    "values = list(x.keys()) \n",
    "\n",
    "fig = plt.figure(figsize = (10, 5)) \n",
    "colors = ['orange', 'aqua', 'lightgreen', 'grey','palegreen'] \n",
    "# creating the bar plot \n",
    "plt.bar(courses, values, color =colors,  \n",
    "        width = 0.4) \n",
    "\n",
    "plt.xlabel(\"States\") \n",
    "plt.ylabel(\"Car Count\")\n",
    "plt.title(\"SCORPIO CRDE Distribution in States\")  \n",
    "plt.show()"
   ]
  },
  {
   "cell_type": "code",
   "execution_count": 40,
   "metadata": {},
   "outputs": [
    {
     "data": {
      "text/plain": [
       "Maharashtra      14641\n",
       "Uttar Pradesh     5717\n",
       "Tamil Nadu        4362\n",
       "Gujarat           3173\n",
       "Telangana         2962\n",
       "Name: Clean_District, dtype: int64"
      ]
     },
     "execution_count": 40,
     "metadata": {},
     "output_type": "execute_result"
    }
   ],
   "source": [
    "zx = bx4.value_counts()[:5]\n",
    "zx"
   ]
  },
  {
   "cell_type": "code",
   "execution_count": 13,
   "metadata": {},
   "outputs": [
    {
     "data": {
      "image/png": "[encoded data removed]",
      "text/plain": [
       "<Figure size 720x360 with 1 Axes>"
      ]
     },
     "metadata": {
      "needs_background": "light"
     },
     "output_type": "display_data"
    }
   ],
   "source": [
    "x = {14641:'Maharashtra', 5717:'Uttar Pradesh',4362:'Tamil Nadu',3173: 'Gujarat',2962: 'Telangana'}\n",
    "courses = list(x.values()) \n",
    "values = list(x.keys()) \n",
    "\n",
    "fig = plt.figure(figsize = (10, 5)) \n",
    "colors = ['orange', 'aqua', 'lightgreen', 'grey','palegreen'] \n",
    "# creating the bar plot \n",
    "plt.bar(courses, values, color =colors,  \n",
    "        width = 0.4) \n",
    "\n",
    "plt.xlabel(\"States\") \n",
    "plt.ylabel(\"Car Count\")\n",
    "plt.title(\"WAGONR Distribution in States\")  \n",
    "plt.show()"
   ]
  },
  {
   "cell_type": "code",
   "execution_count": 14,
   "metadata": {},
   "outputs": [
    {
     "data": {
      "text/plain": [
       "RJ14CE9887    56\n",
       "HR51AV2841    53\n",
       "MH04DN6210    52\n",
       "PB29P0009     51\n",
       "PB29M4006     49\n",
       "MH15DC9103    43\n",
       "PB29L0244     41\n",
       "MH02CW4881    38\n",
       "PB29P3344     38\n",
       "PB10DU4839    38\n",
       "MH31CM9800    37\n",
       "PB29C0919     36\n",
       "PB28E0031     36\n",
       "TN07BF0680    34\n",
       "PB29R9990     33\n",
       "Name: Regn No, dtype: int64"
      ]
     },
     "execution_count": 14,
     "metadata": {},
     "output_type": "execute_result"
    }
   ],
   "source": [
    "df2['Regn No'].value_counts()[:15]"
   ]
  },
  {
   "cell_type": "code",
   "execution_count": 13,
   "metadata": {},
   "outputs": [
    {
     "data": {
      "text/plain": [
       "Index(['No', 'Cust Type', 'Customer No.', 'Gate Pass Time', 'Invoice No',\n",
       "       'Job Card No', 'KMs Reading', 'Labour Total', 'Make', 'Misc Total',\n",
       "       'Model', 'OSL Total', 'Order Type', 'Parts Total', 'Pin code', 'Plant',\n",
       "       'Plant Name1', 'Print Status', 'Recovrbl Exp', 'Total Amt Wtd Tax.',\n",
       "       'User ID', 'Invoice_DateTime', 'JobCard_DateTime', 'Service_Time',\n",
       "       'Clean_CITY', 'Clean_District', 'Clean_Location_Area',\n",
       "       'Business Partner', 'Partner Type', 'Data Origin', 'DBM Order',\n",
       "       'Item Category', 'Net value', 'Order Quantity', 'Regn No'],\n",
       "      dtype='object')"
      ]
     },
     "execution_count": 13,
     "metadata": {},
     "output_type": "execute_result"
    }
   ],
   "source": [
    "df2.columns"
   ]
  },
  {
   "cell_type": "code",
   "execution_count": null,
   "metadata": {},
   "outputs": [],
   "source": [
    "# super fast service (less than 0.50 quantile)\n",
    "New = new_df[new_df['KMs Reading']< new_df['KMs Reading'].quantile(0.1)]\n",
    "\n",
    "# fast service (between 0.50 to 0.75 quantile)\n",
    "New_Mid = new_df[\n",
    "                (new_df['KMs Reading']> new_df['KMs Reading'].quantile(0.1)) & \n",
    "                (new_df['KMs Reading']< new_df['KMs Reading'].quantile(0.2))\n",
    "                ]\n",
    "\n",
    "# slow service (between 0.75 to 0.95 quantile)\n",
    "Mid_Old = new_df[\n",
    "                (new_df['KMs Reading'] > new_df['KMs Reading'].quantile(0.2)) & \n",
    "                (new_df['KMs Reading'] < new_df['KMs Reading'].quantile(0.5))\n",
    "                ]\n",
    "\n",
    "# super fast service (more than 0.95 quantile)\n",
    "Old = new_df[new_df['KMs Reading'] > new_df['KMs Reading'].quantile(0.5)]"
   ]
  },
  {
   "cell_type": "code",
   "execution_count": 28,
   "metadata": {},
   "outputs": [
    {
     "data": {
      "text/plain": [
       "Retail              99.220208\n",
       "Fleets               0.513631\n",
       "Corporate others     0.134042\n",
       "Corporate- M&M       0.072415\n",
       "MFCWL                0.056821\n",
       "Franchise            0.002563\n",
       "Insurance            0.000320\n",
       "Name: Cust Type, dtype: float64"
      ]
     },
     "execution_count": 28,
     "metadata": {},
     "output_type": "execute_result"
    }
   ],
   "source": [
    "ax = df2['Cust Type'].value_counts()/len(df2['Cust Type'])*100\n",
    "ax"
   ]
  },
  {
   "cell_type": "code",
   "execution_count": null,
   "metadata": {},
   "outputs": [],
   "source": [
    "ax = df2['Cust Type'].value_counts()[1:6]"
   ]
  },
  {
   "cell_type": "code",
   "execution_count": 22,
   "metadata": {},
   "outputs": [
    {
     "data": {
      "text/plain": [
       "<matplotlib.axes._subplots.AxesSubplot at 0x11b02313388>"
      ]
     },
     "execution_count": 22,
     "metadata": {},
     "output_type": "execute_result"
    },
    {
     "data": {
      "image/png": "[encoded data removed]",
      "text/plain": [
       "<Figure size 432x288 with 1 Axes>"
      ]
     },
     "metadata": {},
     "output_type": "display_data"
    }
   ],
   "source": [
    "ax.plot(kind = 'pie')"
   ]
  },
  {
   "cell_type": "code",
   "execution_count": 21,
   "metadata": {},
   "outputs": [
    {
     "data": {
      "text/plain": [
       "<matplotlib.axes._subplots.AxesSubplot at 0x19400aceec8>"
      ]
     },
     "execution_count": 21,
     "metadata": {},
     "output_type": "execute_result"
    },
    {
     "data": {
      "image/png": "[encoded data removed]",
      "text/plain": [
       "<Figure size 432x288 with 1 Axes>"
      ]
     },
     "metadata": {
      "needs_background": "light"
     },
     "output_type": "display_data"
    }
   ],
   "source": [
    "#Top 5 customers and their expenditure pattern according to Registration Number\n",
    "ax = df2['Total Amt Wtd Tax.'].loc[df2['Regn No'].value_counts()[:10]]\n",
    "ax.plot(kind = 'bar')"
   ]
  },
  {
   "cell_type": "code",
   "execution_count": 67,
   "metadata": {},
   "outputs": [
    {
     "data": {
      "text/html": [
       "<div>\n",
       "<style scoped>\n",
       "    .dataframe tbody tr th:only-of-type {\n",
       "        vertical-align: middle;\n",
       "    }\n",
       "\n",
       "    .dataframe tbody tr th {\n",
       "        vertical-align: top;\n",
       "    }\n",
       "\n",
       "    .dataframe thead th {\n",
       "        text-align: right;\n",
       "    }\n",
       "</style>\n",
       "<table border=\"1\" class=\"dataframe\">\n",
       "  <thead>\n",
       "    <tr style=\"text-align: right;\">\n",
       "      <th></th>\n",
       "      <th>No</th>\n",
       "      <th>Cust Type</th>\n",
       "      <th>Customer No.</th>\n",
       "      <th>Gate Pass Time</th>\n",
       "      <th>Invoice No</th>\n",
       "      <th>Job Card No</th>\n",
       "      <th>KMs Reading</th>\n",
       "      <th>Labour Total</th>\n",
       "      <th>Make</th>\n",
       "      <th>Misc Total</th>\n",
       "      <th>...</th>\n",
       "      <th>Business Partner</th>\n",
       "      <th>Partner Type</th>\n",
       "      <th>Data Origin</th>\n",
       "      <th>DBM Order</th>\n",
       "      <th>Item Category</th>\n",
       "      <th>Net value</th>\n",
       "      <th>Order Quantity</th>\n",
       "      <th>Regn No</th>\n",
       "      <th>year</th>\n",
       "      <th>month</th>\n",
       "    </tr>\n",
       "  </thead>\n",
       "  <tbody>\n",
       "    <tr>\n",
       "      <td>599104</td>\n",
       "      <td>599104</td>\n",
       "      <td>Retail</td>\n",
       "      <td>119371</td>\n",
       "      <td>15:41:33</td>\n",
       "      <td>7005202789</td>\n",
       "      <td>300412</td>\n",
       "      <td>35654</td>\n",
       "      <td>1125.76</td>\n",
       "      <td>MARUTI SUZUKI</td>\n",
       "      <td>291.45</td>\n",
       "      <td>...</td>\n",
       "      <td>NaN</td>\n",
       "      <td>NaN</td>\n",
       "      <td>NaN</td>\n",
       "      <td>300412.0</td>\n",
       "      <td>P001</td>\n",
       "      <td>1125.76</td>\n",
       "      <td>2.0</td>\n",
       "      <td>NaN</td>\n",
       "      <td>2016</td>\n",
       "      <td>2</td>\n",
       "    </tr>\n",
       "    <tr>\n",
       "      <td>599105</td>\n",
       "      <td>599105</td>\n",
       "      <td>Retail</td>\n",
       "      <td>119371</td>\n",
       "      <td>15:41:33</td>\n",
       "      <td>7005202789</td>\n",
       "      <td>300412</td>\n",
       "      <td>35654</td>\n",
       "      <td>1125.76</td>\n",
       "      <td>MARUTI SUZUKI</td>\n",
       "      <td>291.45</td>\n",
       "      <td>...</td>\n",
       "      <td>NaN</td>\n",
       "      <td>NaN</td>\n",
       "      <td>NaN</td>\n",
       "      <td>300412.0</td>\n",
       "      <td>P002</td>\n",
       "      <td>2082.07</td>\n",
       "      <td>10.0</td>\n",
       "      <td>NaN</td>\n",
       "      <td>2016</td>\n",
       "      <td>2</td>\n",
       "    </tr>\n",
       "    <tr>\n",
       "      <td>599106</td>\n",
       "      <td>599106</td>\n",
       "      <td>Retail</td>\n",
       "      <td>119371</td>\n",
       "      <td>15:41:33</td>\n",
       "      <td>7005202789</td>\n",
       "      <td>300412</td>\n",
       "      <td>35654</td>\n",
       "      <td>1125.76</td>\n",
       "      <td>MARUTI SUZUKI</td>\n",
       "      <td>291.45</td>\n",
       "      <td>...</td>\n",
       "      <td>NaN</td>\n",
       "      <td>NaN</td>\n",
       "      <td>NaN</td>\n",
       "      <td>300412.0</td>\n",
       "      <td>P011</td>\n",
       "      <td>291.45</td>\n",
       "      <td>1.0</td>\n",
       "      <td>NaN</td>\n",
       "      <td>2016</td>\n",
       "      <td>2</td>\n",
       "    </tr>\n",
       "    <tr>\n",
       "      <td>599107</td>\n",
       "      <td>599107</td>\n",
       "      <td>Retail</td>\n",
       "      <td>128929</td>\n",
       "      <td>13:05:33</td>\n",
       "      <td>7005202790</td>\n",
       "      <td>300447</td>\n",
       "      <td>70730</td>\n",
       "      <td>233.85</td>\n",
       "      <td>MARUTI SUZUKI</td>\n",
       "      <td>0.00</td>\n",
       "      <td>...</td>\n",
       "      <td>NaN</td>\n",
       "      <td>NaN</td>\n",
       "      <td>NaN</td>\n",
       "      <td>300447.0</td>\n",
       "      <td>P001</td>\n",
       "      <td>233.85</td>\n",
       "      <td>36.0</td>\n",
       "      <td>NaN</td>\n",
       "      <td>2016</td>\n",
       "      <td>2</td>\n",
       "    </tr>\n",
       "    <tr>\n",
       "      <td>599108</td>\n",
       "      <td>599108</td>\n",
       "      <td>Retail</td>\n",
       "      <td>128929</td>\n",
       "      <td>13:05:33</td>\n",
       "      <td>7005202790</td>\n",
       "      <td>300447</td>\n",
       "      <td>70730</td>\n",
       "      <td>233.85</td>\n",
       "      <td>MARUTI SUZUKI</td>\n",
       "      <td>0.00</td>\n",
       "      <td>...</td>\n",
       "      <td>NaN</td>\n",
       "      <td>NaN</td>\n",
       "      <td>NaN</td>\n",
       "      <td>300447.0</td>\n",
       "      <td>P002</td>\n",
       "      <td>195.44</td>\n",
       "      <td>1.0</td>\n",
       "      <td>NaN</td>\n",
       "      <td>2016</td>\n",
       "      <td>2</td>\n",
       "    </tr>\n",
       "  </tbody>\n",
       "</table>\n",
       "<p>5 rows × 37 columns</p>\n",
       "</div>"
      ],
      "text/plain": [
       "            No Cust Type Customer No. Gate Pass Time  Invoice No  Job Card No  \\\n",
       "599104  599104    Retail       119371       15:41:33  7005202789       300412   \n",
       "599105  599105    Retail       119371       15:41:33  7005202789       300412   \n",
       "599106  599106    Retail       119371       15:41:33  7005202789       300412   \n",
       "599107  599107    Retail       128929       13:05:33  7005202790       300447   \n",
       "599108  599108    Retail       128929       13:05:33  7005202790       300447   \n",
       "\n",
       "        KMs Reading  Labour Total           Make  Misc Total  ...  \\\n",
       "599104        35654       1125.76  MARUTI SUZUKI      291.45  ...   \n",
       "599105        35654       1125.76  MARUTI SUZUKI      291.45  ...   \n",
       "599106        35654       1125.76  MARUTI SUZUKI      291.45  ...   \n",
       "599107        70730        233.85  MARUTI SUZUKI        0.00  ...   \n",
       "599108        70730        233.85  MARUTI SUZUKI        0.00  ...   \n",
       "\n",
       "       Business Partner  Partner Type Data Origin  DBM Order  Item Category  \\\n",
       "599104              NaN           NaN         NaN   300412.0           P001   \n",
       "599105              NaN           NaN         NaN   300412.0           P002   \n",
       "599106              NaN           NaN         NaN   300412.0           P011   \n",
       "599107              NaN           NaN         NaN   300447.0           P001   \n",
       "599108              NaN           NaN         NaN   300447.0           P002   \n",
       "\n",
       "       Net value Order Quantity Regn No  year  month  \n",
       "599104   1125.76            2.0     NaN  2016      2  \n",
       "599105   2082.07           10.0     NaN  2016      2  \n",
       "599106    291.45            1.0     NaN  2016      2  \n",
       "599107    233.85           36.0     NaN  2016      2  \n",
       "599108    195.44            1.0     NaN  2016      2  \n",
       "\n",
       "[5 rows x 37 columns]"
      ]
     },
     "execution_count": 67,
     "metadata": {},
     "output_type": "execute_result"
    }
   ],
   "source": [
    "df2.head()"
   ]
  },
  {
   "cell_type": "code",
   "execution_count": 72,
   "metadata": {},
   "outputs": [
    {
     "data": {
      "text/plain": [
       "221957     412\n",
       "MFCCM03    345\n",
       "148721     225\n",
       "412        178\n",
       "115095     124\n",
       "          ... \n",
       "160125       1\n",
       "224811       1\n",
       "114553       1\n",
       "220762       1\n",
       "248165       1\n",
       "Name: Customer No., Length: 131243, dtype: int64"
      ]
     },
     "execution_count": 72,
     "metadata": {},
     "output_type": "execute_result"
    }
   ],
   "source": [
    "df2['Customer No.'].value_counts()"
   ]
  },
  {
   "cell_type": "code",
   "execution_count": 6,
   "metadata": {},
   "outputs": [
    {
     "data": {
      "text/plain": [
       "Index(['No', 'Cust Type', 'Customer No.', 'Gate Pass Time', 'Invoice No',\n",
       "       'Job Card No', 'KMs Reading', 'Labour Total', 'Make', 'Misc Total',\n",
       "       'Model', 'OSL Total', 'Order Type', 'Parts Total', 'Pin code', 'Plant',\n",
       "       'Plant Name1', 'Print Status', 'Recovrbl Exp', 'Total Amt Wtd Tax.',\n",
       "       'User ID', 'Invoice_DateTime', 'JobCard_DateTime', 'Service_Time',\n",
       "       'Clean_CITY', 'Clean_District', 'Clean_Location_Area',\n",
       "       'Business Partner', 'Partner Type', 'Data Origin', 'DBM Order',\n",
       "       'Item Category', 'Net value', 'Order Quantity', 'Regn No', 'year',\n",
       "       'month'],\n",
       "      dtype='object')"
      ]
     },
     "execution_count": 6,
     "metadata": {},
     "output_type": "execute_result"
    }
   ],
   "source": [
    "df2.columns"
   ]
  },
  {
   "cell_type": "code",
   "execution_count": 7,
   "metadata": {},
   "outputs": [],
   "source": [
    "non_zero = df2\n",
    "# Low revenue customers (less than 0.50 quantile)\n",
    "low_revenue = non_zero[(non_zero['Total Amt Wtd Tax.']< non_zero['Total Amt Wtd Tax.'].quantile(0.50))]\n",
    "\n",
    "# Medium revenue customers (between 0.50 to 0.75 quantile)\n",
    "medium_revenue = non_zero[\n",
    "                            (non_zero['Total Amt Wtd Tax.'] > non_zero['Total Amt Wtd Tax.'].quantile(0.50)) & \n",
    "                            (non_zero['Total Amt Wtd Tax.']< non_zero['Total Amt Wtd Tax.'].quantile(0.75))\n",
    "                         ]\n",
    "\n",
    "# Average revenue customers (between 0.75 to 0.95 quantile)\n",
    "avg_revenue = non_zero[\n",
    "                        (non_zero['Total Amt Wtd Tax.'] > non_zero['Total Amt Wtd Tax.'].quantile(0.75)) & \n",
    "                        (non_zero['Total Amt Wtd Tax.'] < non_zero['Total Amt Wtd Tax.'].quantile(0.95))\n",
    "                      ]\n",
    "\n",
    "# High revenue customers (moe than 0.95 quantile)\n",
    "high_revenue = non_zero[\n",
    "                        (non_zero['Total Amt Wtd Tax.'] > non_zero['Total Amt Wtd Tax.'].quantile(0.95))\n",
    "                       ]"
   ]
  },
  {
   "cell_type": "code",
   "execution_count": 8,
   "metadata": {},
   "outputs": [
    {
     "data": {
      "text/plain": [
       "(468133, 187254, 46813)"
      ]
     },
     "execution_count": 8,
     "metadata": {},
     "output_type": "execute_result"
    }
   ],
   "source": [
    "len(low_revenue),len(avg_revenue),len(high_revenue)"
   ]
  },
  {
   "cell_type": "code",
   "execution_count": 9,
   "metadata": {},
   "outputs": [
    {
     "data": {
      "text/plain": [
       "115228"
      ]
     },
     "execution_count": 9,
     "metadata": {},
     "output_type": "execute_result"
    }
   ],
   "source": [
    "bx = low_revenue['Customer No.'].loc[low_revenue['Clean_District'] == 'Maharashtra']\n",
    "len(bx)"
   ]
  },
  {
   "cell_type": "code",
   "execution_count": 10,
   "metadata": {},
   "outputs": [
    {
     "data": {
      "text/plain": [
       "92145"
      ]
     },
     "execution_count": 10,
     "metadata": {},
     "output_type": "execute_result"
    }
   ],
   "source": [
    "bx = low_revenue['Customer No.'].loc[low_revenue['Clean_District'] == 'Tamil Nadu']\n",
    "len(bx)"
   ]
  },
  {
   "cell_type": "code",
   "execution_count": 11,
   "metadata": {},
   "outputs": [
    {
     "data": {
      "text/plain": [
       "6795"
      ]
     },
     "execution_count": 11,
     "metadata": {},
     "output_type": "execute_result"
    }
   ],
   "source": [
    "bx = low_revenue['Customer No.'].loc[(low_revenue['Clean_District'] == 'Maharashtra')&(low_revenue['year'] == 2012)]\n",
    "len(bx)"
   ]
  },
  {
   "cell_type": "code",
   "execution_count": 12,
   "metadata": {},
   "outputs": [
    {
     "data": {
      "text/plain": [
       "2646"
      ]
     },
     "execution_count": 12,
     "metadata": {},
     "output_type": "execute_result"
    }
   ],
   "source": [
    "bx = high_revenue['Customer No.'].loc[(high_revenue['Clean_District'] == 'Maharashtra')&(high_revenue['year'] == 2015)]\n",
    "len(bx)"
   ]
  },
  {
   "cell_type": "code",
   "execution_count": 13,
   "metadata": {},
   "outputs": [],
   "source": [
    "low_revenue['Customer_Value'] = 0"
   ]
  },
  {
   "cell_type": "code",
   "execution_count": 14,
   "metadata": {},
   "outputs": [],
   "source": [
    "medium_revenue['Customer_Value'] = 1"
   ]
  },
  {
   "cell_type": "code",
   "execution_count": 15,
   "metadata": {},
   "outputs": [],
   "source": [
    "avg_revenue['Customer_Value'] = 2"
   ]
  },
  {
   "cell_type": "code",
   "execution_count": 16,
   "metadata": {},
   "outputs": [],
   "source": [
    "high_revenue['Customer_Value'] = 3"
   ]
  },
  {
   "cell_type": "code",
   "execution_count": 17,
   "metadata": {},
   "outputs": [],
   "source": [
    "frames = [low_revenue,medium_revenue,avg_revenue,high_revenue]\n",
    "Churn_df = pd.concat(frames)"
   ]
  },
  {
   "cell_type": "code",
   "execution_count": 18,
   "metadata": {},
   "outputs": [
    {
     "data": {
      "text/html": [
       "<div>\n",
       "<style scoped>\n",
       "    .dataframe tbody tr th:only-of-type {\n",
       "        vertical-align: middle;\n",
       "    }\n",
       "\n",
       "    .dataframe tbody tr th {\n",
       "        vertical-align: top;\n",
       "    }\n",
       "\n",
       "    .dataframe thead th {\n",
       "        text-align: right;\n",
       "    }\n",
       "</style>\n",
       "<table border=\"1\" class=\"dataframe\">\n",
       "  <thead>\n",
       "    <tr style=\"text-align: right;\">\n",
       "      <th></th>\n",
       "      <th>No</th>\n",
       "      <th>Cust Type</th>\n",
       "      <th>Customer No.</th>\n",
       "      <th>Gate Pass Time</th>\n",
       "      <th>Invoice No</th>\n",
       "      <th>Job Card No</th>\n",
       "      <th>KMs Reading</th>\n",
       "      <th>Labour Total</th>\n",
       "      <th>Make</th>\n",
       "      <th>Misc Total</th>\n",
       "      <th>...</th>\n",
       "      <th>Partner Type</th>\n",
       "      <th>Data Origin</th>\n",
       "      <th>DBM Order</th>\n",
       "      <th>Item Category</th>\n",
       "      <th>Net value</th>\n",
       "      <th>Order Quantity</th>\n",
       "      <th>Regn No</th>\n",
       "      <th>year</th>\n",
       "      <th>month</th>\n",
       "      <th>Customer_Value</th>\n",
       "    </tr>\n",
       "  </thead>\n",
       "  <tbody>\n",
       "    <tr>\n",
       "      <td>936040</td>\n",
       "      <td>936040</td>\n",
       "      <td>Retail</td>\n",
       "      <td>183197</td>\n",
       "      <td>00:00:00</td>\n",
       "      <td>7209400152</td>\n",
       "      <td>370676</td>\n",
       "      <td>210962</td>\n",
       "      <td>13320.06</td>\n",
       "      <td>TATA MOTORS</td>\n",
       "      <td>2200.02</td>\n",
       "      <td>...</td>\n",
       "      <td>NaN</td>\n",
       "      <td>NaN</td>\n",
       "      <td>370676.0</td>\n",
       "      <td>P001</td>\n",
       "      <td>26640.12</td>\n",
       "      <td>4696.0</td>\n",
       "      <td>NaN</td>\n",
       "      <td>2016</td>\n",
       "      <td>6</td>\n",
       "      <td>3</td>\n",
       "    </tr>\n",
       "    <tr>\n",
       "      <td>936041</td>\n",
       "      <td>936041</td>\n",
       "      <td>Retail</td>\n",
       "      <td>183197</td>\n",
       "      <td>00:00:00</td>\n",
       "      <td>7209400152</td>\n",
       "      <td>370676</td>\n",
       "      <td>210962</td>\n",
       "      <td>13320.06</td>\n",
       "      <td>TATA MOTORS</td>\n",
       "      <td>2200.02</td>\n",
       "      <td>...</td>\n",
       "      <td>NaN</td>\n",
       "      <td>NaN</td>\n",
       "      <td>370676.0</td>\n",
       "      <td>P002</td>\n",
       "      <td>67259.96</td>\n",
       "      <td>100.0</td>\n",
       "      <td>NaN</td>\n",
       "      <td>2016</td>\n",
       "      <td>6</td>\n",
       "      <td>3</td>\n",
       "    </tr>\n",
       "    <tr>\n",
       "      <td>936042</td>\n",
       "      <td>936042</td>\n",
       "      <td>Retail</td>\n",
       "      <td>183197</td>\n",
       "      <td>00:00:00</td>\n",
       "      <td>7209400152</td>\n",
       "      <td>370676</td>\n",
       "      <td>210962</td>\n",
       "      <td>13320.06</td>\n",
       "      <td>TATA MOTORS</td>\n",
       "      <td>2200.02</td>\n",
       "      <td>...</td>\n",
       "      <td>NaN</td>\n",
       "      <td>NaN</td>\n",
       "      <td>370676.0</td>\n",
       "      <td>P011</td>\n",
       "      <td>4400.04</td>\n",
       "      <td>2.0</td>\n",
       "      <td>NaN</td>\n",
       "      <td>2016</td>\n",
       "      <td>6</td>\n",
       "      <td>3</td>\n",
       "    </tr>\n",
       "    <tr>\n",
       "      <td>936043</td>\n",
       "      <td>936043</td>\n",
       "      <td>Retail</td>\n",
       "      <td>193456</td>\n",
       "      <td>00:00:00</td>\n",
       "      <td>7209400153</td>\n",
       "      <td>382547</td>\n",
       "      <td>76326</td>\n",
       "      <td>3902.00</td>\n",
       "      <td>MARUTI SUZUKI</td>\n",
       "      <td>0.00</td>\n",
       "      <td>...</td>\n",
       "      <td>NaN</td>\n",
       "      <td>NaN</td>\n",
       "      <td>382547.0</td>\n",
       "      <td>P001</td>\n",
       "      <td>7804.00</td>\n",
       "      <td>796.0</td>\n",
       "      <td>NaN</td>\n",
       "      <td>2016</td>\n",
       "      <td>6</td>\n",
       "      <td>3</td>\n",
       "    </tr>\n",
       "    <tr>\n",
       "      <td>936044</td>\n",
       "      <td>936044</td>\n",
       "      <td>Retail</td>\n",
       "      <td>193456</td>\n",
       "      <td>00:00:00</td>\n",
       "      <td>7209400153</td>\n",
       "      <td>382547</td>\n",
       "      <td>76326</td>\n",
       "      <td>3902.00</td>\n",
       "      <td>MARUTI SUZUKI</td>\n",
       "      <td>0.00</td>\n",
       "      <td>...</td>\n",
       "      <td>NaN</td>\n",
       "      <td>NaN</td>\n",
       "      <td>382547.0</td>\n",
       "      <td>P002</td>\n",
       "      <td>62274.88</td>\n",
       "      <td>428.6</td>\n",
       "      <td>NaN</td>\n",
       "      <td>2016</td>\n",
       "      <td>6</td>\n",
       "      <td>3</td>\n",
       "    </tr>\n",
       "  </tbody>\n",
       "</table>\n",
       "<p>5 rows × 38 columns</p>\n",
       "</div>"
      ],
      "text/plain": [
       "            No Cust Type Customer No. Gate Pass Time  Invoice No  Job Card No  \\\n",
       "936040  936040    Retail       183197       00:00:00  7209400152       370676   \n",
       "936041  936041    Retail       183197       00:00:00  7209400152       370676   \n",
       "936042  936042    Retail       183197       00:00:00  7209400152       370676   \n",
       "936043  936043    Retail       193456       00:00:00  7209400153       382547   \n",
       "936044  936044    Retail       193456       00:00:00  7209400153       382547   \n",
       "\n",
       "        KMs Reading  Labour Total           Make  Misc Total  ...  \\\n",
       "936040       210962      13320.06    TATA MOTORS     2200.02  ...   \n",
       "936041       210962      13320.06    TATA MOTORS     2200.02  ...   \n",
       "936042       210962      13320.06    TATA MOTORS     2200.02  ...   \n",
       "936043        76326       3902.00  MARUTI SUZUKI        0.00  ...   \n",
       "936044        76326       3902.00  MARUTI SUZUKI        0.00  ...   \n",
       "\n",
       "       Partner Type  Data Origin DBM Order  Item Category  Net value  \\\n",
       "936040          NaN          NaN  370676.0           P001   26640.12   \n",
       "936041          NaN          NaN  370676.0           P002   67259.96   \n",
       "936042          NaN          NaN  370676.0           P011    4400.04   \n",
       "936043          NaN          NaN  382547.0           P001    7804.00   \n",
       "936044          NaN          NaN  382547.0           P002   62274.88   \n",
       "\n",
       "       Order Quantity Regn No  year  month  Customer_Value  \n",
       "936040         4696.0     NaN  2016      6               3  \n",
       "936041          100.0     NaN  2016      6               3  \n",
       "936042            2.0     NaN  2016      6               3  \n",
       "936043          796.0     NaN  2016      6               3  \n",
       "936044          428.6     NaN  2016      6               3  \n",
       "\n",
       "[5 rows x 38 columns]"
      ]
     },
     "execution_count": 18,
     "metadata": {},
     "output_type": "execute_result"
    }
   ],
   "source": [
    "Churn_df.tail()"
   ]
  },
  {
   "cell_type": "code",
   "execution_count": 19,
   "metadata": {},
   "outputs": [],
   "source": [
    "Churn_df.to_csv('ChurnChurn.csv')"
   ]
  },
  {
   "cell_type": "code",
   "execution_count": 20,
   "metadata": {},
   "outputs": [
    {
     "data": {
      "text/plain": [
       "Index(['No', 'Cust Type', 'Customer No.', 'Gate Pass Time', 'Invoice No',\n",
       "       'Job Card No', 'KMs Reading', 'Labour Total', 'Make', 'Misc Total',\n",
       "       'Model', 'OSL Total', 'Order Type', 'Parts Total', 'Pin code', 'Plant',\n",
       "       'Plant Name1', 'Print Status', 'Recovrbl Exp', 'Total Amt Wtd Tax.',\n",
       "       'User ID', 'Invoice_DateTime', 'JobCard_DateTime', 'Service_Time',\n",
       "       'Clean_CITY', 'Clean_District', 'Clean_Location_Area',\n",
       "       'Business Partner', 'Partner Type', 'Data Origin', 'DBM Order',\n",
       "       'Item Category', 'Net value', 'Order Quantity', 'Regn No', 'year',\n",
       "       'month', 'Customer_Value'],\n",
       "      dtype='object')"
      ]
     },
     "execution_count": 20,
     "metadata": {},
     "output_type": "execute_result"
    }
   ],
   "source": [
    "Churn_df.columns"
   ]
  },
  {
   "cell_type": "code",
   "execution_count": 21,
   "metadata": {},
   "outputs": [],
   "source": [
    "new_df = Churn_df \n",
    "# super fast service (less than 0.50 quantile)\n",
    "New = new_df[new_df['KMs Reading']< new_df['KMs Reading'].quantile(0.1)]\n",
    "\n",
    "# fast service (between 0.50 to 0.75 quantile)\n",
    "New_Mid = new_df[\n",
    "                (new_df['KMs Reading']> new_df['KMs Reading'].quantile(0.1)) & \n",
    "                (new_df['KMs Reading']< new_df['KMs Reading'].quantile(0.2))\n",
    "                ]\n",
    "\n",
    "# slow service (between 0.75 to 0.95 quantile)\n",
    "Mid_Old = new_df[\n",
    "                (new_df['KMs Reading'] > new_df['KMs Reading'].quantile(0.2)) & \n",
    "                (new_df['KMs Reading'] < new_df['KMs Reading'].quantile(0.5))\n",
    "                ]\n",
    "\n",
    "# super fast service (more than 0.95 quantile)\n",
    "Old = new_df[new_df['KMs Reading'] > new_df['KMs Reading'].quantile(0.5)]"
   ]
  },
  {
   "cell_type": "code",
   "execution_count": 22,
   "metadata": {},
   "outputs": [
    {
     "data": {
      "text/plain": [
       "468134"
      ]
     },
     "execution_count": 22,
     "metadata": {},
     "output_type": "execute_result"
    }
   ],
   "source": [
    "len(Old)"
   ]
  },
  {
   "cell_type": "code",
   "execution_count": 23,
   "metadata": {},
   "outputs": [],
   "source": [
    "New['Car Life'] = 'New Car'"
   ]
  },
  {
   "cell_type": "code",
   "execution_count": 24,
   "metadata": {},
   "outputs": [],
   "source": [
    "New_Mid['Car Life'] = 'New Mid Car'"
   ]
  },
  {
   "cell_type": "code",
   "execution_count": 25,
   "metadata": {},
   "outputs": [],
   "source": [
    "Mid_Old['Car Life'] = 'Mid Old Car'"
   ]
  },
  {
   "cell_type": "code",
   "execution_count": 26,
   "metadata": {},
   "outputs": [],
   "source": [
    "Old['Car Life'] = 'Old Car'"
   ]
  },
  {
   "cell_type": "code",
   "execution_count": 27,
   "metadata": {},
   "outputs": [],
   "source": [
    "Cars = [New, New_Mid, Mid_Old, Old]\n",
    "Advanced_df = pd.concat(Cars)"
   ]
  },
  {
   "cell_type": "code",
   "execution_count": 28,
   "metadata": {},
   "outputs": [
    {
     "data": {
      "text/html": [
       "<div>\n",
       "<style scoped>\n",
       "    .dataframe tbody tr th:only-of-type {\n",
       "        vertical-align: middle;\n",
       "    }\n",
       "\n",
       "    .dataframe tbody tr th {\n",
       "        vertical-align: top;\n",
       "    }\n",
       "\n",
       "    .dataframe thead th {\n",
       "        text-align: right;\n",
       "    }\n",
       "</style>\n",
       "<table border=\"1\" class=\"dataframe\">\n",
       "  <thead>\n",
       "    <tr style=\"text-align: right;\">\n",
       "      <th></th>\n",
       "      <th>No</th>\n",
       "      <th>Cust Type</th>\n",
       "      <th>Customer No.</th>\n",
       "      <th>Gate Pass Time</th>\n",
       "      <th>Invoice No</th>\n",
       "      <th>Job Card No</th>\n",
       "      <th>KMs Reading</th>\n",
       "      <th>Labour Total</th>\n",
       "      <th>Make</th>\n",
       "      <th>Misc Total</th>\n",
       "      <th>...</th>\n",
       "      <th>Data Origin</th>\n",
       "      <th>DBM Order</th>\n",
       "      <th>Item Category</th>\n",
       "      <th>Net value</th>\n",
       "      <th>Order Quantity</th>\n",
       "      <th>Regn No</th>\n",
       "      <th>year</th>\n",
       "      <th>month</th>\n",
       "      <th>Customer_Value</th>\n",
       "      <th>Car Life</th>\n",
       "    </tr>\n",
       "  </thead>\n",
       "  <tbody>\n",
       "    <tr>\n",
       "      <td>936040</td>\n",
       "      <td>936040</td>\n",
       "      <td>Retail</td>\n",
       "      <td>183197</td>\n",
       "      <td>00:00:00</td>\n",
       "      <td>7209400152</td>\n",
       "      <td>370676</td>\n",
       "      <td>210962</td>\n",
       "      <td>13320.06</td>\n",
       "      <td>TATA MOTORS</td>\n",
       "      <td>2200.02</td>\n",
       "      <td>...</td>\n",
       "      <td>NaN</td>\n",
       "      <td>370676.0</td>\n",
       "      <td>P001</td>\n",
       "      <td>26640.12</td>\n",
       "      <td>4696.0</td>\n",
       "      <td>NaN</td>\n",
       "      <td>2016</td>\n",
       "      <td>6</td>\n",
       "      <td>3</td>\n",
       "      <td>Old Car</td>\n",
       "    </tr>\n",
       "    <tr>\n",
       "      <td>936041</td>\n",
       "      <td>936041</td>\n",
       "      <td>Retail</td>\n",
       "      <td>183197</td>\n",
       "      <td>00:00:00</td>\n",
       "      <td>7209400152</td>\n",
       "      <td>370676</td>\n",
       "      <td>210962</td>\n",
       "      <td>13320.06</td>\n",
       "      <td>TATA MOTORS</td>\n",
       "      <td>2200.02</td>\n",
       "      <td>...</td>\n",
       "      <td>NaN</td>\n",
       "      <td>370676.0</td>\n",
       "      <td>P002</td>\n",
       "      <td>67259.96</td>\n",
       "      <td>100.0</td>\n",
       "      <td>NaN</td>\n",
       "      <td>2016</td>\n",
       "      <td>6</td>\n",
       "      <td>3</td>\n",
       "      <td>Old Car</td>\n",
       "    </tr>\n",
       "    <tr>\n",
       "      <td>936042</td>\n",
       "      <td>936042</td>\n",
       "      <td>Retail</td>\n",
       "      <td>183197</td>\n",
       "      <td>00:00:00</td>\n",
       "      <td>7209400152</td>\n",
       "      <td>370676</td>\n",
       "      <td>210962</td>\n",
       "      <td>13320.06</td>\n",
       "      <td>TATA MOTORS</td>\n",
       "      <td>2200.02</td>\n",
       "      <td>...</td>\n",
       "      <td>NaN</td>\n",
       "      <td>370676.0</td>\n",
       "      <td>P011</td>\n",
       "      <td>4400.04</td>\n",
       "      <td>2.0</td>\n",
       "      <td>NaN</td>\n",
       "      <td>2016</td>\n",
       "      <td>6</td>\n",
       "      <td>3</td>\n",
       "      <td>Old Car</td>\n",
       "    </tr>\n",
       "    <tr>\n",
       "      <td>936043</td>\n",
       "      <td>936043</td>\n",
       "      <td>Retail</td>\n",
       "      <td>193456</td>\n",
       "      <td>00:00:00</td>\n",
       "      <td>7209400153</td>\n",
       "      <td>382547</td>\n",
       "      <td>76326</td>\n",
       "      <td>3902.00</td>\n",
       "      <td>MARUTI SUZUKI</td>\n",
       "      <td>0.00</td>\n",
       "      <td>...</td>\n",
       "      <td>NaN</td>\n",
       "      <td>382547.0</td>\n",
       "      <td>P001</td>\n",
       "      <td>7804.00</td>\n",
       "      <td>796.0</td>\n",
       "      <td>NaN</td>\n",
       "      <td>2016</td>\n",
       "      <td>6</td>\n",
       "      <td>3</td>\n",
       "      <td>Old Car</td>\n",
       "    </tr>\n",
       "    <tr>\n",
       "      <td>936044</td>\n",
       "      <td>936044</td>\n",
       "      <td>Retail</td>\n",
       "      <td>193456</td>\n",
       "      <td>00:00:00</td>\n",
       "      <td>7209400153</td>\n",
       "      <td>382547</td>\n",
       "      <td>76326</td>\n",
       "      <td>3902.00</td>\n",
       "      <td>MARUTI SUZUKI</td>\n",
       "      <td>0.00</td>\n",
       "      <td>...</td>\n",
       "      <td>NaN</td>\n",
       "      <td>382547.0</td>\n",
       "      <td>P002</td>\n",
       "      <td>62274.88</td>\n",
       "      <td>428.6</td>\n",
       "      <td>NaN</td>\n",
       "      <td>2016</td>\n",
       "      <td>6</td>\n",
       "      <td>3</td>\n",
       "      <td>Old Car</td>\n",
       "    </tr>\n",
       "  </tbody>\n",
       "</table>\n",
       "<p>5 rows × 39 columns</p>\n",
       "</div>"
      ],
      "text/plain": [
       "            No Cust Type Customer No. Gate Pass Time  Invoice No  Job Card No  \\\n",
       "936040  936040    Retail       183197       00:00:00  7209400152       370676   \n",
       "936041  936041    Retail       183197       00:00:00  7209400152       370676   \n",
       "936042  936042    Retail       183197       00:00:00  7209400152       370676   \n",
       "936043  936043    Retail       193456       00:00:00  7209400153       382547   \n",
       "936044  936044    Retail       193456       00:00:00  7209400153       382547   \n",
       "\n",
       "        KMs Reading  Labour Total           Make  Misc Total  ... Data Origin  \\\n",
       "936040       210962      13320.06    TATA MOTORS     2200.02  ...         NaN   \n",
       "936041       210962      13320.06    TATA MOTORS     2200.02  ...         NaN   \n",
       "936042       210962      13320.06    TATA MOTORS     2200.02  ...         NaN   \n",
       "936043        76326       3902.00  MARUTI SUZUKI        0.00  ...         NaN   \n",
       "936044        76326       3902.00  MARUTI SUZUKI        0.00  ...         NaN   \n",
       "\n",
       "        DBM Order Item Category  Net value  Order Quantity Regn No  year  \\\n",
       "936040   370676.0          P001   26640.12          4696.0     NaN  2016   \n",
       "936041   370676.0          P002   67259.96           100.0     NaN  2016   \n",
       "936042   370676.0          P011    4400.04             2.0     NaN  2016   \n",
       "936043   382547.0          P001    7804.00           796.0     NaN  2016   \n",
       "936044   382547.0          P002   62274.88           428.6     NaN  2016   \n",
       "\n",
       "       month  Customer_Value  Car Life  \n",
       "936040     6               3   Old Car  \n",
       "936041     6               3   Old Car  \n",
       "936042     6               3   Old Car  \n",
       "936043     6               3   Old Car  \n",
       "936044     6               3   Old Car  \n",
       "\n",
       "[5 rows x 39 columns]"
      ]
     },
     "execution_count": 28,
     "metadata": {},
     "output_type": "execute_result"
    }
   ],
   "source": [
    "Advanced_df.tail()"
   ]
  },
  {
   "cell_type": "code",
   "execution_count": 29,
   "metadata": {},
   "outputs": [],
   "source": [
    "df2 = Advanced_df\n",
    "ax = df2.loc[(df2['month'] == 3)|(df2['month'] == 4)|(df2['month'] == 5)]\n",
    "ax1 = df2.loc[(df2['month'] == 10)|(df2['month'] == 11)]\n",
    "ax2 = df2.loc[(df2['month'] == 6)|(df2['month'] == 7)|(df2['month'] == 8)|(df2['month'] == 9)]\n",
    "ax3 = df2.loc[(df2['month'] == 12)|(df2['month'] == 1)|(df2['month'] == 2)]\n"
   ]
  },
  {
   "cell_type": "code",
   "execution_count": 30,
   "metadata": {},
   "outputs": [],
   "source": [
    "ax['Season'] = 'Summer'"
   ]
  },
  {
   "cell_type": "code",
   "execution_count": 31,
   "metadata": {},
   "outputs": [],
   "source": [
    "ax1['Season'] = 'Post Monsoon'"
   ]
  },
  {
   "cell_type": "code",
   "execution_count": 32,
   "metadata": {},
   "outputs": [],
   "source": [
    "ax2['Season'] = 'Rainy'"
   ]
  },
  {
   "cell_type": "code",
   "execution_count": 33,
   "metadata": {},
   "outputs": [],
   "source": [
    "ax3['Season'] = 'Winter'"
   ]
  },
  {
   "cell_type": "code",
   "execution_count": 34,
   "metadata": {},
   "outputs": [
    {
     "data": {
      "text/plain": [
       "162537"
      ]
     },
     "execution_count": 34,
     "metadata": {},
     "output_type": "execute_result"
    }
   ],
   "source": [
    "len(ax1)"
   ]
  },
  {
   "cell_type": "code",
   "execution_count": 35,
   "metadata": {},
   "outputs": [],
   "source": [
    "Season = [ax, ax1, ax2, ax3]\n",
    "Advanced_df = pd.concat(Season, sort = False)"
   ]
  },
  {
   "cell_type": "code",
   "execution_count": 36,
   "metadata": {},
   "outputs": [
    {
     "data": {
      "text/html": [
       "<div>\n",
       "<style scoped>\n",
       "    .dataframe tbody tr th:only-of-type {\n",
       "        vertical-align: middle;\n",
       "    }\n",
       "\n",
       "    .dataframe tbody tr th {\n",
       "        vertical-align: top;\n",
       "    }\n",
       "\n",
       "    .dataframe thead th {\n",
       "        text-align: right;\n",
       "    }\n",
       "</style>\n",
       "<table border=\"1\" class=\"dataframe\">\n",
       "  <thead>\n",
       "    <tr style=\"text-align: right;\">\n",
       "      <th></th>\n",
       "      <th>No</th>\n",
       "      <th>Cust Type</th>\n",
       "      <th>Customer No.</th>\n",
       "      <th>Gate Pass Time</th>\n",
       "      <th>Invoice No</th>\n",
       "      <th>Job Card No</th>\n",
       "      <th>KMs Reading</th>\n",
       "      <th>Labour Total</th>\n",
       "      <th>Make</th>\n",
       "      <th>Misc Total</th>\n",
       "      <th>...</th>\n",
       "      <th>DBM Order</th>\n",
       "      <th>Item Category</th>\n",
       "      <th>Net value</th>\n",
       "      <th>Order Quantity</th>\n",
       "      <th>Regn No</th>\n",
       "      <th>year</th>\n",
       "      <th>month</th>\n",
       "      <th>Customer_Value</th>\n",
       "      <th>Car Life</th>\n",
       "      <th>Season</th>\n",
       "    </tr>\n",
       "  </thead>\n",
       "  <tbody>\n",
       "    <tr>\n",
       "      <td>13</td>\n",
       "      <td>13</td>\n",
       "      <td>Retail</td>\n",
       "      <td>84457</td>\n",
       "      <td>00:00:00</td>\n",
       "      <td>7005200007</td>\n",
       "      <td>174053</td>\n",
       "      <td>13122</td>\n",
       "      <td>0.0</td>\n",
       "      <td>TOYOTA</td>\n",
       "      <td>0.0</td>\n",
       "      <td>...</td>\n",
       "      <td>174053.0</td>\n",
       "      <td>P002</td>\n",
       "      <td>14.22</td>\n",
       "      <td>2.0</td>\n",
       "      <td>MH04FR3603</td>\n",
       "      <td>2015</td>\n",
       "      <td>3</td>\n",
       "      <td>0</td>\n",
       "      <td>New Car</td>\n",
       "      <td>Summer</td>\n",
       "    </tr>\n",
       "    <tr>\n",
       "      <td>14</td>\n",
       "      <td>14</td>\n",
       "      <td>Retail</td>\n",
       "      <td>84457</td>\n",
       "      <td>00:00:00</td>\n",
       "      <td>7005200007</td>\n",
       "      <td>174053</td>\n",
       "      <td>13122</td>\n",
       "      <td>0.0</td>\n",
       "      <td>TOYOTA</td>\n",
       "      <td>0.0</td>\n",
       "      <td>...</td>\n",
       "      <td>174053.0</td>\n",
       "      <td>P010</td>\n",
       "      <td>851.70</td>\n",
       "      <td>1.0</td>\n",
       "      <td>MH04AF2323</td>\n",
       "      <td>2015</td>\n",
       "      <td>3</td>\n",
       "      <td>0</td>\n",
       "      <td>New Car</td>\n",
       "      <td>Summer</td>\n",
       "    </tr>\n",
       "    <tr>\n",
       "      <td>16</td>\n",
       "      <td>16</td>\n",
       "      <td>Retail</td>\n",
       "      <td>55220</td>\n",
       "      <td>00:00:00</td>\n",
       "      <td>7005200009</td>\n",
       "      <td>174254</td>\n",
       "      <td>12943</td>\n",
       "      <td>0.0</td>\n",
       "      <td>MARUTI SUZUKI</td>\n",
       "      <td>0.0</td>\n",
       "      <td>...</td>\n",
       "      <td>174254.0</td>\n",
       "      <td>P001</td>\n",
       "      <td>0.00</td>\n",
       "      <td>84.0</td>\n",
       "      <td>MH04EF5050</td>\n",
       "      <td>2015</td>\n",
       "      <td>3</td>\n",
       "      <td>0</td>\n",
       "      <td>New Car</td>\n",
       "      <td>Summer</td>\n",
       "    </tr>\n",
       "    <tr>\n",
       "      <td>17</td>\n",
       "      <td>17</td>\n",
       "      <td>Retail</td>\n",
       "      <td>84511</td>\n",
       "      <td>00:00:00</td>\n",
       "      <td>7005200010</td>\n",
       "      <td>174162</td>\n",
       "      <td>18563</td>\n",
       "      <td>0.0</td>\n",
       "      <td>TATA MOTORS</td>\n",
       "      <td>0.0</td>\n",
       "      <td>...</td>\n",
       "      <td>174162.0</td>\n",
       "      <td>P001</td>\n",
       "      <td>0.00</td>\n",
       "      <td>85.0</td>\n",
       "      <td>MH03AR655</td>\n",
       "      <td>2015</td>\n",
       "      <td>3</td>\n",
       "      <td>0</td>\n",
       "      <td>New Car</td>\n",
       "      <td>Summer</td>\n",
       "    </tr>\n",
       "    <tr>\n",
       "      <td>22</td>\n",
       "      <td>22</td>\n",
       "      <td>Retail</td>\n",
       "      <td>41390</td>\n",
       "      <td>00:00:00</td>\n",
       "      <td>7005200012</td>\n",
       "      <td>174324</td>\n",
       "      <td>5635</td>\n",
       "      <td>0.0</td>\n",
       "      <td>MARUTI SUZUKI</td>\n",
       "      <td>0.0</td>\n",
       "      <td>...</td>\n",
       "      <td>174324.0</td>\n",
       "      <td>P001</td>\n",
       "      <td>0.00</td>\n",
       "      <td>1.0</td>\n",
       "      <td>MH04ED646</td>\n",
       "      <td>2015</td>\n",
       "      <td>3</td>\n",
       "      <td>0</td>\n",
       "      <td>New Car</td>\n",
       "      <td>Summer</td>\n",
       "    </tr>\n",
       "  </tbody>\n",
       "</table>\n",
       "<p>5 rows × 40 columns</p>\n",
       "</div>"
      ],
      "text/plain": [
       "    No Cust Type Customer No. Gate Pass Time  Invoice No  Job Card No  \\\n",
       "13  13    Retail        84457       00:00:00  7005200007       174053   \n",
       "14  14    Retail        84457       00:00:00  7005200007       174053   \n",
       "16  16    Retail        55220       00:00:00  7005200009       174254   \n",
       "17  17    Retail        84511       00:00:00  7005200010       174162   \n",
       "22  22    Retail        41390       00:00:00  7005200012       174324   \n",
       "\n",
       "    KMs Reading  Labour Total           Make  Misc Total  ... DBM Order  \\\n",
       "13        13122           0.0         TOYOTA         0.0  ...  174053.0   \n",
       "14        13122           0.0         TOYOTA         0.0  ...  174053.0   \n",
       "16        12943           0.0  MARUTI SUZUKI         0.0  ...  174254.0   \n",
       "17        18563           0.0    TATA MOTORS         0.0  ...  174162.0   \n",
       "22         5635           0.0  MARUTI SUZUKI         0.0  ...  174324.0   \n",
       "\n",
       "    Item Category Net value  Order Quantity     Regn No  year month  \\\n",
       "13           P002     14.22             2.0  MH04FR3603  2015     3   \n",
       "14           P010    851.70             1.0  MH04AF2323  2015     3   \n",
       "16           P001      0.00            84.0  MH04EF5050  2015     3   \n",
       "17           P001      0.00            85.0   MH03AR655  2015     3   \n",
       "22           P001      0.00             1.0   MH04ED646  2015     3   \n",
       "\n",
       "   Customer_Value  Car Life  Season  \n",
       "13              0   New Car  Summer  \n",
       "14              0   New Car  Summer  \n",
       "16              0   New Car  Summer  \n",
       "17              0   New Car  Summer  \n",
       "22              0   New Car  Summer  \n",
       "\n",
       "[5 rows x 40 columns]"
      ]
     },
     "execution_count": 36,
     "metadata": {},
     "output_type": "execute_result"
    }
   ],
   "source": [
    "Advanced_df.head()"
   ]
  },
  {
   "cell_type": "code",
   "execution_count": 37,
   "metadata": {},
   "outputs": [
    {
     "data": {
      "text/plain": [
       "Rainy           350196\n",
       "Summer          227795\n",
       "Winter          195717\n",
       "Post Monsoon    162537\n",
       "Name: Season, dtype: int64"
      ]
     },
     "execution_count": 37,
     "metadata": {},
     "output_type": "execute_result"
    }
   ],
   "source": [
    "Advanced_df['Season'].value_counts()"
   ]
  },
  {
   "cell_type": "code",
   "execution_count": null,
   "metadata": {},
   "outputs": [],
   "source": []
  },
  {
   "cell_type": "code",
   "execution_count": 38,
   "metadata": {},
   "outputs": [
    {
     "data": {
      "text/plain": [
       "Index(['No', 'Cust Type', 'Customer No.', 'Gate Pass Time', 'Invoice No',\n",
       "       'Job Card No', 'KMs Reading', 'Labour Total', 'Make', 'Misc Total',\n",
       "       'Model', 'OSL Total', 'Order Type', 'Parts Total', 'Pin code', 'Plant',\n",
       "       'Plant Name1', 'Print Status', 'Recovrbl Exp', 'Total Amt Wtd Tax.',\n",
       "       'User ID', 'Invoice_DateTime', 'JobCard_DateTime', 'Service_Time',\n",
       "       'Clean_CITY', 'Clean_District', 'Clean_Location_Area',\n",
       "       'Business Partner', 'Partner Type', 'Data Origin', 'DBM Order',\n",
       "       'Item Category', 'Net value', 'Order Quantity', 'Regn No', 'year',\n",
       "       'month', 'Customer_Value', 'Car Life', 'Season'],\n",
       "      dtype='object')"
      ]
     },
     "execution_count": 38,
     "metadata": {},
     "output_type": "execute_result"
    }
   ],
   "source": [
    "Advanced_df.columns"
   ]
  },
  {
   "cell_type": "code",
   "execution_count": 132,
   "metadata": {},
   "outputs": [],
   "source": [
    "Advanced_df.to_csv('Advanced_df.csv')"
   ]
  },
  {
   "cell_type": "code",
   "execution_count": 41,
   "metadata": {},
   "outputs": [
    {
     "data": {
      "text/plain": [
       "0.00        74414\n",
       "50.00       15983\n",
       "100.00      10430\n",
       "200.00       7473\n",
       "0.01         6481\n",
       "            ...  \n",
       "26347.34        1\n",
       "11024.99        1\n",
       "13439.74        1\n",
       "976.12          1\n",
       "404.86          1\n",
       "Name: Net value, Length: 321139, dtype: int64"
      ]
     },
     "execution_count": 41,
     "metadata": {},
     "output_type": "execute_result"
    }
   ],
   "source": [
    "Advanced_df['Net value'].value_counts()"
   ]
  },
  {
   "cell_type": "code",
   "execution_count": 44,
   "metadata": {},
   "outputs": [
    {
     "data": {
      "text/plain": [
       "0    468123\n",
       "1    234058\n",
       "2    187251\n",
       "3     46813\n",
       "Name: Customer_Value, dtype: int64"
      ]
     },
     "execution_count": 44,
     "metadata": {},
     "output_type": "execute_result"
    }
   ],
   "source": [
    "Advanced_df['Customer_Value'].value_counts()"
   ]
  },
  {
   "cell_type": "code",
   "execution_count": 47,
   "metadata": {},
   "outputs": [
    {
     "data": {
      "text/plain": [
       "13        P002\n",
       "14        P010\n",
       "16        P001\n",
       "17        P001\n",
       "22        P001\n",
       "          ... \n",
       "912671    P002\n",
       "913305    P001\n",
       "913306    P002\n",
       "913307    P010\n",
       "913308    P011\n",
       "Name: Item Category, Length: 936245, dtype: object"
      ]
     },
     "execution_count": 47,
     "metadata": {},
     "output_type": "execute_result"
    }
   ],
   "source": [
    "Advanced_df['Item Category']"
   ]
  },
  {
   "cell_type": "code",
   "execution_count": null,
   "metadata": {},
   "outputs": [],
   "source": []
  },
  {
   "cell_type": "code",
   "execution_count": null,
   "metadata": {},
   "outputs": [],
   "source": []
  }
 ],
 "metadata": {
  "kernelspec": {
   "display_name": "Python 3",
   "language": "python",
   "name": "python3"
  },
  "language_info": {
   "codemirror_mode": {
    "name": "ipython",
    "version": 3
   },
   "file_extension": ".py",
   "mimetype": "text/x-python",
   "name": "python",
   "nbconvert_exporter": "python",
   "pygments_lexer": "ipython3",
   "version": "3.7.3"
  }
 },
 "nbformat": 4,
 "nbformat_minor": 2
}
